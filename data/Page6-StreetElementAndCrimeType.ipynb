{
 "cells": [
  {
   "cell_type": "code",
   "execution_count": 4,
   "id": "68ed2342",
   "metadata": {},
   "outputs": [],
   "source": [
    "import altair as alt\n",
    "import pandas as pd\n",
    "from altair import datum"
   ]
  },
  {
   "cell_type": "code",
   "execution_count": 2,
   "id": "bbe665eb",
   "metadata": {},
   "outputs": [],
   "source": [
    "selectCrime2 = pd.read_csv(\"selectCrime2.csv\")"
   ]
  },
  {
   "cell_type": "code",
   "execution_count": 5,
   "id": "363c2d75",
   "metadata": {},
   "outputs": [
    {
     "data": {
      "text/html": [
       "\n",
       "<div id=\"altair-viz-8f00ae5ae43d4ec0ba35a53aa8eb524d\"></div>\n",
       "<script type=\"text/javascript\">\n",
       "  (function(spec, embedOpt){\n",
       "    let outputDiv = document.currentScript.previousElementSibling;\n",
       "    if (outputDiv.id !== \"altair-viz-8f00ae5ae43d4ec0ba35a53aa8eb524d\") {\n",
       "      outputDiv = document.getElementById(\"altair-viz-8f00ae5ae43d4ec0ba35a53aa8eb524d\");\n",
       "    }\n",
       "    const paths = {\n",
       "      \"vega\": \"https://cdn.jsdelivr.net/npm//vega@5?noext\",\n",
       "      \"vega-lib\": \"https://cdn.jsdelivr.net/npm//vega-lib?noext\",\n",
       "      \"vega-lite\": \"https://cdn.jsdelivr.net/npm//vega-lite@4.8.1?noext\",\n",
       "      \"vega-embed\": \"https://cdn.jsdelivr.net/npm//vega-embed@6?noext\",\n",
       "    };\n",
       "\n",
       "    function loadScript(lib) {\n",
       "      return new Promise(function(resolve, reject) {\n",
       "        var s = document.createElement('script');\n",
       "        s.src = paths[lib];\n",
       "        s.async = true;\n",
       "        s.onload = () => resolve(paths[lib]);\n",
       "        s.onerror = () => reject(`Error loading script: ${paths[lib]}`);\n",
       "        document.getElementsByTagName(\"head\")[0].appendChild(s);\n",
       "      });\n",
       "    }\n",
       "\n",
       "    function showError(err) {\n",
       "      outputDiv.innerHTML = `<div class=\"error\" style=\"color:red;\">${err}</div>`;\n",
       "      throw err;\n",
       "    }\n",
       "\n",
       "    function displayChart(vegaEmbed) {\n",
       "      vegaEmbed(outputDiv, spec, embedOpt)\n",
       "        .catch(err => showError(`Javascript Error: ${err.message}<br>This usually means there's a typo in your chart specification. See the javascript console for the full traceback.`));\n",
       "    }\n",
       "\n",
       "    if(typeof define === \"function\" && define.amd) {\n",
       "      requirejs.config({paths});\n",
       "      require([\"vega-embed\"], displayChart, err => showError(`Error loading script: ${err.message}`));\n",
       "    } else if (typeof vegaEmbed === \"function\") {\n",
       "      displayChart(vegaEmbed);\n",
       "    } else {\n",
       "      loadScript(\"vega\")\n",
       "        .then(() => loadScript(\"vega-lite\"))\n",
       "        .then(() => loadScript(\"vega-embed\"))\n",
       "        .catch(showError)\n",
       "        .then(() => displayChart(vegaEmbed));\n",
       "    }\n",
       "  })({\"config\": {\"view\": {\"continuousWidth\": 400, \"continuousHeight\": 300, \"strokeWidth\": 0}}, \"data\": {\"url\": \"altair-data-3e3221fb019110c83d414f115c2fdb63.json\", \"format\": {\"type\": \"json\"}}, \"mark\": {\"type\": \"line\", \"size\": 0.5}, \"encoding\": {\"color\": {\"condition\": {\"type\": \"nominal\", \"field\": \"crimeType\", \"scale\": {\"scheme\": \"category20b\"}, \"selection\": \"selector002\"}, \"value\": \"lightgray\"}, \"detail\": {\"type\": \"nominal\", \"field\": \"index\"}, \"opacity\": {\"condition\": {\"value\": 1, \"selection\": \"selector002\"}, \"value\": 0.07}, \"x\": {\"type\": \"nominal\", \"axis\": {\"domain\": false, \"labelAngle\": 0, \"ticks\": false}, \"field\": \"key\", \"title\": \"Street Component\"}, \"y\": {\"type\": \"quantitative\", \"axis\": {\"domain\": false, \"ticks\": false}, \"field\": \"minmax_value\", \"title\": \"Normalized porportion\"}}, \"height\": 500, \"selection\": {\"selector002\": {\"type\": \"multi\", \"fields\": [\"crimeType\"], \"bind\": \"legend\"}, \"selector003\": {\"type\": \"interval\", \"bind\": \"scales\", \"encodings\": [\"x\", \"y\"]}}, \"title\": \"Relationship between street component and crime type\", \"transform\": [{\"window\": [{\"op\": \"count\", \"as\": \"index\"}]}, {\"fold\": [\"All\", \"wall\", \"lives\", \"building\", \"infrastructure\", \"road\", \"sidewalk\", \"sky\", \"green\", \"transportation\"]}, {\"joinaggregate\": [{\"op\": \"min\", \"field\": \"value\", \"as\": \"min\"}, {\"op\": \"max\", \"field\": \"value\", \"as\": \"max\"}], \"groupby\": [\"key\"]}, {\"calculate\": \"((datum.value - datum.min) / (datum.max - datum.min))\", \"as\": \"minmax_value\"}], \"width\": 1000, \"$schema\": \"https://vega.github.io/schema/vega-lite/v4.8.1.json\"}, {\"mode\": \"vega-lite\"});\n",
       "</script>"
      ],
      "text/plain": [
       "alt.Chart(...)"
      ]
     },
     "execution_count": 5,
     "metadata": {},
     "output_type": "execute_result"
    }
   ],
   "source": [
    "sampleCrime = selectCrime2.groupby('crimeType', group_keys=False).apply(lambda x: x.sample(min(len(x), 200)))\n",
    "alt.data_transformers.enable('json')\n",
    "\n",
    "selection = alt.selection_multi(fields=['crimeType'], bind='legend')\n",
    "\n",
    "chart=alt.Chart(sampleCrime).transform_window(\n",
    "    index='count()'\n",
    ").transform_fold(\n",
    "    ['All','wall', 'lives','building','infrastructure','road','sidewalk','sky','green','transportation']\n",
    ").transform_joinaggregate(\n",
    "     min='min(value)',\n",
    "     max='max(value)',\n",
    "     groupby=['key']\n",
    ").transform_calculate(\n",
    "    minmax_value=(datum.value-datum.min)/(datum.max-datum.min)\n",
    ").mark_line(size=0.5).encode(\n",
    "    x=alt.X('key:N',axis=alt.Axis(ticks=False, domain=False,labelAngle=0)),\n",
    "    y=alt.Y('minmax_value:Q',axis=alt.Axis(ticks=False, domain=False)),\n",
    "    color=alt.condition(selection,\n",
    "                        alt.Color('crimeType:N', scale=alt.Scale(scheme='category20b')),\n",
    "                        alt.value('lightgray')),   \n",
    "    opacity=alt.condition(selection, alt.value(1), alt.value(0.07)),   \n",
    "    detail='index:N',\n",
    ").properties(\n",
    "    width=1000,\n",
    "    height=500,\n",
    "    title=\"Relationship between street component and crime type\"\n",
    ").configure_view(\n",
    "    strokeWidth=0\n",
    ").add_selection(selection).interactive()\n",
    "\n",
    "chart.encoding.x.title = 'Street Component'\n",
    "chart.encoding.y.title = 'Normalized porportion'\n",
    "chart"
   ]
  },
  {
   "cell_type": "code",
   "execution_count": null,
   "id": "e1ccd2b3",
   "metadata": {},
   "outputs": [],
   "source": []
  }
 ],
 "metadata": {
  "kernelspec": {
   "display_name": "Python 3 (ipykernel)",
   "language": "python",
   "name": "python3"
  },
  "language_info": {
   "codemirror_mode": {
    "name": "ipython",
    "version": 3
   },
   "file_extension": ".py",
   "mimetype": "text/x-python",
   "name": "python",
   "nbconvert_exporter": "python",
   "pygments_lexer": "ipython3",
   "version": "3.8.12"
  }
 },
 "nbformat": 4,
 "nbformat_minor": 5
}
