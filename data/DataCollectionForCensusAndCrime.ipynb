{
 "cells": [
  {
   "cell_type": "markdown",
   "id": "fbb1bb35",
   "metadata": {},
   "source": [
    "# Census Data"
   ]
  },
  {
   "cell_type": "code",
   "execution_count": 406,
   "id": "e932fe7b",
   "metadata": {},
   "outputs": [],
   "source": [
    "import cenpy\n",
    "import pandas as pd\n",
    "import geopandas as gpd\n",
    "acs = cenpy.remote.APIConnection(\"ACSDT5Y2015\")"
   ]
  },
  {
   "cell_type": "code",
   "execution_count": 407,
   "id": "2d9b12c2",
   "metadata": {},
   "outputs": [],
   "source": [
    "censusRace = acs.query(\n",
    "    cols=[\"NAME\",\"B02001_001E\",\"B02001_002E\"],\n",
    "    geo_unit=\"block group:*\",\n",
    "    geo_filter={\n",
    "                \"state\" : \"42\", \n",
    "                \"county\" : \"101\"\n",
    "               },\n",
    ").rename(columns={\"B02001_001E\": \"totalPop\",\"B02001_002E\": \"whitePop\"}, errors=\"raise\")"
   ]
  },
  {
   "cell_type": "code",
   "execution_count": 408,
   "id": "42ef51cc",
   "metadata": {},
   "outputs": [
    {
     "name": "stderr",
     "output_type": "stream",
     "text": [
      "D:\\Miniconda_Python\\envs\\musa-550-fall-2021\\lib\\site-packages\\pyproj\\crs\\crs.py:68: FutureWarning: '+init=<authority>:<code>' syntax is deprecated. '<authority>:<code>' is the preferred initialization method. When making the change, be mindful of axis order changes: https://pyproj4.github.io/pyproj/stable/gotchas.html#axis-order-changes-in-proj-6\n",
      "  return _prepare_from_string(\" \".join(pjargs))\n"
     ]
    }
   ],
   "source": [
    "acs.set_mapservice(\"tigerWMS_ACS2015\")\n",
    "where_clause = \"STATE = 42 AND COUNTY = 101\"\n",
    "censusTract = acs.mapservice.layers[10].query(where=where_clause)\n",
    "censusTract = censusTract[[\"STATE\",\"COUNTY\",\"TRACT\",'BLKGRP',\"geometry\"]]\n",
    "censusTract = censusTract.to_crs(4326)"
   ]
  },
  {
   "cell_type": "code",
   "execution_count": 409,
   "id": "6bcb8c78",
   "metadata": {},
   "outputs": [
    {
     "data": {
      "text/plain": [
       "(1336, 5)"
      ]
     },
     "execution_count": 409,
     "metadata": {},
     "output_type": "execute_result"
    }
   ],
   "source": [
    "censusTract.shape"
   ]
  },
  {
   "cell_type": "code",
   "execution_count": 410,
   "id": "e9662f96",
   "metadata": {},
   "outputs": [
    {
     "data": {
      "text/html": [
       "<div>\n",
       "<style scoped>\n",
       "    .dataframe tbody tr th:only-of-type {\n",
       "        vertical-align: middle;\n",
       "    }\n",
       "\n",
       "    .dataframe tbody tr th {\n",
       "        vertical-align: top;\n",
       "    }\n",
       "\n",
       "    .dataframe thead th {\n",
       "        text-align: right;\n",
       "    }\n",
       "</style>\n",
       "<table border=\"1\" class=\"dataframe\">\n",
       "  <thead>\n",
       "    <tr style=\"text-align: right;\">\n",
       "      <th></th>\n",
       "      <th>NAME</th>\n",
       "      <th>totalPop</th>\n",
       "      <th>whitePop</th>\n",
       "      <th>state</th>\n",
       "      <th>county</th>\n",
       "      <th>tract</th>\n",
       "      <th>block group</th>\n",
       "      <th>whitePercep</th>\n",
       "      <th>nonwhitePercep</th>\n",
       "    </tr>\n",
       "  </thead>\n",
       "  <tbody>\n",
       "    <tr>\n",
       "      <th>0</th>\n",
       "      <td>Block Group 1, Census Tract 81.02, Philadelphi...</td>\n",
       "      <td>858</td>\n",
       "      <td>0</td>\n",
       "      <td>42</td>\n",
       "      <td>101</td>\n",
       "      <td>008102</td>\n",
       "      <td>1</td>\n",
       "      <td>0.000000</td>\n",
       "      <td>1.000000</td>\n",
       "    </tr>\n",
       "    <tr>\n",
       "      <th>1</th>\n",
       "      <td>Block Group 5, Census Tract 81.02, Philadelphi...</td>\n",
       "      <td>894</td>\n",
       "      <td>11</td>\n",
       "      <td>42</td>\n",
       "      <td>101</td>\n",
       "      <td>008102</td>\n",
       "      <td>5</td>\n",
       "      <td>0.012304</td>\n",
       "      <td>0.987696</td>\n",
       "    </tr>\n",
       "    <tr>\n",
       "      <th>2</th>\n",
       "      <td>Block Group 3, Census Tract 81.02, Philadelphi...</td>\n",
       "      <td>543</td>\n",
       "      <td>0</td>\n",
       "      <td>42</td>\n",
       "      <td>101</td>\n",
       "      <td>008102</td>\n",
       "      <td>3</td>\n",
       "      <td>0.000000</td>\n",
       "      <td>1.000000</td>\n",
       "    </tr>\n",
       "    <tr>\n",
       "      <th>3</th>\n",
       "      <td>Block Group 2, Census Tract 248, Philadelphia ...</td>\n",
       "      <td>1109</td>\n",
       "      <td>26</td>\n",
       "      <td>42</td>\n",
       "      <td>101</td>\n",
       "      <td>024800</td>\n",
       "      <td>2</td>\n",
       "      <td>0.023445</td>\n",
       "      <td>0.976555</td>\n",
       "    </tr>\n",
       "    <tr>\n",
       "      <th>4</th>\n",
       "      <td>Block Group 1, Census Tract 2, Philadelphia Co...</td>\n",
       "      <td>2331</td>\n",
       "      <td>911</td>\n",
       "      <td>42</td>\n",
       "      <td>101</td>\n",
       "      <td>000200</td>\n",
       "      <td>1</td>\n",
       "      <td>0.390819</td>\n",
       "      <td>0.609181</td>\n",
       "    </tr>\n",
       "  </tbody>\n",
       "</table>\n",
       "</div>"
      ],
      "text/plain": [
       "                                                NAME  totalPop  whitePop  \\\n",
       "0  Block Group 1, Census Tract 81.02, Philadelphi...       858         0   \n",
       "1  Block Group 5, Census Tract 81.02, Philadelphi...       894        11   \n",
       "2  Block Group 3, Census Tract 81.02, Philadelphi...       543         0   \n",
       "3  Block Group 2, Census Tract 248, Philadelphia ...      1109        26   \n",
       "4  Block Group 1, Census Tract 2, Philadelphia Co...      2331       911   \n",
       "\n",
       "  state county   tract block group  whitePercep  nonwhitePercep  \n",
       "0    42    101  008102           1     0.000000        1.000000  \n",
       "1    42    101  008102           5     0.012304        0.987696  \n",
       "2    42    101  008102           3     0.000000        1.000000  \n",
       "3    42    101  024800           2     0.023445        0.976555  \n",
       "4    42    101  000200           1     0.390819        0.609181  "
      ]
     },
     "execution_count": 410,
     "metadata": {},
     "output_type": "execute_result"
    }
   ],
   "source": [
    "censusRace2 = censusRace\n",
    "censusRace2['whitePop'] = pd.to_numeric(censusRace2['whitePop'], errors='ignore')\n",
    "censusRace2['totalPop'] = pd.to_numeric(censusRace2['totalPop'], errors='ignore')\n",
    "censusRace2['whitePercep'] = censusRace2['whitePop'] / censusRace2['totalPop'] \n",
    "censusRace2['nonwhitePercep'] = 1- censusRace2['whitePercep']\n",
    "censusRace2.head()"
   ]
  },
  {
   "cell_type": "code",
   "execution_count": 411,
   "id": "3f0c6008",
   "metadata": {},
   "outputs": [
    {
     "data": {
      "text/plain": [
       "(1336, 9)"
      ]
     },
     "execution_count": 411,
     "metadata": {},
     "output_type": "execute_result"
    }
   ],
   "source": [
    "censusRace2.shape"
   ]
  },
  {
   "cell_type": "code",
   "execution_count": 412,
   "id": "833d7bb6",
   "metadata": {},
   "outputs": [],
   "source": [
    "censusRaceWithGeometry = censusTract.merge(\n",
    "    censusRace2,\n",
    "    left_on=[\"STATE\", \"COUNTY\", \"TRACT\",'BLKGRP'],\n",
    "    right_on=[\"state\", \"county\", \"tract\",'block group'])\n",
    "censusRaceWithGeometry = censusRaceWithGeometry.drop(columns=[\"STATE\",\"COUNTY\",\"TRACT\",\"BLKGRP\"])"
   ]
  },
  {
   "cell_type": "code",
   "execution_count": 413,
   "id": "bc6ac569",
   "metadata": {},
   "outputs": [
    {
     "data": {
      "text/html": [
       "<div>\n",
       "<style scoped>\n",
       "    .dataframe tbody tr th:only-of-type {\n",
       "        vertical-align: middle;\n",
       "    }\n",
       "\n",
       "    .dataframe tbody tr th {\n",
       "        vertical-align: top;\n",
       "    }\n",
       "\n",
       "    .dataframe thead th {\n",
       "        text-align: right;\n",
       "    }\n",
       "</style>\n",
       "<table border=\"1\" class=\"dataframe\">\n",
       "  <thead>\n",
       "    <tr style=\"text-align: right;\">\n",
       "      <th></th>\n",
       "      <th>geometry</th>\n",
       "      <th>NAME</th>\n",
       "      <th>totalPop</th>\n",
       "      <th>whitePop</th>\n",
       "      <th>state</th>\n",
       "      <th>county</th>\n",
       "      <th>tract</th>\n",
       "      <th>block group</th>\n",
       "      <th>whitePercep</th>\n",
       "      <th>nonwhitePercep</th>\n",
       "    </tr>\n",
       "  </thead>\n",
       "  <tbody>\n",
       "    <tr>\n",
       "      <th>0</th>\n",
       "      <td>POLYGON ((-75.20223 39.96164, -75.20142 39.961...</td>\n",
       "      <td>Block Group 3, Census Tract 91, Philadelphia C...</td>\n",
       "      <td>1529</td>\n",
       "      <td>223</td>\n",
       "      <td>42</td>\n",
       "      <td>101</td>\n",
       "      <td>009100</td>\n",
       "      <td>3</td>\n",
       "      <td>0.145847</td>\n",
       "      <td>0.854153</td>\n",
       "    </tr>\n",
       "    <tr>\n",
       "      <th>1</th>\n",
       "      <td>POLYGON ((-75.24043 39.96354, -75.24011 39.965...</td>\n",
       "      <td>Block Group 3, Census Tract 95, Philadelphia C...</td>\n",
       "      <td>561</td>\n",
       "      <td>0</td>\n",
       "      <td>42</td>\n",
       "      <td>101</td>\n",
       "      <td>009500</td>\n",
       "      <td>3</td>\n",
       "      <td>0.000000</td>\n",
       "      <td>1.000000</td>\n",
       "    </tr>\n",
       "    <tr>\n",
       "      <th>2</th>\n",
       "      <td>POLYGON ((-75.14683 40.02960, -75.14671 40.030...</td>\n",
       "      <td>Block Group 1, Census Tract 282, Philadelphia ...</td>\n",
       "      <td>1118</td>\n",
       "      <td>21</td>\n",
       "      <td>42</td>\n",
       "      <td>101</td>\n",
       "      <td>028200</td>\n",
       "      <td>1</td>\n",
       "      <td>0.018784</td>\n",
       "      <td>0.981216</td>\n",
       "    </tr>\n",
       "    <tr>\n",
       "      <th>3</th>\n",
       "      <td>POLYGON ((-75.06981 40.07086, -75.06923 40.071...</td>\n",
       "      <td>Block Group 2, Census Tract 337.02, Philadelph...</td>\n",
       "      <td>1598</td>\n",
       "      <td>1010</td>\n",
       "      <td>42</td>\n",
       "      <td>101</td>\n",
       "      <td>033702</td>\n",
       "      <td>2</td>\n",
       "      <td>0.632040</td>\n",
       "      <td>0.367960</td>\n",
       "    </tr>\n",
       "    <tr>\n",
       "      <th>4</th>\n",
       "      <td>POLYGON ((-75.16508 39.91337, -75.16486 39.914...</td>\n",
       "      <td>Block Group 2, Census Tract 372, Philadelphia ...</td>\n",
       "      <td>1454</td>\n",
       "      <td>1196</td>\n",
       "      <td>42</td>\n",
       "      <td>101</td>\n",
       "      <td>037200</td>\n",
       "      <td>2</td>\n",
       "      <td>0.822558</td>\n",
       "      <td>0.177442</td>\n",
       "    </tr>\n",
       "  </tbody>\n",
       "</table>\n",
       "</div>"
      ],
      "text/plain": [
       "                                            geometry  \\\n",
       "0  POLYGON ((-75.20223 39.96164, -75.20142 39.961...   \n",
       "1  POLYGON ((-75.24043 39.96354, -75.24011 39.965...   \n",
       "2  POLYGON ((-75.14683 40.02960, -75.14671 40.030...   \n",
       "3  POLYGON ((-75.06981 40.07086, -75.06923 40.071...   \n",
       "4  POLYGON ((-75.16508 39.91337, -75.16486 39.914...   \n",
       "\n",
       "                                                NAME  totalPop  whitePop  \\\n",
       "0  Block Group 3, Census Tract 91, Philadelphia C...      1529       223   \n",
       "1  Block Group 3, Census Tract 95, Philadelphia C...       561         0   \n",
       "2  Block Group 1, Census Tract 282, Philadelphia ...      1118        21   \n",
       "3  Block Group 2, Census Tract 337.02, Philadelph...      1598      1010   \n",
       "4  Block Group 2, Census Tract 372, Philadelphia ...      1454      1196   \n",
       "\n",
       "  state county   tract block group  whitePercep  nonwhitePercep  \n",
       "0    42    101  009100           3     0.145847        0.854153  \n",
       "1    42    101  009500           3     0.000000        1.000000  \n",
       "2    42    101  028200           1     0.018784        0.981216  \n",
       "3    42    101  033702           2     0.632040        0.367960  \n",
       "4    42    101  037200           2     0.822558        0.177442  "
      ]
     },
     "execution_count": 413,
     "metadata": {},
     "output_type": "execute_result"
    }
   ],
   "source": [
    "censusRaceWithGeometry.head()"
   ]
  },
  {
   "cell_type": "code",
   "execution_count": 414,
   "id": "f6a72db5",
   "metadata": {},
   "outputs": [],
   "source": [
    "censusRaceWithGeometry.to_file('censusRaceWithGeometry.geojson', driver=\"GeoJSON\") "
   ]
  },
  {
   "cell_type": "markdown",
   "id": "44f6998a",
   "metadata": {},
   "source": [
    "# Crime"
   ]
  },
  {
   "cell_type": "code",
   "execution_count": 415,
   "id": "624386d7",
   "metadata": {},
   "outputs": [],
   "source": [
    "import carto2gpd\n",
    "import matplotlib\n",
    "import numpy as np\n",
    "from sklearn.neighbors import NearestNeighbors\n",
    "import altair as alt\n",
    "from vega_datasets import data\n",
    "from altair import datum"
   ]
  },
  {
   "cell_type": "code",
   "execution_count": 416,
   "id": "75c20a55",
   "metadata": {},
   "outputs": [],
   "source": [
    "url = \"https://phl.carto.com/api/v2/sql\"\n",
    "table_name = \"incidents_part1_part2\"\n",
    "where = \"dispatch_date >= '2015-01-01' AND dispatch_date < '2016-01-01'\"\n",
    "crime = carto2gpd.get(url, table_name, where=where)"
   ]
  },
  {
   "cell_type": "code",
   "execution_count": 417,
   "id": "a780e5a8",
   "metadata": {},
   "outputs": [],
   "source": [
    "crime = crime.drop(columns=[\"objectid\",\"dc_dist\",\"psa\",\"dc_key\",\"ucr_general\",\"point_x\",\"point_y\"])\n",
    "crime[\"count\"]=1\n",
    "crime = crime.rename(columns={\"text_general_code\": \"crimeType\"}, errors=\"raise\")"
   ]
  },
  {
   "cell_type": "code",
   "execution_count": 418,
   "id": "53dfadf3",
   "metadata": {},
   "outputs": [],
   "source": [
    "total = crime.groupby(\"crimeType\").sum(\"count\").sort_values(by=\"count\",ascending=False)\n",
    "total = total.reset_index()"
   ]
  },
  {
   "cell_type": "code",
   "execution_count": 419,
   "id": "0ac6e864",
   "metadata": {},
   "outputs": [],
   "source": [
    "selectedCrimeType = total[0:20].crimeType\n",
    "selectedCrimeType\n",
    "selectCrime = crime[crime['crimeType'].isin(selectedCrimeType)]"
   ]
  },
  {
   "cell_type": "code",
   "execution_count": 420,
   "id": "ecdfe6a6",
   "metadata": {},
   "outputs": [],
   "source": [
    "def get_xy_from_geometry(df): \n",
    "    x = df.geometry.centroid.x\n",
    "    y = df.geometry.centroid.y\n",
    "    return np.column_stack((x, y))"
   ]
  },
  {
   "cell_type": "code",
   "execution_count": 421,
   "id": "41da49c2",
   "metadata": {},
   "outputs": [],
   "source": [
    "pointsWithSeg = gpd.read_file(\"pointsWithSeg.geojson\")\n",
    "\n",
    "pointsWithSegXY = get_xy_from_geometry(pointsWithSeg.to_crs(epsg=3857))\n",
    "crimeXY = get_xy_from_geometry(selectCrime.to_crs(epsg=3857))\n",
    "\n",
    "nbrs = NearestNeighbors(n_neighbors=1)\n",
    "nbrs.fit(pointsWithSegXY)\n",
    "\n",
    "Dists, Indices = nbrs.kneighbors(crimeXY)"
   ]
  },
  {
   "cell_type": "code",
   "execution_count": 422,
   "id": "0115cc57",
   "metadata": {},
   "outputs": [
    {
     "name": "stderr",
     "output_type": "stream",
     "text": [
      "D:\\Miniconda_Python\\envs\\musa-550-fall-2021\\lib\\site-packages\\geopandas\\geodataframe.py:1322: SettingWithCopyWarning: \n",
      "A value is trying to be set on a copy of a slice from a DataFrame.\n",
      "Try using .loc[row_indexer,col_indexer] = value instead\n",
      "\n",
      "See the caveats in the documentation: https://pandas.pydata.org/pandas-docs/stable/user_guide/indexing.html#returning-a-view-versus-a-copy\n",
      "  super(GeoDataFrame, self).__setitem__(key, value)\n"
     ]
    }
   ],
   "source": [
    "selectCrime[\"nearestSVPoint\"] = Indices\n",
    "selectCrime2 = selectCrime[['geometry','cartodb_id','crimeType','count','nearestSVPoint']].merge(pointsWithSeg.drop(columns=[\"geometry\",\"fid\",\"SEG_ID\"]),how=\"left\",left_on=\"nearestSVPoint\",right_index=True)\n",
    "selectCrime2 = selectCrime2.drop(columns=\"nearestSVPoint\").rename(columns={\"pointId\": \"nearestSVPoint\"}, errors=\"raise\")"
   ]
  },
  {
   "cell_type": "code",
   "execution_count": 423,
   "id": "8d7c8e0c",
   "metadata": {
    "scrolled": true
   },
   "outputs": [],
   "source": [
    "# selectCrime2 = round(selectCrime2,3)\n",
    "selectCrime2[\"crimeTypeValue\"] = selectCrime2.crimeType.rank(method=\"first\",pct=True)\n",
    "selectCrime2 = selectCrime2.rename(columns={\"crimeTypeValue\": \"All\"}, errors=\"raise\")"
   ]
  },
  {
   "cell_type": "markdown",
   "id": "437738cf",
   "metadata": {},
   "source": [
    "selectCrime2.to_csv('selectCrime2.csv') "
   ]
  }
 ],
 "metadata": {
  "kernelspec": {
   "display_name": "Python 3 (ipykernel)",
   "language": "python",
   "name": "python3"
  },
  "language_info": {
   "codemirror_mode": {
    "name": "ipython",
    "version": 3
   },
   "file_extension": ".py",
   "mimetype": "text/x-python",
   "name": "python",
   "nbconvert_exporter": "python",
   "pygments_lexer": "ipython3",
   "version": "3.8.12"
  }
 },
 "nbformat": 4,
 "nbformat_minor": 5
}
