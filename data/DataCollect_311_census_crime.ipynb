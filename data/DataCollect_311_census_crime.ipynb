{
 "cells": [
  {
   "cell_type": "markdown",
   "id": "fbb1bb35",
   "metadata": {},
   "source": [
    "# Census Data"
   ]
  },
  {
   "cell_type": "code",
   "execution_count": 344,
   "id": "e932fe7b",
   "metadata": {},
   "outputs": [],
   "source": [
    "import cenpy\n",
    "import pandas as pd\n",
    "import geopandas as gpd\n",
    "acs = cenpy.remote.APIConnection(\"ACSDT5Y2015\")"
   ]
  },
  {
   "cell_type": "code",
   "execution_count": 345,
   "id": "2d9b12c2",
   "metadata": {},
   "outputs": [],
   "source": [
    "censusRace = acs.query(\n",
    "    cols=[\"NAME\",\"B02001_001E\",\"B02001_002E\"],\n",
    "    geo_unit=\"block group:*\",\n",
    "    geo_filter={\n",
    "                \"state\" : \"42\", \n",
    "                \"county\" : \"101\"\n",
    "               },\n",
    ").rename(columns={\"B02001_001E\": \"totalPop\",\"B02001_002E\": \"whitePop\"}, errors=\"raise\")"
   ]
  },
  {
   "cell_type": "code",
   "execution_count": 356,
   "id": "42ef51cc",
   "metadata": {},
   "outputs": [
    {
     "name": "stderr",
     "output_type": "stream",
     "text": [
      "D:\\Miniconda_Python\\envs\\musa-550-fall-2021\\lib\\site-packages\\pyproj\\crs\\crs.py:68: FutureWarning: '+init=<authority>:<code>' syntax is deprecated. '<authority>:<code>' is the preferred initialization method. When making the change, be mindful of axis order changes: https://pyproj4.github.io/pyproj/stable/gotchas.html#axis-order-changes-in-proj-6\n",
      "  return _prepare_from_string(\" \".join(pjargs))\n"
     ]
    }
   ],
   "source": [
    "acs.set_mapservice(\"tigerWMS_ACS2015\")\n",
    "where_clause = \"STATE = 42 AND COUNTY = 101\"\n",
    "censusTract = acs.mapservice.layers[10].query(where=where_clause)\n",
    "censusTract = censusTract[[\"STATE\",\"COUNTY\",\"TRACT\",'BLKGRP',\"geometry\"]]\n",
    "censusTract = censusTract.to_crs(4326)"
   ]
  },
  {
   "cell_type": "code",
   "execution_count": 359,
   "id": "1f92d0aa",
   "metadata": {},
   "outputs": [
    {
     "data": {
      "text/plain": [
       "(1336, 5)"
      ]
     },
     "execution_count": 359,
     "metadata": {},
     "output_type": "execute_result"
    }
   ],
   "source": [
    "censusTract.shape"
   ]
  },
  {
   "cell_type": "code",
   "execution_count": 360,
   "id": "e9662f96",
   "metadata": {},
   "outputs": [
    {
     "data": {
      "text/html": [
       "<div>\n",
       "<style scoped>\n",
       "    .dataframe tbody tr th:only-of-type {\n",
       "        vertical-align: middle;\n",
       "    }\n",
       "\n",
       "    .dataframe tbody tr th {\n",
       "        vertical-align: top;\n",
       "    }\n",
       "\n",
       "    .dataframe thead th {\n",
       "        text-align: right;\n",
       "    }\n",
       "</style>\n",
       "<table border=\"1\" class=\"dataframe\">\n",
       "  <thead>\n",
       "    <tr style=\"text-align: right;\">\n",
       "      <th></th>\n",
       "      <th>NAME</th>\n",
       "      <th>totalPop</th>\n",
       "      <th>whitePop</th>\n",
       "      <th>state</th>\n",
       "      <th>county</th>\n",
       "      <th>tract</th>\n",
       "      <th>block group</th>\n",
       "      <th>whitePercep</th>\n",
       "      <th>nonwhitePercep</th>\n",
       "    </tr>\n",
       "  </thead>\n",
       "  <tbody>\n",
       "    <tr>\n",
       "      <th>0</th>\n",
       "      <td>Block Group 1, Census Tract 81.02, Philadelphi...</td>\n",
       "      <td>858</td>\n",
       "      <td>0</td>\n",
       "      <td>42</td>\n",
       "      <td>101</td>\n",
       "      <td>008102</td>\n",
       "      <td>1</td>\n",
       "      <td>0.000000</td>\n",
       "      <td>1.000000</td>\n",
       "    </tr>\n",
       "    <tr>\n",
       "      <th>1</th>\n",
       "      <td>Block Group 5, Census Tract 81.02, Philadelphi...</td>\n",
       "      <td>894</td>\n",
       "      <td>11</td>\n",
       "      <td>42</td>\n",
       "      <td>101</td>\n",
       "      <td>008102</td>\n",
       "      <td>5</td>\n",
       "      <td>0.012304</td>\n",
       "      <td>0.987696</td>\n",
       "    </tr>\n",
       "    <tr>\n",
       "      <th>2</th>\n",
       "      <td>Block Group 3, Census Tract 81.02, Philadelphi...</td>\n",
       "      <td>543</td>\n",
       "      <td>0</td>\n",
       "      <td>42</td>\n",
       "      <td>101</td>\n",
       "      <td>008102</td>\n",
       "      <td>3</td>\n",
       "      <td>0.000000</td>\n",
       "      <td>1.000000</td>\n",
       "    </tr>\n",
       "    <tr>\n",
       "      <th>3</th>\n",
       "      <td>Block Group 2, Census Tract 248, Philadelphia ...</td>\n",
       "      <td>1109</td>\n",
       "      <td>26</td>\n",
       "      <td>42</td>\n",
       "      <td>101</td>\n",
       "      <td>024800</td>\n",
       "      <td>2</td>\n",
       "      <td>0.023445</td>\n",
       "      <td>0.976555</td>\n",
       "    </tr>\n",
       "    <tr>\n",
       "      <th>4</th>\n",
       "      <td>Block Group 1, Census Tract 2, Philadelphia Co...</td>\n",
       "      <td>2331</td>\n",
       "      <td>911</td>\n",
       "      <td>42</td>\n",
       "      <td>101</td>\n",
       "      <td>000200</td>\n",
       "      <td>1</td>\n",
       "      <td>0.390819</td>\n",
       "      <td>0.609181</td>\n",
       "    </tr>\n",
       "  </tbody>\n",
       "</table>\n",
       "</div>"
      ],
      "text/plain": [
       "                                                NAME  totalPop  whitePop  \\\n",
       "0  Block Group 1, Census Tract 81.02, Philadelphi...       858         0   \n",
       "1  Block Group 5, Census Tract 81.02, Philadelphi...       894        11   \n",
       "2  Block Group 3, Census Tract 81.02, Philadelphi...       543         0   \n",
       "3  Block Group 2, Census Tract 248, Philadelphia ...      1109        26   \n",
       "4  Block Group 1, Census Tract 2, Philadelphia Co...      2331       911   \n",
       "\n",
       "  state county   tract block group  whitePercep  nonwhitePercep  \n",
       "0    42    101  008102           1     0.000000        1.000000  \n",
       "1    42    101  008102           5     0.012304        0.987696  \n",
       "2    42    101  008102           3     0.000000        1.000000  \n",
       "3    42    101  024800           2     0.023445        0.976555  \n",
       "4    42    101  000200           1     0.390819        0.609181  "
      ]
     },
     "execution_count": 360,
     "metadata": {},
     "output_type": "execute_result"
    }
   ],
   "source": [
    "censusRace2 = censusRace\n",
    "censusRace2['whitePop'] = pd.to_numeric(censusRace2['whitePop'], errors='ignore')\n",
    "censusRace2['totalPop'] = pd.to_numeric(censusRace2['totalPop'], errors='ignore')\n",
    "censusRace2['whitePercep'] = censusRace2['whitePop'] / censusRace2['totalPop'] \n",
    "censusRace2['nonwhitePercep'] = 1- censusRace2['whitePercep']\n",
    "censusRace2.head()"
   ]
  },
  {
   "cell_type": "code",
   "execution_count": 361,
   "id": "6e44a73c",
   "metadata": {},
   "outputs": [
    {
     "data": {
      "text/plain": [
       "(1336, 9)"
      ]
     },
     "execution_count": 361,
     "metadata": {},
     "output_type": "execute_result"
    }
   ],
   "source": [
    "censusRace2.shape"
   ]
  },
  {
   "cell_type": "code",
   "execution_count": 367,
   "id": "833d7bb6",
   "metadata": {},
   "outputs": [],
   "source": [
    "censusRaceWithGeometry = censusTract.merge(\n",
    "    censusRace2,\n",
    "    left_on=[\"STATE\", \"COUNTY\", \"TRACT\",'BLKGRP'],\n",
    "    right_on=[\"state\", \"county\", \"tract\",'block group'])\n",
    "censusRaceWithGeometry = censusRaceWithGeometry.drop(columns=[\"STATE\",\"COUNTY\",\"TRACT\",\"BLKGRP\"])"
   ]
  },
  {
   "cell_type": "code",
   "execution_count": 368,
   "id": "bc6ac569",
   "metadata": {},
   "outputs": [
    {
     "data": {
      "text/html": [
       "<div>\n",
       "<style scoped>\n",
       "    .dataframe tbody tr th:only-of-type {\n",
       "        vertical-align: middle;\n",
       "    }\n",
       "\n",
       "    .dataframe tbody tr th {\n",
       "        vertical-align: top;\n",
       "    }\n",
       "\n",
       "    .dataframe thead th {\n",
       "        text-align: right;\n",
       "    }\n",
       "</style>\n",
       "<table border=\"1\" class=\"dataframe\">\n",
       "  <thead>\n",
       "    <tr style=\"text-align: right;\">\n",
       "      <th></th>\n",
       "      <th>geometry</th>\n",
       "      <th>NAME</th>\n",
       "      <th>totalPop</th>\n",
       "      <th>whitePop</th>\n",
       "      <th>state</th>\n",
       "      <th>county</th>\n",
       "      <th>tract</th>\n",
       "      <th>block group</th>\n",
       "      <th>whitePercep</th>\n",
       "      <th>nonwhitePercep</th>\n",
       "    </tr>\n",
       "  </thead>\n",
       "  <tbody>\n",
       "    <tr>\n",
       "      <th>0</th>\n",
       "      <td>POLYGON ((-75.20223 39.96164, -75.20142 39.961...</td>\n",
       "      <td>Block Group 3, Census Tract 91, Philadelphia C...</td>\n",
       "      <td>1529</td>\n",
       "      <td>223</td>\n",
       "      <td>42</td>\n",
       "      <td>101</td>\n",
       "      <td>009100</td>\n",
       "      <td>3</td>\n",
       "      <td>0.145847</td>\n",
       "      <td>0.854153</td>\n",
       "    </tr>\n",
       "    <tr>\n",
       "      <th>1</th>\n",
       "      <td>POLYGON ((-75.24043 39.96354, -75.24011 39.965...</td>\n",
       "      <td>Block Group 3, Census Tract 95, Philadelphia C...</td>\n",
       "      <td>561</td>\n",
       "      <td>0</td>\n",
       "      <td>42</td>\n",
       "      <td>101</td>\n",
       "      <td>009500</td>\n",
       "      <td>3</td>\n",
       "      <td>0.000000</td>\n",
       "      <td>1.000000</td>\n",
       "    </tr>\n",
       "    <tr>\n",
       "      <th>2</th>\n",
       "      <td>POLYGON ((-75.14683 40.02960, -75.14671 40.030...</td>\n",
       "      <td>Block Group 1, Census Tract 282, Philadelphia ...</td>\n",
       "      <td>1118</td>\n",
       "      <td>21</td>\n",
       "      <td>42</td>\n",
       "      <td>101</td>\n",
       "      <td>028200</td>\n",
       "      <td>1</td>\n",
       "      <td>0.018784</td>\n",
       "      <td>0.981216</td>\n",
       "    </tr>\n",
       "    <tr>\n",
       "      <th>3</th>\n",
       "      <td>POLYGON ((-75.06981 40.07086, -75.06923 40.071...</td>\n",
       "      <td>Block Group 2, Census Tract 337.02, Philadelph...</td>\n",
       "      <td>1598</td>\n",
       "      <td>1010</td>\n",
       "      <td>42</td>\n",
       "      <td>101</td>\n",
       "      <td>033702</td>\n",
       "      <td>2</td>\n",
       "      <td>0.632040</td>\n",
       "      <td>0.367960</td>\n",
       "    </tr>\n",
       "    <tr>\n",
       "      <th>4</th>\n",
       "      <td>POLYGON ((-75.16508 39.91337, -75.16486 39.914...</td>\n",
       "      <td>Block Group 2, Census Tract 372, Philadelphia ...</td>\n",
       "      <td>1454</td>\n",
       "      <td>1196</td>\n",
       "      <td>42</td>\n",
       "      <td>101</td>\n",
       "      <td>037200</td>\n",
       "      <td>2</td>\n",
       "      <td>0.822558</td>\n",
       "      <td>0.177442</td>\n",
       "    </tr>\n",
       "  </tbody>\n",
       "</table>\n",
       "</div>"
      ],
      "text/plain": [
       "                                            geometry  \\\n",
       "0  POLYGON ((-75.20223 39.96164, -75.20142 39.961...   \n",
       "1  POLYGON ((-75.24043 39.96354, -75.24011 39.965...   \n",
       "2  POLYGON ((-75.14683 40.02960, -75.14671 40.030...   \n",
       "3  POLYGON ((-75.06981 40.07086, -75.06923 40.071...   \n",
       "4  POLYGON ((-75.16508 39.91337, -75.16486 39.914...   \n",
       "\n",
       "                                                NAME  totalPop  whitePop  \\\n",
       "0  Block Group 3, Census Tract 91, Philadelphia C...      1529       223   \n",
       "1  Block Group 3, Census Tract 95, Philadelphia C...       561         0   \n",
       "2  Block Group 1, Census Tract 282, Philadelphia ...      1118        21   \n",
       "3  Block Group 2, Census Tract 337.02, Philadelph...      1598      1010   \n",
       "4  Block Group 2, Census Tract 372, Philadelphia ...      1454      1196   \n",
       "\n",
       "  state county   tract block group  whitePercep  nonwhitePercep  \n",
       "0    42    101  009100           3     0.145847        0.854153  \n",
       "1    42    101  009500           3     0.000000        1.000000  \n",
       "2    42    101  028200           1     0.018784        0.981216  \n",
       "3    42    101  033702           2     0.632040        0.367960  \n",
       "4    42    101  037200           2     0.822558        0.177442  "
      ]
     },
     "execution_count": 368,
     "metadata": {},
     "output_type": "execute_result"
    }
   ],
   "source": [
    "censusRaceWithGeometry.head()"
   ]
  },
  {
   "cell_type": "code",
   "execution_count": 369,
   "id": "f6a72db5",
   "metadata": {},
   "outputs": [],
   "source": [
    "censusRaceWithGeometry.to_file('censusRaceWithGeometry.geojson', driver=\"GeoJSON\") "
   ]
  },
  {
   "cell_type": "markdown",
   "id": "8287d567",
   "metadata": {},
   "source": [
    "# 311 Complaints"
   ]
  },
  {
   "cell_type": "code",
   "execution_count": 309,
   "id": "dd901fa9",
   "metadata": {},
   "outputs": [],
   "source": [
    "complaint311 = pd.read_csv (\"downloaded_public_cases_fc.csv\")"
   ]
  },
  {
   "cell_type": "code",
   "execution_count": 310,
   "id": "e6d82d5d",
   "metadata": {},
   "outputs": [],
   "source": [
    "ndService=['Abandoned Vehicle','Graffiti Removal','Vacant House or Commercial','Street Light Outage','Traffic Signal Emergency','Dead Animal in Street', 'Street Defect','Vacant Lot Clean-Up', 'Alley Light Outage', 'Street Trees', 'Abandoned Bike',\n",
    "       'Complaint (Streets)', 'Street Paving', 'Tree Dangerous']"
   ]
  },
  {
   "cell_type": "code",
   "execution_count": 316,
   "id": "1c892c1d",
   "metadata": {},
   "outputs": [
    {
     "data": {
      "text/plain": [
       "['Abandoned Vehicle',\n",
       " 'Graffiti Removal',\n",
       " 'Vacant House or Commercial',\n",
       " 'Street Light Outage',\n",
       " 'Traffic Signal Emergency',\n",
       " 'Dead Animal in Street',\n",
       " 'Street Defect',\n",
       " 'Vacant Lot Clean-Up',\n",
       " 'Alley Light Outage',\n",
       " 'Street Trees',\n",
       " 'Abandoned Bike',\n",
       " 'Complaint (Streets)',\n",
       " 'Street Paving',\n",
       " 'Tree Dangerous']"
      ]
     },
     "execution_count": 316,
     "metadata": {},
     "output_type": "execute_result"
    }
   ],
   "source": [
    "ndService"
   ]
  },
  {
   "cell_type": "code",
   "execution_count": 311,
   "id": "257ad746",
   "metadata": {},
   "outputs": [],
   "source": [
    "complaint311Filter = complaint311.query('service_name in @ndService')\n",
    "complaint311Filter = complaint311Filter[[\"service_request_id\",\"service_name\",\"agency_responsible\",\"lat\",\"lon\"]].dropna()"
   ]
  },
  {
   "cell_type": "code",
   "execution_count": 312,
   "id": "7c1ce4c0",
   "metadata": {},
   "outputs": [],
   "source": [
    "complaint311Filter['geometry'] = gpd.points_from_xy(complaint311Filter['lon'], complaint311Filter['lat'])\n",
    "complaint311Filter = gpd.GeoDataFrame(complaint311Filter, geometry='geometry', crs=\"EPSG:4326\")"
   ]
  },
  {
   "cell_type": "code",
   "execution_count": 315,
   "id": "7f1783f1",
   "metadata": {},
   "outputs": [
    {
     "data": {
      "text/html": [
       "<div>\n",
       "<style scoped>\n",
       "    .dataframe tbody tr th:only-of-type {\n",
       "        vertical-align: middle;\n",
       "    }\n",
       "\n",
       "    .dataframe tbody tr th {\n",
       "        vertical-align: top;\n",
       "    }\n",
       "\n",
       "    .dataframe thead th {\n",
       "        text-align: right;\n",
       "    }\n",
       "</style>\n",
       "<table border=\"1\" class=\"dataframe\">\n",
       "  <thead>\n",
       "    <tr style=\"text-align: right;\">\n",
       "      <th></th>\n",
       "      <th>service_request_id</th>\n",
       "      <th>service_name</th>\n",
       "      <th>agency_responsible</th>\n",
       "      <th>lat</th>\n",
       "      <th>lon</th>\n",
       "      <th>geometry</th>\n",
       "    </tr>\n",
       "  </thead>\n",
       "  <tbody>\n",
       "    <tr>\n",
       "      <th>0</th>\n",
       "      <td>8997243</td>\n",
       "      <td>Abandoned Vehicle</td>\n",
       "      <td>Police Department</td>\n",
       "      <td>39.911438</td>\n",
       "      <td>-75.176307</td>\n",
       "      <td>POINT (-75.17631 39.91144)</td>\n",
       "    </tr>\n",
       "    <tr>\n",
       "      <th>1</th>\n",
       "      <td>8967080</td>\n",
       "      <td>Graffiti Removal</td>\n",
       "      <td>Community Life Improvement Program</td>\n",
       "      <td>39.956295</td>\n",
       "      <td>-75.211248</td>\n",
       "      <td>POINT (-75.21125 39.95629)</td>\n",
       "    </tr>\n",
       "    <tr>\n",
       "      <th>2</th>\n",
       "      <td>8967081</td>\n",
       "      <td>Graffiti Removal</td>\n",
       "      <td>Community Life Improvement Program</td>\n",
       "      <td>39.954192</td>\n",
       "      <td>-75.211891</td>\n",
       "      <td>POINT (-75.21189 39.95419)</td>\n",
       "    </tr>\n",
       "    <tr>\n",
       "      <th>3</th>\n",
       "      <td>8997258</td>\n",
       "      <td>Vacant House or Commercial</td>\n",
       "      <td>License &amp; Inspections</td>\n",
       "      <td>40.067824</td>\n",
       "      <td>-75.149906</td>\n",
       "      <td>POINT (-75.14991 40.06782)</td>\n",
       "    </tr>\n",
       "    <tr>\n",
       "      <th>5</th>\n",
       "      <td>8997338</td>\n",
       "      <td>Vacant House or Commercial</td>\n",
       "      <td>License &amp; Inspections</td>\n",
       "      <td>39.941959</td>\n",
       "      <td>-75.167067</td>\n",
       "      <td>POINT (-75.16707 39.94196)</td>\n",
       "    </tr>\n",
       "    <tr>\n",
       "      <th>...</th>\n",
       "      <td>...</td>\n",
       "      <td>...</td>\n",
       "      <td>...</td>\n",
       "      <td>...</td>\n",
       "      <td>...</td>\n",
       "      <td>...</td>\n",
       "    </tr>\n",
       "    <tr>\n",
       "      <th>569884</th>\n",
       "      <td>9404728</td>\n",
       "      <td>Alley Light Outage</td>\n",
       "      <td>Streets Department</td>\n",
       "      <td>40.018727</td>\n",
       "      <td>-75.073542</td>\n",
       "      <td>POINT (-75.07354 40.01873)</td>\n",
       "    </tr>\n",
       "    <tr>\n",
       "      <th>569885</th>\n",
       "      <td>9079333</td>\n",
       "      <td>Alley Light Outage</td>\n",
       "      <td>Streets Department</td>\n",
       "      <td>40.018727</td>\n",
       "      <td>-75.073542</td>\n",
       "      <td>POINT (-75.07354 40.01873)</td>\n",
       "    </tr>\n",
       "    <tr>\n",
       "      <th>569886</th>\n",
       "      <td>9523735</td>\n",
       "      <td>Abandoned Vehicle</td>\n",
       "      <td>Police Department</td>\n",
       "      <td>40.032944</td>\n",
       "      <td>-75.181368</td>\n",
       "      <td>POINT (-75.18137 40.03294)</td>\n",
       "    </tr>\n",
       "    <tr>\n",
       "      <th>569888</th>\n",
       "      <td>9165792</td>\n",
       "      <td>Abandoned Vehicle</td>\n",
       "      <td>Police Department</td>\n",
       "      <td>40.007009</td>\n",
       "      <td>-75.173339</td>\n",
       "      <td>POINT (-75.17334 40.00701)</td>\n",
       "    </tr>\n",
       "    <tr>\n",
       "      <th>569889</th>\n",
       "      <td>9154204</td>\n",
       "      <td>Abandoned Vehicle</td>\n",
       "      <td>Police Department</td>\n",
       "      <td>40.007009</td>\n",
       "      <td>-75.173339</td>\n",
       "      <td>POINT (-75.17334 40.00701)</td>\n",
       "    </tr>\n",
       "  </tbody>\n",
       "</table>\n",
       "<p>64523 rows × 6 columns</p>\n",
       "</div>"
      ],
      "text/plain": [
       "        service_request_id                service_name  \\\n",
       "0                  8997243           Abandoned Vehicle   \n",
       "1                  8967080            Graffiti Removal   \n",
       "2                  8967081            Graffiti Removal   \n",
       "3                  8997258  Vacant House or Commercial   \n",
       "5                  8997338  Vacant House or Commercial   \n",
       "...                    ...                         ...   \n",
       "569884             9404728          Alley Light Outage   \n",
       "569885             9079333          Alley Light Outage   \n",
       "569886             9523735           Abandoned Vehicle   \n",
       "569888             9165792           Abandoned Vehicle   \n",
       "569889             9154204           Abandoned Vehicle   \n",
       "\n",
       "                        agency_responsible        lat        lon  \\\n",
       "0                        Police Department  39.911438 -75.176307   \n",
       "1       Community Life Improvement Program  39.956295 -75.211248   \n",
       "2       Community Life Improvement Program  39.954192 -75.211891   \n",
       "3                    License & Inspections  40.067824 -75.149906   \n",
       "5                    License & Inspections  39.941959 -75.167067   \n",
       "...                                    ...        ...        ...   \n",
       "569884                  Streets Department  40.018727 -75.073542   \n",
       "569885                  Streets Department  40.018727 -75.073542   \n",
       "569886                   Police Department  40.032944 -75.181368   \n",
       "569888                   Police Department  40.007009 -75.173339   \n",
       "569889                   Police Department  40.007009 -75.173339   \n",
       "\n",
       "                          geometry  \n",
       "0       POINT (-75.17631 39.91144)  \n",
       "1       POINT (-75.21125 39.95629)  \n",
       "2       POINT (-75.21189 39.95419)  \n",
       "3       POINT (-75.14991 40.06782)  \n",
       "5       POINT (-75.16707 39.94196)  \n",
       "...                            ...  \n",
       "569884  POINT (-75.07354 40.01873)  \n",
       "569885  POINT (-75.07354 40.01873)  \n",
       "569886  POINT (-75.18137 40.03294)  \n",
       "569888  POINT (-75.17334 40.00701)  \n",
       "569889  POINT (-75.17334 40.00701)  \n",
       "\n",
       "[64523 rows x 6 columns]"
      ]
     },
     "execution_count": 315,
     "metadata": {},
     "output_type": "execute_result"
    }
   ],
   "source": [
    "complaint311Filter"
   ]
  },
  {
   "cell_type": "markdown",
   "id": "44f6998a",
   "metadata": {},
   "source": [
    "# Crime"
   ]
  },
  {
   "cell_type": "code",
   "execution_count": 280,
   "id": "624386d7",
   "metadata": {},
   "outputs": [],
   "source": [
    "import carto2gpd\n",
    "import matplotlib\n",
    "import numpy as np\n",
    "from sklearn.neighbors import NearestNeighbors\n",
    "import altair as alt\n",
    "from vega_datasets import data\n",
    "from altair import datum"
   ]
  },
  {
   "cell_type": "code",
   "execution_count": 281,
   "id": "75c20a55",
   "metadata": {},
   "outputs": [],
   "source": [
    "url = \"https://phl.carto.com/api/v2/sql\"\n",
    "table_name = \"incidents_part1_part2\"\n",
    "where = \"dispatch_date >= '2015-01-01' AND dispatch_date < '2016-01-01'\"\n",
    "crime = carto2gpd.get(url, table_name, where=where)"
   ]
  },
  {
   "cell_type": "code",
   "execution_count": 282,
   "id": "a780e5a8",
   "metadata": {},
   "outputs": [],
   "source": [
    "crime = crime.drop(columns=[\"objectid\",\"dc_dist\",\"psa\",\"dc_key\",\"ucr_general\",\"point_x\",\"point_y\"])\n",
    "crime[\"count\"]=1\n",
    "crime = crime.rename(columns={\"text_general_code\": \"crimeType\"}, errors=\"raise\")"
   ]
  },
  {
   "cell_type": "code",
   "execution_count": 284,
   "id": "53dfadf3",
   "metadata": {},
   "outputs": [],
   "source": [
    "total = crime.groupby(\"crimeType\").sum(\"count\").sort_values(by=\"count\",ascending=False)\n",
    "total = total.reset_index()"
   ]
  },
  {
   "cell_type": "markdown",
   "id": "d97f9609",
   "metadata": {},
   "source": [
    "alt.Chart(total).mark_bar().encode(\n",
    "    alt.X('crimeType:N',axis=alt.Axis(labelAngle=90),sort='-y'),\n",
    "    alt.Y('count:Q'),\n",
    "    color = alt.value(\"#F79D46\"))"
   ]
  },
  {
   "cell_type": "code",
   "execution_count": 285,
   "id": "0ac6e864",
   "metadata": {},
   "outputs": [],
   "source": [
    "selectedCrimeType = total[0:20].crimeType\n",
    "selectedCrimeType\n",
    "selectCrime = crime[crime['crimeType'].isin(selectedCrimeType)]"
   ]
  },
  {
   "cell_type": "code",
   "execution_count": 288,
   "id": "ecdfe6a6",
   "metadata": {},
   "outputs": [],
   "source": [
    "def get_xy_from_geometry(df): \n",
    "    x = df.geometry.centroid.x\n",
    "    y = df.geometry.centroid.y\n",
    "    return np.column_stack((x, y))"
   ]
  },
  {
   "cell_type": "code",
   "execution_count": 290,
   "id": "41da49c2",
   "metadata": {},
   "outputs": [],
   "source": [
    "pointsWithSeg = gpd.read_file(\"pointsWithSeg.geojson\")\n",
    "\n",
    "pointsWithSegXY = get_xy_from_geometry(pointsWithSeg.to_crs(epsg=3857))\n",
    "crimeXY = get_xy_from_geometry(selectCrime.to_crs(epsg=3857))\n",
    "\n",
    "nbrs = NearestNeighbors(n_neighbors=1)\n",
    "nbrs.fit(pointsWithSegXY)\n",
    "\n",
    "Dists, Indices = nbrs.kneighbors(crimeXY)"
   ]
  },
  {
   "cell_type": "code",
   "execution_count": 303,
   "id": "0115cc57",
   "metadata": {},
   "outputs": [
    {
     "name": "stderr",
     "output_type": "stream",
     "text": [
      "D:\\Miniconda_Python\\envs\\musa-550-fall-2021\\lib\\site-packages\\geopandas\\geodataframe.py:1322: SettingWithCopyWarning: \n",
      "A value is trying to be set on a copy of a slice from a DataFrame.\n",
      "Try using .loc[row_indexer,col_indexer] = value instead\n",
      "\n",
      "See the caveats in the documentation: https://pandas.pydata.org/pandas-docs/stable/user_guide/indexing.html#returning-a-view-versus-a-copy\n",
      "  super(GeoDataFrame, self).__setitem__(key, value)\n"
     ]
    }
   ],
   "source": [
    "selectCrime[\"nearestSVPoint\"] = Indices\n",
    "selectCrime2 = selectCrime[['geometry','cartodb_id','crimeType','count','nearestSVPoint']].merge(pointsWithSeg.drop(columns=[\"geometry\",\"fid\",\"SEG_ID\"]),how=\"left\",left_on=\"nearestSVPoint\",right_index=True)\n",
    "selectCrime2 = selectCrime2.drop(columns=\"nearestSVPoint\").rename(columns={\"pointId\": \"nearestSVPoint\"}, errors=\"raise\")"
   ]
  },
  {
   "cell_type": "code",
   "execution_count": 307,
   "id": "8d7c8e0c",
   "metadata": {
    "scrolled": true
   },
   "outputs": [],
   "source": [
    "selectCrime2 = round(selectCrime2,3)\n",
    "selectCrime2[\"crimeTypeValue\"] = selectCrime2.crimeType.rank(method=\"first\",pct=True)\n",
    "selectCrime2 = selectCrime2.rename(columns={\"crimeTypeValue\": \"All\"}, errors=\"raise\")"
   ]
  },
  {
   "cell_type": "code",
   "execution_count": 370,
   "id": "e4f76a33",
   "metadata": {},
   "outputs": [
    {
     "data": {
      "text/html": [
       "\n",
       "<div id=\"altair-viz-a1180d37c71c40ebb8f9e032d363fced\"></div>\n",
       "<script type=\"text/javascript\">\n",
       "  (function(spec, embedOpt){\n",
       "    let outputDiv = document.currentScript.previousElementSibling;\n",
       "    if (outputDiv.id !== \"altair-viz-a1180d37c71c40ebb8f9e032d363fced\") {\n",
       "      outputDiv = document.getElementById(\"altair-viz-a1180d37c71c40ebb8f9e032d363fced\");\n",
       "    }\n",
       "    const paths = {\n",
       "      \"vega\": \"https://cdn.jsdelivr.net/npm//vega@5?noext\",\n",
       "      \"vega-lib\": \"https://cdn.jsdelivr.net/npm//vega-lib?noext\",\n",
       "      \"vega-lite\": \"https://cdn.jsdelivr.net/npm//vega-lite@4.8.1?noext\",\n",
       "      \"vega-embed\": \"https://cdn.jsdelivr.net/npm//vega-embed@6?noext\",\n",
       "    };\n",
       "\n",
       "    function loadScript(lib) {\n",
       "      return new Promise(function(resolve, reject) {\n",
       "        var s = document.createElement('script');\n",
       "        s.src = paths[lib];\n",
       "        s.async = true;\n",
       "        s.onload = () => resolve(paths[lib]);\n",
       "        s.onerror = () => reject(`Error loading script: ${paths[lib]}`);\n",
       "        document.getElementsByTagName(\"head\")[0].appendChild(s);\n",
       "      });\n",
       "    }\n",
       "\n",
       "    function showError(err) {\n",
       "      outputDiv.innerHTML = `<div class=\"error\" style=\"color:red;\">${err}</div>`;\n",
       "      throw err;\n",
       "    }\n",
       "\n",
       "    function displayChart(vegaEmbed) {\n",
       "      vegaEmbed(outputDiv, spec, embedOpt)\n",
       "        .catch(err => showError(`Javascript Error: ${err.message}<br>This usually means there's a typo in your chart specification. See the javascript console for the full traceback.`));\n",
       "    }\n",
       "\n",
       "    if(typeof define === \"function\" && define.amd) {\n",
       "      requirejs.config({paths});\n",
       "      require([\"vega-embed\"], displayChart, err => showError(`Error loading script: ${err.message}`));\n",
       "    } else if (typeof vegaEmbed === \"function\") {\n",
       "      displayChart(vegaEmbed);\n",
       "    } else {\n",
       "      loadScript(\"vega\")\n",
       "        .then(() => loadScript(\"vega-lite\"))\n",
       "        .then(() => loadScript(\"vega-embed\"))\n",
       "        .catch(showError)\n",
       "        .then(() => displayChart(vegaEmbed));\n",
       "    }\n",
       "  })({\"config\": {\"view\": {\"continuousWidth\": 400, \"continuousHeight\": 300, \"strokeWidth\": 0}}, \"data\": {\"url\": \"altair-data-c9f6a4d7de70f17a0d9334bdf01b10a8.json\", \"format\": {\"type\": \"json\"}}, \"mark\": {\"type\": \"line\", \"size\": 0.5}, \"encoding\": {\"color\": {\"condition\": {\"type\": \"nominal\", \"field\": \"crimeType\", \"scale\": {\"scheme\": \"category20b\"}, \"selection\": \"selector113\"}, \"value\": \"lightgray\"}, \"detail\": {\"type\": \"nominal\", \"field\": \"index\"}, \"opacity\": {\"condition\": {\"value\": 1, \"selection\": \"selector113\"}, \"value\": 0.07}, \"x\": {\"type\": \"nominal\", \"axis\": {\"domain\": false, \"labelAngle\": 0, \"ticks\": false}, \"field\": \"key\", \"title\": \"Street Component\"}, \"y\": {\"type\": \"quantitative\", \"axis\": {\"domain\": false, \"ticks\": false}, \"field\": \"minmax_value\", \"title\": \"Normalized porportion\"}}, \"height\": 500, \"selection\": {\"selector113\": {\"type\": \"multi\", \"fields\": [\"crimeType\"], \"bind\": \"legend\"}, \"selector114\": {\"type\": \"interval\", \"bind\": \"scales\", \"encodings\": [\"x\", \"y\"]}}, \"title\": \"Relationship between street component and crime type\", \"transform\": [{\"window\": [{\"op\": \"count\", \"as\": \"index\"}]}, {\"fold\": [\"All\", \"wall\", \"lives\", \"building\", \"infrastructure\", \"road\", \"sidewalk\", \"sky\", \"green\", \"transportation\"]}, {\"joinaggregate\": [{\"op\": \"min\", \"field\": \"value\", \"as\": \"min\"}, {\"op\": \"max\", \"field\": \"value\", \"as\": \"max\"}], \"groupby\": [\"key\"]}, {\"calculate\": \"((datum.value - datum.min) / (datum.max - datum.min))\", \"as\": \"minmax_value\"}], \"width\": 1000, \"$schema\": \"https://vega.github.io/schema/vega-lite/v4.8.1.json\"}, {\"mode\": \"vega-lite\"});\n",
       "</script>"
      ],
      "text/plain": [
       "alt.Chart(...)"
      ]
     },
     "execution_count": 370,
     "metadata": {},
     "output_type": "execute_result"
    }
   ],
   "source": [
    "sampleCrime = selectCrime2.groupby('crimeType', group_keys=False).apply(lambda x: x.sample(min(len(x), 200)))\n",
    "alt.data_transformers.enable('json')\n",
    "\n",
    "selection = alt.selection_multi(fields=['crimeType'], bind='legend')\n",
    "\n",
    "chart=alt.Chart(sampleCrime).transform_window(\n",
    "    index='count()'\n",
    ").transform_fold(\n",
    "    ['All','wall', 'lives','building','infrastructure','road','sidewalk','sky','green','transportation']\n",
    ").transform_joinaggregate(\n",
    "     min='min(value)',\n",
    "     max='max(value)',\n",
    "     groupby=['key']\n",
    ").transform_calculate(\n",
    "    minmax_value=(datum.value-datum.min)/(datum.max-datum.min)\n",
    ").mark_line(size=0.5).encode(\n",
    "    x=alt.X('key:N',axis=alt.Axis(ticks=False, domain=False,labelAngle=0)),\n",
    "    y=alt.Y('minmax_value:Q',axis=alt.Axis(ticks=False, domain=False)),\n",
    "    color=alt.condition(selection,\n",
    "                        alt.Color('crimeType:N', scale=alt.Scale(scheme='category20b')),\n",
    "                        alt.value('lightgray')),   \n",
    "    opacity=alt.condition(selection, alt.value(1), alt.value(0.07)),   \n",
    "    detail='index:N',\n",
    ").properties(\n",
    "    width=1000,\n",
    "    height=500,\n",
    "    title=\"Relationship between street component and crime type\"\n",
    ").configure_view(\n",
    "    strokeWidth=0\n",
    ").add_selection(selection).interactive()\n",
    "\n",
    "chart.encoding.x.title = 'Street Component'\n",
    "chart.encoding.y.title = 'Normalized porportion'\n",
    "chart"
   ]
  }
 ],
 "metadata": {
  "kernelspec": {
   "display_name": "Python 3 (ipykernel)",
   "language": "python",
   "name": "python3"
  },
  "language_info": {
   "codemirror_mode": {
    "name": "ipython",
    "version": 3
   },
   "file_extension": ".py",
   "mimetype": "text/x-python",
   "name": "python",
   "nbconvert_exporter": "python",
   "pygments_lexer": "ipython3",
   "version": "3.8.12"
  }
 },
 "nbformat": 4,
 "nbformat_minor": 5
}
