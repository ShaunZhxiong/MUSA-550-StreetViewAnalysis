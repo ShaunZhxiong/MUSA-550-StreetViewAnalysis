{
 "cells": [
  {
   "cell_type": "markdown",
   "id": "fbb1bb35",
   "metadata": {},
   "source": [
    "# Census Data"
   ]
  },
  {
   "cell_type": "code",
   "execution_count": 110,
   "id": "e932fe7b",
   "metadata": {},
   "outputs": [
    {
     "data": {
      "text/plain": [
       "DataTransformerRegistry.enable('json')"
      ]
     },
     "execution_count": 110,
     "metadata": {},
     "output_type": "execute_result"
    }
   ],
   "source": [
    "import cenpy\n",
    "import pandas as pd\n",
    "import geopandas as gpd\n",
    "acs = cenpy.remote.APIConnection(\"ACSDT5Y2015\")\n",
    "alt.data_transformers.enable('json')"
   ]
  },
  {
   "cell_type": "code",
   "execution_count": 345,
   "id": "2d9b12c2",
   "metadata": {},
   "outputs": [],
   "source": [
    "censusRace = acs.query(\n",
    "    cols=[\"NAME\",\"B02001_001E\",\"B02001_002E\"],\n",
    "    geo_unit=\"block group:*\",\n",
    "    geo_filter={\n",
    "                \"state\" : \"42\", \n",
    "                \"county\" : \"101\"\n",
    "               },\n",
    ").rename(columns={\"B02001_001E\": \"totalPop\",\"B02001_002E\": \"whitePop\"}, errors=\"raise\")"
   ]
  },
  {
   "cell_type": "code",
   "execution_count": 356,
   "id": "42ef51cc",
   "metadata": {},
   "outputs": [
    {
     "name": "stderr",
     "output_type": "stream",
     "text": [
      "D:\\Miniconda_Python\\envs\\musa-550-fall-2021\\lib\\site-packages\\pyproj\\crs\\crs.py:68: FutureWarning: '+init=<authority>:<code>' syntax is deprecated. '<authority>:<code>' is the preferred initialization method. When making the change, be mindful of axis order changes: https://pyproj4.github.io/pyproj/stable/gotchas.html#axis-order-changes-in-proj-6\n",
      "  return _prepare_from_string(\" \".join(pjargs))\n"
     ]
    }
   ],
   "source": [
    "acs.set_mapservice(\"tigerWMS_ACS2015\")\n",
    "where_clause = \"STATE = 42 AND COUNTY = 101\"\n",
    "censusTract = acs.mapservice.layers[10].query(where=where_clause)\n",
    "censusTract = censusTract[[\"STATE\",\"COUNTY\",\"TRACT\",'BLKGRP',\"geometry\"]]\n",
    "censusTract = censusTract.to_crs(4326)"
   ]
  },
  {
   "cell_type": "code",
   "execution_count": 359,
   "id": "151d8083",
   "metadata": {},
   "outputs": [
    {
     "data": {
      "text/plain": [
       "(1336, 5)"
      ]
     },
     "execution_count": 359,
     "metadata": {},
     "output_type": "execute_result"
    }
   ],
   "source": [
    "censusTract.shape"
   ]
  },
  {
   "cell_type": "code",
   "execution_count": 360,
   "id": "e9662f96",
   "metadata": {},
   "outputs": [
    {
     "data": {
      "text/html": [
       "<div>\n",
       "<style scoped>\n",
       "    .dataframe tbody tr th:only-of-type {\n",
       "        vertical-align: middle;\n",
       "    }\n",
       "\n",
       "    .dataframe tbody tr th {\n",
       "        vertical-align: top;\n",
       "    }\n",
       "\n",
       "    .dataframe thead th {\n",
       "        text-align: right;\n",
       "    }\n",
       "</style>\n",
       "<table border=\"1\" class=\"dataframe\">\n",
       "  <thead>\n",
       "    <tr style=\"text-align: right;\">\n",
       "      <th></th>\n",
       "      <th>NAME</th>\n",
       "      <th>totalPop</th>\n",
       "      <th>whitePop</th>\n",
       "      <th>state</th>\n",
       "      <th>county</th>\n",
       "      <th>tract</th>\n",
       "      <th>block group</th>\n",
       "      <th>whitePercep</th>\n",
       "      <th>nonwhitePercep</th>\n",
       "    </tr>\n",
       "  </thead>\n",
       "  <tbody>\n",
       "    <tr>\n",
       "      <th>0</th>\n",
       "      <td>Block Group 1, Census Tract 81.02, Philadelphi...</td>\n",
       "      <td>858</td>\n",
       "      <td>0</td>\n",
       "      <td>42</td>\n",
       "      <td>101</td>\n",
       "      <td>008102</td>\n",
       "      <td>1</td>\n",
       "      <td>0.000000</td>\n",
       "      <td>1.000000</td>\n",
       "    </tr>\n",
       "    <tr>\n",
       "      <th>1</th>\n",
       "      <td>Block Group 5, Census Tract 81.02, Philadelphi...</td>\n",
       "      <td>894</td>\n",
       "      <td>11</td>\n",
       "      <td>42</td>\n",
       "      <td>101</td>\n",
       "      <td>008102</td>\n",
       "      <td>5</td>\n",
       "      <td>0.012304</td>\n",
       "      <td>0.987696</td>\n",
       "    </tr>\n",
       "    <tr>\n",
       "      <th>2</th>\n",
       "      <td>Block Group 3, Census Tract 81.02, Philadelphi...</td>\n",
       "      <td>543</td>\n",
       "      <td>0</td>\n",
       "      <td>42</td>\n",
       "      <td>101</td>\n",
       "      <td>008102</td>\n",
       "      <td>3</td>\n",
       "      <td>0.000000</td>\n",
       "      <td>1.000000</td>\n",
       "    </tr>\n",
       "    <tr>\n",
       "      <th>3</th>\n",
       "      <td>Block Group 2, Census Tract 248, Philadelphia ...</td>\n",
       "      <td>1109</td>\n",
       "      <td>26</td>\n",
       "      <td>42</td>\n",
       "      <td>101</td>\n",
       "      <td>024800</td>\n",
       "      <td>2</td>\n",
       "      <td>0.023445</td>\n",
       "      <td>0.976555</td>\n",
       "    </tr>\n",
       "    <tr>\n",
       "      <th>4</th>\n",
       "      <td>Block Group 1, Census Tract 2, Philadelphia Co...</td>\n",
       "      <td>2331</td>\n",
       "      <td>911</td>\n",
       "      <td>42</td>\n",
       "      <td>101</td>\n",
       "      <td>000200</td>\n",
       "      <td>1</td>\n",
       "      <td>0.390819</td>\n",
       "      <td>0.609181</td>\n",
       "    </tr>\n",
       "  </tbody>\n",
       "</table>\n",
       "</div>"
      ],
      "text/plain": [
       "                                                NAME  totalPop  whitePop  \\\n",
       "0  Block Group 1, Census Tract 81.02, Philadelphi...       858         0   \n",
       "1  Block Group 5, Census Tract 81.02, Philadelphi...       894        11   \n",
       "2  Block Group 3, Census Tract 81.02, Philadelphi...       543         0   \n",
       "3  Block Group 2, Census Tract 248, Philadelphia ...      1109        26   \n",
       "4  Block Group 1, Census Tract 2, Philadelphia Co...      2331       911   \n",
       "\n",
       "  state county   tract block group  whitePercep  nonwhitePercep  \n",
       "0    42    101  008102           1     0.000000        1.000000  \n",
       "1    42    101  008102           5     0.012304        0.987696  \n",
       "2    42    101  008102           3     0.000000        1.000000  \n",
       "3    42    101  024800           2     0.023445        0.976555  \n",
       "4    42    101  000200           1     0.390819        0.609181  "
      ]
     },
     "execution_count": 360,
     "metadata": {},
     "output_type": "execute_result"
    }
   ],
   "source": [
    "censusRace2 = censusRace\n",
    "censusRace2['whitePop'] = pd.to_numeric(censusRace2['whitePop'], errors='ignore')\n",
    "censusRace2['totalPop'] = pd.to_numeric(censusRace2['totalPop'], errors='ignore')\n",
    "censusRace2['whitePercep'] = censusRace2['whitePop'] / censusRace2['totalPop'] \n",
    "censusRace2['nonwhitePercep'] = 1- censusRace2['whitePercep']\n",
    "censusRace2.head()"
   ]
  },
  {
   "cell_type": "code",
   "execution_count": 361,
   "id": "f323c1a5",
   "metadata": {},
   "outputs": [
    {
     "data": {
      "text/plain": [
       "(1336, 9)"
      ]
     },
     "execution_count": 361,
     "metadata": {},
     "output_type": "execute_result"
    }
   ],
   "source": [
    "censusRace2.shape"
   ]
  },
  {
   "cell_type": "code",
   "execution_count": 367,
   "id": "833d7bb6",
   "metadata": {},
   "outputs": [],
   "source": [
    "censusRaceWithGeometry = censusTract.merge(\n",
    "    censusRace2,\n",
    "    left_on=[\"STATE\", \"COUNTY\", \"TRACT\",'BLKGRP'],\n",
    "    right_on=[\"state\", \"county\", \"tract\",'block group'])\n",
    "censusRaceWithGeometry = censusRaceWithGeometry.drop(columns=[\"STATE\",\"COUNTY\",\"TRACT\",\"BLKGRP\"])"
   ]
  },
  {
   "cell_type": "code",
   "execution_count": 368,
   "id": "bc6ac569",
   "metadata": {},
   "outputs": [
    {
     "data": {
      "text/html": [
       "<div>\n",
       "<style scoped>\n",
       "    .dataframe tbody tr th:only-of-type {\n",
       "        vertical-align: middle;\n",
       "    }\n",
       "\n",
       "    .dataframe tbody tr th {\n",
       "        vertical-align: top;\n",
       "    }\n",
       "\n",
       "    .dataframe thead th {\n",
       "        text-align: right;\n",
       "    }\n",
       "</style>\n",
       "<table border=\"1\" class=\"dataframe\">\n",
       "  <thead>\n",
       "    <tr style=\"text-align: right;\">\n",
       "      <th></th>\n",
       "      <th>geometry</th>\n",
       "      <th>NAME</th>\n",
       "      <th>totalPop</th>\n",
       "      <th>whitePop</th>\n",
       "      <th>state</th>\n",
       "      <th>county</th>\n",
       "      <th>tract</th>\n",
       "      <th>block group</th>\n",
       "      <th>whitePercep</th>\n",
       "      <th>nonwhitePercep</th>\n",
       "    </tr>\n",
       "  </thead>\n",
       "  <tbody>\n",
       "    <tr>\n",
       "      <th>0</th>\n",
       "      <td>POLYGON ((-75.20223 39.96164, -75.20142 39.961...</td>\n",
       "      <td>Block Group 3, Census Tract 91, Philadelphia C...</td>\n",
       "      <td>1529</td>\n",
       "      <td>223</td>\n",
       "      <td>42</td>\n",
       "      <td>101</td>\n",
       "      <td>009100</td>\n",
       "      <td>3</td>\n",
       "      <td>0.145847</td>\n",
       "      <td>0.854153</td>\n",
       "    </tr>\n",
       "    <tr>\n",
       "      <th>1</th>\n",
       "      <td>POLYGON ((-75.24043 39.96354, -75.24011 39.965...</td>\n",
       "      <td>Block Group 3, Census Tract 95, Philadelphia C...</td>\n",
       "      <td>561</td>\n",
       "      <td>0</td>\n",
       "      <td>42</td>\n",
       "      <td>101</td>\n",
       "      <td>009500</td>\n",
       "      <td>3</td>\n",
       "      <td>0.000000</td>\n",
       "      <td>1.000000</td>\n",
       "    </tr>\n",
       "    <tr>\n",
       "      <th>2</th>\n",
       "      <td>POLYGON ((-75.14683 40.02960, -75.14671 40.030...</td>\n",
       "      <td>Block Group 1, Census Tract 282, Philadelphia ...</td>\n",
       "      <td>1118</td>\n",
       "      <td>21</td>\n",
       "      <td>42</td>\n",
       "      <td>101</td>\n",
       "      <td>028200</td>\n",
       "      <td>1</td>\n",
       "      <td>0.018784</td>\n",
       "      <td>0.981216</td>\n",
       "    </tr>\n",
       "    <tr>\n",
       "      <th>3</th>\n",
       "      <td>POLYGON ((-75.06981 40.07086, -75.06923 40.071...</td>\n",
       "      <td>Block Group 2, Census Tract 337.02, Philadelph...</td>\n",
       "      <td>1598</td>\n",
       "      <td>1010</td>\n",
       "      <td>42</td>\n",
       "      <td>101</td>\n",
       "      <td>033702</td>\n",
       "      <td>2</td>\n",
       "      <td>0.632040</td>\n",
       "      <td>0.367960</td>\n",
       "    </tr>\n",
       "    <tr>\n",
       "      <th>4</th>\n",
       "      <td>POLYGON ((-75.16508 39.91337, -75.16486 39.914...</td>\n",
       "      <td>Block Group 2, Census Tract 372, Philadelphia ...</td>\n",
       "      <td>1454</td>\n",
       "      <td>1196</td>\n",
       "      <td>42</td>\n",
       "      <td>101</td>\n",
       "      <td>037200</td>\n",
       "      <td>2</td>\n",
       "      <td>0.822558</td>\n",
       "      <td>0.177442</td>\n",
       "    </tr>\n",
       "  </tbody>\n",
       "</table>\n",
       "</div>"
      ],
      "text/plain": [
       "                                            geometry  \\\n",
       "0  POLYGON ((-75.20223 39.96164, -75.20142 39.961...   \n",
       "1  POLYGON ((-75.24043 39.96354, -75.24011 39.965...   \n",
       "2  POLYGON ((-75.14683 40.02960, -75.14671 40.030...   \n",
       "3  POLYGON ((-75.06981 40.07086, -75.06923 40.071...   \n",
       "4  POLYGON ((-75.16508 39.91337, -75.16486 39.914...   \n",
       "\n",
       "                                                NAME  totalPop  whitePop  \\\n",
       "0  Block Group 3, Census Tract 91, Philadelphia C...      1529       223   \n",
       "1  Block Group 3, Census Tract 95, Philadelphia C...       561         0   \n",
       "2  Block Group 1, Census Tract 282, Philadelphia ...      1118        21   \n",
       "3  Block Group 2, Census Tract 337.02, Philadelph...      1598      1010   \n",
       "4  Block Group 2, Census Tract 372, Philadelphia ...      1454      1196   \n",
       "\n",
       "  state county   tract block group  whitePercep  nonwhitePercep  \n",
       "0    42    101  009100           3     0.145847        0.854153  \n",
       "1    42    101  009500           3     0.000000        1.000000  \n",
       "2    42    101  028200           1     0.018784        0.981216  \n",
       "3    42    101  033702           2     0.632040        0.367960  \n",
       "4    42    101  037200           2     0.822558        0.177442  "
      ]
     },
     "execution_count": 368,
     "metadata": {},
     "output_type": "execute_result"
    }
   ],
   "source": [
    "censusRaceWithGeometry.head()"
   ]
  },
  {
   "cell_type": "code",
   "execution_count": 369,
   "id": "f6a72db5",
   "metadata": {},
   "outputs": [],
   "source": [
    "censusRaceWithGeometry.to_file('censusRaceWithGeometry.geojson', driver=\"GeoJSON\") "
   ]
  },
  {
   "cell_type": "markdown",
   "id": "8287d567",
   "metadata": {},
   "source": [
    "# 311 Complaints"
   ]
  },
  {
   "cell_type": "code",
   "execution_count": 309,
   "id": "dd901fa9",
   "metadata": {},
   "outputs": [],
   "source": [
    "complaint311 = pd.read_csv (\"downloaded_public_cases_fc.csv\")"
   ]
  },
  {
   "cell_type": "code",
   "execution_count": 310,
   "id": "e6d82d5d",
   "metadata": {},
   "outputs": [],
   "source": [
    "ndService=['Abandoned Vehicle','Graffiti Removal','Vacant House or Commercial','Street Light Outage','Traffic Signal Emergency','Dead Animal in Street', 'Street Defect','Vacant Lot Clean-Up', 'Alley Light Outage', 'Street Trees', 'Abandoned Bike',\n",
    "       'Complaint (Streets)', 'Street Paving', 'Tree Dangerous']"
   ]
  },
  {
   "cell_type": "code",
   "execution_count": 316,
   "id": "1c892c1d",
   "metadata": {},
   "outputs": [
    {
     "data": {
      "text/plain": [
       "['Abandoned Vehicle',\n",
       " 'Graffiti Removal',\n",
       " 'Vacant House or Commercial',\n",
       " 'Street Light Outage',\n",
       " 'Traffic Signal Emergency',\n",
       " 'Dead Animal in Street',\n",
       " 'Street Defect',\n",
       " 'Vacant Lot Clean-Up',\n",
       " 'Alley Light Outage',\n",
       " 'Street Trees',\n",
       " 'Abandoned Bike',\n",
       " 'Complaint (Streets)',\n",
       " 'Street Paving',\n",
       " 'Tree Dangerous']"
      ]
     },
     "execution_count": 316,
     "metadata": {},
     "output_type": "execute_result"
    }
   ],
   "source": [
    "ndService"
   ]
  },
  {
   "cell_type": "code",
   "execution_count": 311,
   "id": "257ad746",
   "metadata": {},
   "outputs": [],
   "source": [
    "complaint311Filter = complaint311.query('service_name in @ndService')\n",
    "complaint311Filter = complaint311Filter[[\"service_request_id\",\"service_name\",\"agency_responsible\",\"lat\",\"lon\"]].dropna()"
   ]
  },
  {
   "cell_type": "code",
   "execution_count": 312,
   "id": "7c1ce4c0",
   "metadata": {},
   "outputs": [],
   "source": [
    "complaint311Filter['geometry'] = gpd.points_from_xy(complaint311Filter['lon'], complaint311Filter['lat'])\n",
    "complaint311Filter = gpd.GeoDataFrame(complaint311Filter, geometry='geometry', crs=\"EPSG:4326\")"
   ]
  },
  {
   "cell_type": "code",
   "execution_count": 315,
   "id": "7f1783f1",
   "metadata": {},
   "outputs": [
    {
     "data": {
      "text/html": [
       "<div>\n",
       "<style scoped>\n",
       "    .dataframe tbody tr th:only-of-type {\n",
       "        vertical-align: middle;\n",
       "    }\n",
       "\n",
       "    .dataframe tbody tr th {\n",
       "        vertical-align: top;\n",
       "    }\n",
       "\n",
       "    .dataframe thead th {\n",
       "        text-align: right;\n",
       "    }\n",
       "</style>\n",
       "<table border=\"1\" class=\"dataframe\">\n",
       "  <thead>\n",
       "    <tr style=\"text-align: right;\">\n",
       "      <th></th>\n",
       "      <th>service_request_id</th>\n",
       "      <th>service_name</th>\n",
       "      <th>agency_responsible</th>\n",
       "      <th>lat</th>\n",
       "      <th>lon</th>\n",
       "      <th>geometry</th>\n",
       "    </tr>\n",
       "  </thead>\n",
       "  <tbody>\n",
       "    <tr>\n",
       "      <th>0</th>\n",
       "      <td>8997243</td>\n",
       "      <td>Abandoned Vehicle</td>\n",
       "      <td>Police Department</td>\n",
       "      <td>39.911438</td>\n",
       "      <td>-75.176307</td>\n",
       "      <td>POINT (-75.17631 39.91144)</td>\n",
       "    </tr>\n",
       "    <tr>\n",
       "      <th>1</th>\n",
       "      <td>8967080</td>\n",
       "      <td>Graffiti Removal</td>\n",
       "      <td>Community Life Improvement Program</td>\n",
       "      <td>39.956295</td>\n",
       "      <td>-75.211248</td>\n",
       "      <td>POINT (-75.21125 39.95629)</td>\n",
       "    </tr>\n",
       "    <tr>\n",
       "      <th>2</th>\n",
       "      <td>8967081</td>\n",
       "      <td>Graffiti Removal</td>\n",
       "      <td>Community Life Improvement Program</td>\n",
       "      <td>39.954192</td>\n",
       "      <td>-75.211891</td>\n",
       "      <td>POINT (-75.21189 39.95419)</td>\n",
       "    </tr>\n",
       "    <tr>\n",
       "      <th>3</th>\n",
       "      <td>8997258</td>\n",
       "      <td>Vacant House or Commercial</td>\n",
       "      <td>License &amp; Inspections</td>\n",
       "      <td>40.067824</td>\n",
       "      <td>-75.149906</td>\n",
       "      <td>POINT (-75.14991 40.06782)</td>\n",
       "    </tr>\n",
       "    <tr>\n",
       "      <th>5</th>\n",
       "      <td>8997338</td>\n",
       "      <td>Vacant House or Commercial</td>\n",
       "      <td>License &amp; Inspections</td>\n",
       "      <td>39.941959</td>\n",
       "      <td>-75.167067</td>\n",
       "      <td>POINT (-75.16707 39.94196)</td>\n",
       "    </tr>\n",
       "    <tr>\n",
       "      <th>...</th>\n",
       "      <td>...</td>\n",
       "      <td>...</td>\n",
       "      <td>...</td>\n",
       "      <td>...</td>\n",
       "      <td>...</td>\n",
       "      <td>...</td>\n",
       "    </tr>\n",
       "    <tr>\n",
       "      <th>569884</th>\n",
       "      <td>9404728</td>\n",
       "      <td>Alley Light Outage</td>\n",
       "      <td>Streets Department</td>\n",
       "      <td>40.018727</td>\n",
       "      <td>-75.073542</td>\n",
       "      <td>POINT (-75.07354 40.01873)</td>\n",
       "    </tr>\n",
       "    <tr>\n",
       "      <th>569885</th>\n",
       "      <td>9079333</td>\n",
       "      <td>Alley Light Outage</td>\n",
       "      <td>Streets Department</td>\n",
       "      <td>40.018727</td>\n",
       "      <td>-75.073542</td>\n",
       "      <td>POINT (-75.07354 40.01873)</td>\n",
       "    </tr>\n",
       "    <tr>\n",
       "      <th>569886</th>\n",
       "      <td>9523735</td>\n",
       "      <td>Abandoned Vehicle</td>\n",
       "      <td>Police Department</td>\n",
       "      <td>40.032944</td>\n",
       "      <td>-75.181368</td>\n",
       "      <td>POINT (-75.18137 40.03294)</td>\n",
       "    </tr>\n",
       "    <tr>\n",
       "      <th>569888</th>\n",
       "      <td>9165792</td>\n",
       "      <td>Abandoned Vehicle</td>\n",
       "      <td>Police Department</td>\n",
       "      <td>40.007009</td>\n",
       "      <td>-75.173339</td>\n",
       "      <td>POINT (-75.17334 40.00701)</td>\n",
       "    </tr>\n",
       "    <tr>\n",
       "      <th>569889</th>\n",
       "      <td>9154204</td>\n",
       "      <td>Abandoned Vehicle</td>\n",
       "      <td>Police Department</td>\n",
       "      <td>40.007009</td>\n",
       "      <td>-75.173339</td>\n",
       "      <td>POINT (-75.17334 40.00701)</td>\n",
       "    </tr>\n",
       "  </tbody>\n",
       "</table>\n",
       "<p>64523 rows × 6 columns</p>\n",
       "</div>"
      ],
      "text/plain": [
       "        service_request_id                service_name  \\\n",
       "0                  8997243           Abandoned Vehicle   \n",
       "1                  8967080            Graffiti Removal   \n",
       "2                  8967081            Graffiti Removal   \n",
       "3                  8997258  Vacant House or Commercial   \n",
       "5                  8997338  Vacant House or Commercial   \n",
       "...                    ...                         ...   \n",
       "569884             9404728          Alley Light Outage   \n",
       "569885             9079333          Alley Light Outage   \n",
       "569886             9523735           Abandoned Vehicle   \n",
       "569888             9165792           Abandoned Vehicle   \n",
       "569889             9154204           Abandoned Vehicle   \n",
       "\n",
       "                        agency_responsible        lat        lon  \\\n",
       "0                        Police Department  39.911438 -75.176307   \n",
       "1       Community Life Improvement Program  39.956295 -75.211248   \n",
       "2       Community Life Improvement Program  39.954192 -75.211891   \n",
       "3                    License & Inspections  40.067824 -75.149906   \n",
       "5                    License & Inspections  39.941959 -75.167067   \n",
       "...                                    ...        ...        ...   \n",
       "569884                  Streets Department  40.018727 -75.073542   \n",
       "569885                  Streets Department  40.018727 -75.073542   \n",
       "569886                   Police Department  40.032944 -75.181368   \n",
       "569888                   Police Department  40.007009 -75.173339   \n",
       "569889                   Police Department  40.007009 -75.173339   \n",
       "\n",
       "                          geometry  \n",
       "0       POINT (-75.17631 39.91144)  \n",
       "1       POINT (-75.21125 39.95629)  \n",
       "2       POINT (-75.21189 39.95419)  \n",
       "3       POINT (-75.14991 40.06782)  \n",
       "5       POINT (-75.16707 39.94196)  \n",
       "...                            ...  \n",
       "569884  POINT (-75.07354 40.01873)  \n",
       "569885  POINT (-75.07354 40.01873)  \n",
       "569886  POINT (-75.18137 40.03294)  \n",
       "569888  POINT (-75.17334 40.00701)  \n",
       "569889  POINT (-75.17334 40.00701)  \n",
       "\n",
       "[64523 rows x 6 columns]"
      ]
     },
     "execution_count": 315,
     "metadata": {},
     "output_type": "execute_result"
    }
   ],
   "source": [
    "complaint311Filter"
   ]
  },
  {
   "cell_type": "markdown",
   "id": "44f6998a",
   "metadata": {},
   "source": [
    "# Crime"
   ]
  },
  {
   "cell_type": "code",
   "execution_count": 78,
   "id": "624386d7",
   "metadata": {},
   "outputs": [],
   "source": [
    "import carto2gpd\n",
    "import matplotlib\n",
    "import numpy as np\n",
    "from sklearn.neighbors import NearestNeighbors\n",
    "import altair as alt\n",
    "from vega_datasets import data\n",
    "from altair import datum"
   ]
  },
  {
   "cell_type": "code",
   "execution_count": 25,
   "id": "75c20a55",
   "metadata": {},
   "outputs": [],
   "source": [
    "url = \"https://phl.carto.com/api/v2/sql\"\n",
    "table_name = \"incidents_part1_part2\"\n",
    "where = \"dispatch_date >= '2015-01-01' AND dispatch_date < '2016-01-01'\"\n",
    "crime = carto2gpd.get(url, table_name, where=where)"
   ]
  },
  {
   "cell_type": "code",
   "execution_count": 26,
   "id": "a780e5a8",
   "metadata": {},
   "outputs": [],
   "source": [
    "crime = crime.drop(columns=[\"objectid\",\"dc_dist\",\"psa\",\"dc_key\",\"ucr_general\",\"point_x\",\"point_y\"])\n",
    "crime[\"count\"]=1\n",
    "crime = crime.rename(columns={\"text_general_code\": \"crimeType\"}, errors=\"raise\")"
   ]
  },
  {
   "cell_type": "code",
   "execution_count": 5,
   "id": "53dfadf3",
   "metadata": {},
   "outputs": [],
   "source": [
    "total = crime.groupby(\"crimeType\").sum(\"count\").sort_values(by=\"count\",ascending=False)\n",
    "total = total.reset_index()"
   ]
  },
  {
   "cell_type": "markdown",
   "id": "d97f9609",
   "metadata": {},
   "source": [
    "alt.Chart(total).mark_bar().encode(\n",
    "    alt.X('crimeType:N',axis=alt.Axis(labelAngle=90),sort='-y'),\n",
    "    alt.Y('count:Q'),\n",
    "    color = alt.value(\"#F79D46\"))"
   ]
  },
  {
   "cell_type": "code",
   "execution_count": 285,
   "id": "0ac6e864",
   "metadata": {},
   "outputs": [],
   "source": [
    "selectedCrimeType = total[0:20].crimeType\n",
    "selectedCrimeType\n",
    "selectCrime = crime[crime['crimeType'].isin(selectedCrimeType)]"
   ]
  },
  {
   "cell_type": "code",
   "execution_count": 288,
   "id": "ecdfe6a6",
   "metadata": {},
   "outputs": [],
   "source": [
    "def get_xy_from_geometry(df): \n",
    "    x = df.geometry.centroid.x\n",
    "    y = df.geometry.centroid.y\n",
    "    return np.column_stack((x, y))"
   ]
  },
  {
   "cell_type": "code",
   "execution_count": 11,
   "id": "41da49c2",
   "metadata": {},
   "outputs": [],
   "source": [
    "pointsWithSeg = gpd.read_file(\"pointsWithSeg.geojson\")\n",
    "\n",
    "pointsWithSegXY = get_xy_from_geometry(pointsWithSeg.to_crs(epsg=3857))\n",
    "crimeXY = get_xy_from_geometry(selectCrime.to_crs(epsg=3857))\n",
    "\n",
    "nbrs = NearestNeighbors(n_neighbors=1)\n",
    "nbrs.fit(pointsWithSegXY)\n",
    "\n",
    "Dists, Indices = nbrs.kneighbors(crimeXY)"
   ]
  },
  {
   "cell_type": "code",
   "execution_count": 303,
   "id": "0115cc57",
   "metadata": {},
   "outputs": [
    {
     "name": "stderr",
     "output_type": "stream",
     "text": [
      "D:\\Miniconda_Python\\envs\\musa-550-fall-2021\\lib\\site-packages\\geopandas\\geodataframe.py:1322: SettingWithCopyWarning: \n",
      "A value is trying to be set on a copy of a slice from a DataFrame.\n",
      "Try using .loc[row_indexer,col_indexer] = value instead\n",
      "\n",
      "See the caveats in the documentation: https://pandas.pydata.org/pandas-docs/stable/user_guide/indexing.html#returning-a-view-versus-a-copy\n",
      "  super(GeoDataFrame, self).__setitem__(key, value)\n"
     ]
    }
   ],
   "source": [
    "selectCrime[\"nearestSVPoint\"] = Indices\n",
    "selectCrime2 = selectCrime[['geometry','cartodb_id','crimeType','count','nearestSVPoint']].merge(pointsWithSeg.drop(columns=[\"geometry\",\"fid\",\"SEG_ID\"]),how=\"left\",left_on=\"nearestSVPoint\",right_index=True)\n",
    "selectCrime2 = selectCrime2.drop(columns=\"nearestSVPoint\").rename(columns={\"pointId\": \"nearestSVPoint\"}, errors=\"raise\")"
   ]
  },
  {
   "cell_type": "code",
   "execution_count": 307,
   "id": "8d7c8e0c",
   "metadata": {
    "scrolled": true
   },
   "outputs": [],
   "source": [
    "selectCrime2 = round(selectCrime2,3)\n",
    "selectCrime2[\"crimeTypeValue\"] = selectCrime2.crimeType.rank(method=\"first\",pct=True)\n",
    "selectCrime2 = selectCrime2.rename(columns={\"crimeTypeValue\": \"All\"}, errors=\"raise\")"
   ]
  },
  {
   "cell_type": "code",
   "execution_count": 373,
   "id": "2c91bddf",
   "metadata": {},
   "outputs": [],
   "source": [
    "selectCrime2.to_csv('selectCrime2.csv') "
   ]
  },
  {
   "cell_type": "code",
   "execution_count": 370,
   "id": "e4f76a33",
   "metadata": {},
   "outputs": [
    {
     "data": {
      "text/html": [
       "\n",
       "<div id=\"altair-viz-a1180d37c71c40ebb8f9e032d363fced\"></div>\n",
       "<script type=\"text/javascript\">\n",
       "  (function(spec, embedOpt){\n",
       "    let outputDiv = document.currentScript.previousElementSibling;\n",
       "    if (outputDiv.id !== \"altair-viz-a1180d37c71c40ebb8f9e032d363fced\") {\n",
       "      outputDiv = document.getElementById(\"altair-viz-a1180d37c71c40ebb8f9e032d363fced\");\n",
       "    }\n",
       "    const paths = {\n",
       "      \"vega\": \"https://cdn.jsdelivr.net/npm//vega@5?noext\",\n",
       "      \"vega-lib\": \"https://cdn.jsdelivr.net/npm//vega-lib?noext\",\n",
       "      \"vega-lite\": \"https://cdn.jsdelivr.net/npm//vega-lite@4.8.1?noext\",\n",
       "      \"vega-embed\": \"https://cdn.jsdelivr.net/npm//vega-embed@6?noext\",\n",
       "    };\n",
       "\n",
       "    function loadScript(lib) {\n",
       "      return new Promise(function(resolve, reject) {\n",
       "        var s = document.createElement('script');\n",
       "        s.src = paths[lib];\n",
       "        s.async = true;\n",
       "        s.onload = () => resolve(paths[lib]);\n",
       "        s.onerror = () => reject(`Error loading script: ${paths[lib]}`);\n",
       "        document.getElementsByTagName(\"head\")[0].appendChild(s);\n",
       "      });\n",
       "    }\n",
       "\n",
       "    function showError(err) {\n",
       "      outputDiv.innerHTML = `<div class=\"error\" style=\"color:red;\">${err}</div>`;\n",
       "      throw err;\n",
       "    }\n",
       "\n",
       "    function displayChart(vegaEmbed) {\n",
       "      vegaEmbed(outputDiv, spec, embedOpt)\n",
       "        .catch(err => showError(`Javascript Error: ${err.message}<br>This usually means there's a typo in your chart specification. See the javascript console for the full traceback.`));\n",
       "    }\n",
       "\n",
       "    if(typeof define === \"function\" && define.amd) {\n",
       "      requirejs.config({paths});\n",
       "      require([\"vega-embed\"], displayChart, err => showError(`Error loading script: ${err.message}`));\n",
       "    } else if (typeof vegaEmbed === \"function\") {\n",
       "      displayChart(vegaEmbed);\n",
       "    } else {\n",
       "      loadScript(\"vega\")\n",
       "        .then(() => loadScript(\"vega-lite\"))\n",
       "        .then(() => loadScript(\"vega-embed\"))\n",
       "        .catch(showError)\n",
       "        .then(() => displayChart(vegaEmbed));\n",
       "    }\n",
       "  })({\"config\": {\"view\": {\"continuousWidth\": 400, \"continuousHeight\": 300, \"strokeWidth\": 0}}, \"data\": {\"url\": \"altair-data-c9f6a4d7de70f17a0d9334bdf01b10a8.json\", \"format\": {\"type\": \"json\"}}, \"mark\": {\"type\": \"line\", \"size\": 0.5}, \"encoding\": {\"color\": {\"condition\": {\"type\": \"nominal\", \"field\": \"crimeType\", \"scale\": {\"scheme\": \"category20b\"}, \"selection\": \"selector113\"}, \"value\": \"lightgray\"}, \"detail\": {\"type\": \"nominal\", \"field\": \"index\"}, \"opacity\": {\"condition\": {\"value\": 1, \"selection\": \"selector113\"}, \"value\": 0.07}, \"x\": {\"type\": \"nominal\", \"axis\": {\"domain\": false, \"labelAngle\": 0, \"ticks\": false}, \"field\": \"key\", \"title\": \"Street Component\"}, \"y\": {\"type\": \"quantitative\", \"axis\": {\"domain\": false, \"ticks\": false}, \"field\": \"minmax_value\", \"title\": \"Normalized porportion\"}}, \"height\": 500, \"selection\": {\"selector113\": {\"type\": \"multi\", \"fields\": [\"crimeType\"], \"bind\": \"legend\"}, \"selector114\": {\"type\": \"interval\", \"bind\": \"scales\", \"encodings\": [\"x\", \"y\"]}}, \"title\": \"Relationship between street component and crime type\", \"transform\": [{\"window\": [{\"op\": \"count\", \"as\": \"index\"}]}, {\"fold\": [\"All\", \"wall\", \"lives\", \"building\", \"infrastructure\", \"road\", \"sidewalk\", \"sky\", \"green\", \"transportation\"]}, {\"joinaggregate\": [{\"op\": \"min\", \"field\": \"value\", \"as\": \"min\"}, {\"op\": \"max\", \"field\": \"value\", \"as\": \"max\"}], \"groupby\": [\"key\"]}, {\"calculate\": \"((datum.value - datum.min) / (datum.max - datum.min))\", \"as\": \"minmax_value\"}], \"width\": 1000, \"$schema\": \"https://vega.github.io/schema/vega-lite/v4.8.1.json\"}, {\"mode\": \"vega-lite\"});\n",
       "</script>"
      ],
      "text/plain": [
       "alt.Chart(...)"
      ]
     },
     "execution_count": 370,
     "metadata": {},
     "output_type": "execute_result"
    }
   ],
   "source": [
    "sampleCrime = selectCrime2.groupby('crimeType', group_keys=False).apply(lambda x: x.sample(min(len(x), 200)))\n",
    "alt.data_transformers.enable('json')\n",
    "\n",
    "selection = alt.selection_multi(fields=['crimeType'], bind='legend')\n",
    "\n",
    "chart=alt.Chart(sampleCrime).transform_window(\n",
    "    index='count()'\n",
    ").transform_fold(\n",
    "    ['All','wall', 'lives','building','infrastructure','road','sidewalk','sky','green','transportation']\n",
    ").transform_joinaggregate(\n",
    "     min='min(value)',\n",
    "     max='max(value)',\n",
    "     groupby=['key']\n",
    ").transform_calculate(\n",
    "    minmax_value=(datum.value-datum.min)/(datum.max-datum.min)\n",
    ").mark_line(size=0.5).encode(\n",
    "    x=alt.X('key:N',axis=alt.Axis(ticks=False, domain=False,labelAngle=0)),\n",
    "    y=alt.Y('minmax_value:Q',axis=alt.Axis(ticks=False, domain=False)),\n",
    "    color=alt.condition(selection,\n",
    "                        alt.Color('crimeType:N', scale=alt.Scale(scheme='category20b')),\n",
    "                        alt.value('lightgray')),   \n",
    "    opacity=alt.condition(selection, alt.value(1), alt.value(0.07)),   \n",
    "    detail='index:N',\n",
    ").properties(\n",
    "    width=1000,\n",
    "    height=500,\n",
    "    title=\"Relationship between street component and crime type\"\n",
    ").configure_view(\n",
    "    strokeWidth=0\n",
    ").add_selection(selection).interactive()\n",
    "\n",
    "chart.encoding.x.title = 'Street Component'\n",
    "chart.encoding.y.title = 'Normalized porportion'\n",
    "chart"
   ]
  },
  {
   "cell_type": "code",
   "execution_count": 372,
   "id": "7e61542a",
   "metadata": {},
   "outputs": [
    {
     "data": {
      "text/plain": [
       "{'config': {'view': {'continuousWidth': 400,\n",
       "   'continuousHeight': 300,\n",
       "   'strokeWidth': 0}},\n",
       " 'data': {'url': 'altair-data-c9f6a4d7de70f17a0d9334bdf01b10a8.json',\n",
       "  'format': {'type': 'json'}},\n",
       " 'mark': {'type': 'line', 'size': 0.5},\n",
       " 'encoding': {'color': {'condition': {'type': 'nominal',\n",
       "    'field': 'crimeType',\n",
       "    'scale': {'scheme': 'category20b'},\n",
       "    'selection': 'selector113'},\n",
       "   'value': 'lightgray'},\n",
       "  'detail': {'type': 'nominal', 'field': 'index'},\n",
       "  'opacity': {'condition': {'value': 1, 'selection': 'selector113'},\n",
       "   'value': 0.07},\n",
       "  'x': {'type': 'nominal',\n",
       "   'axis': {'domain': False, 'labelAngle': 0, 'ticks': False},\n",
       "   'field': 'key',\n",
       "   'title': 'Street Component'},\n",
       "  'y': {'type': 'quantitative',\n",
       "   'axis': {'domain': False, 'ticks': False},\n",
       "   'field': 'minmax_value',\n",
       "   'title': 'Normalized porportion'}},\n",
       " 'height': 500,\n",
       " 'selection': {'selector113': {'type': 'multi',\n",
       "   'fields': ['crimeType'],\n",
       "   'bind': 'legend'},\n",
       "  'selector114': {'type': 'interval',\n",
       "   'bind': 'scales',\n",
       "   'encodings': ['x', 'y']}},\n",
       " 'title': 'Relationship between street component and crime type',\n",
       " 'transform': [{'window': [{'op': 'count', 'as': 'index'}]},\n",
       "  {'fold': ['All',\n",
       "    'wall',\n",
       "    'lives',\n",
       "    'building',\n",
       "    'infrastructure',\n",
       "    'road',\n",
       "    'sidewalk',\n",
       "    'sky',\n",
       "    'green',\n",
       "    'transportation']},\n",
       "  {'joinaggregate': [{'op': 'min', 'field': 'value', 'as': 'min'},\n",
       "    {'op': 'max', 'field': 'value', 'as': 'max'}],\n",
       "   'groupby': ['key']},\n",
       "  {'calculate': '((datum.value - datum.min) / (datum.max - datum.min))',\n",
       "   'as': 'minmax_value'}],\n",
       " 'width': 1000,\n",
       " '$schema': 'https://vega.github.io/schema/vega-lite/v4.8.1.json'}"
      ]
     },
     "execution_count": 372,
     "metadata": {},
     "output_type": "execute_result"
    }
   ],
   "source": [
    "chart.to_dict()"
   ]
  },
  {
   "cell_type": "markdown",
   "id": "b3055b85",
   "metadata": {},
   "source": [
    "# creating df for regression\n",
    "### creating 100m buffer around street view points"
   ]
  },
  {
   "cell_type": "code",
   "execution_count": 134,
   "id": "0dc98156",
   "metadata": {},
   "outputs": [],
   "source": [
    "pointsWithSeg = gpd.read_file(\"pointsWithSeg.geojson\")\n",
    "pointsWithSeg = pointsWithSeg.to_crs(3857)\n",
    "sv_buffer = pointsWithSeg.buffer(100)\n",
    "sv_buffer = gpd.GeoDataFrame(pointsWithSeg.pointId,geometry=sv_buffer)"
   ]
  },
  {
   "cell_type": "code",
   "execution_count": 119,
   "id": "8215bffa",
   "metadata": {},
   "outputs": [],
   "source": [
    "crime_geo = crime.geometry.to_crs(3857)"
   ]
  },
  {
   "cell_type": "code",
   "execution_count": 147,
   "id": "1573e7b6",
   "metadata": {},
   "outputs": [
    {
     "data": {
      "text/html": [
       "<div>\n",
       "<style scoped>\n",
       "    .dataframe tbody tr th:only-of-type {\n",
       "        vertical-align: middle;\n",
       "    }\n",
       "\n",
       "    .dataframe tbody tr th {\n",
       "        vertical-align: top;\n",
       "    }\n",
       "\n",
       "    .dataframe thead th {\n",
       "        text-align: right;\n",
       "    }\n",
       "</style>\n",
       "<table border=\"1\" class=\"dataframe\">\n",
       "  <thead>\n",
       "    <tr style=\"text-align: right;\">\n",
       "      <th></th>\n",
       "      <th>pointId</th>\n",
       "      <th>geometry</th>\n",
       "    </tr>\n",
       "  </thead>\n",
       "  <tbody>\n",
       "    <tr>\n",
       "      <th>7064</th>\n",
       "      <td>007065</td>\n",
       "      <td>POLYGON ((-8357602.903 4869226.623, -8357603.3...</td>\n",
       "    </tr>\n",
       "  </tbody>\n",
       "</table>\n",
       "</div>"
      ],
      "text/plain": [
       "     pointId                                           geometry\n",
       "7064  007065  POLYGON ((-8357602.903 4869226.623, -8357603.3..."
      ]
     },
     "execution_count": 147,
     "metadata": {},
     "output_type": "execute_result"
    }
   ],
   "source": [
    "sv_buffer.iloc[7064:7065,]"
   ]
  },
  {
   "cell_type": "markdown",
   "id": "b3055b85",
   "metadata": {},
   "source": [
    "### calculating crime number (all crimes) within buffer"
   ]
  },
  {
   "cell_type": "code",
   "execution_count": 136,
   "id": "f65076ef",
   "metadata": {},
   "outputs": [],
   "source": [
    "crime_by_buffer = gpd.sjoin(sv_buffer,crime_geo.to_frame(),how=\"left\")"
   ]
  },
  {
   "cell_type": "code",
   "execution_count": null,
   "id": "a60e8b24",
   "metadata": {},
   "outputs": [],
   "source": [
    "# get counts\n",
    "counts = crime_by_buffer.groupby('pointId').agg('count')['index_right']\n",
    "counts.name = \"crime_counts\"\n",
    "\n",
    "# join back in to sv points\n",
    "pointsWithSeg = pointsWithSeg.join(counts,on=\"pointId\")"
   ]
  },
  {
   "cell_type": "code",
   "execution_count": 138,
   "id": "2d34ed55",
   "metadata": {},
   "outputs": [],
   "source": [
    "pointsWithSeg = pointsWithSeg.drop(columns=['fid','SEG_ID','geometry'])\n",
    "quantile_cols = pointsWithSeg.columns[pointsWithSeg.columns.str.endswith('_q')]\n",
    "pointsWithSeg = pointsWithSeg.drop(columns=quantile_cols)"
   ]
  },
  {
   "cell_type": "code",
   "execution_count": 150,
   "id": "3808eaa1",
   "metadata": {},
   "outputs": [],
   "source": [
    "pointsWithSeg.to_csv('./correlation_ready.csv')"
   ]
  },
  {
   "cell_type": "code",
   "execution_count": null,
   "id": "19b054f6",
   "metadata": {},
   "outputs": [
    {
     "data": {
      "application/vnd.jupyter.widget-view+json": {
       "model_id": "0f268dbc0e4f4afa816e8a75c5e4453f",
       "version_major": 2,
       "version_minor": 0
      },
      "image/png": "[encoded data removed]",
      "text/html": [
       "\n",
       "            <div style=\"display: inline-block;\">\n",
       "                <div class=\"jupyter-widgets widget-label\" style=\"text-align: center;\">\n",
       "                    Figure\n",
       "                </div>\n",
       "                <img src='data:image/png;base64,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' width=1200.0/>\n",
       "            </div>\n",
       "        "
      ],
      "text/plain": [
       "Canvas(toolbar=Toolbar(toolitems=[('Home', 'Reset original view', 'home', 'home'), ('Back', 'Back to previous …"
      ]
     },
     "metadata": {},
     "output_type": "display_data"
    }
   ],
   "source": [
    "%matplotlib widget\n",
    "import matplotlib.pyplot as plt\n",
    "\n",
    "f,ax = plt.subplots(figsize=(12,12))\n",
    "crime_geo.plot(ax=ax,c=\"r\",alpha=0.2)\n",
    "sv_buffer.plot(ax=ax,alpha=0.5)\n",
    "plt.show()"
   ]
  }
 ],
 "metadata": {
  "kernelspec": {
   "display_name": "Python 3 (ipykernel)",
   "language": "python",
   "name": "python3"
  },
  "language_info": {
   "codemirror_mode": {
    "name": "ipython",
    "version": 3
   },
   "file_extension": ".py",
   "mimetype": "text/x-python",
   "name": "python",
   "nbconvert_exporter": "python",
   "pygments_lexer": "ipython3",
   "version": "3.8.10"
  }
 },
 "nbformat": 4,
 "nbformat_minor": 5
}
