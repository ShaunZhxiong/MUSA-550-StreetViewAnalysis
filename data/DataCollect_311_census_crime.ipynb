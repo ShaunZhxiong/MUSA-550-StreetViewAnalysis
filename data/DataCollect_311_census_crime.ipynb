{
 "cells": [
  {
   "cell_type": "markdown",
   "id": "fbb1bb35",
   "metadata": {},
   "source": [
    "# Census Data"
   ]
  },
  {
   "cell_type": "code",
   "execution_count": 1,
   "id": "e932fe7b",
   "metadata": {},
   "outputs": [
    {
     "ename": "NameError",
     "evalue": "name 'alt' is not defined",
     "output_type": "error",
     "traceback": [
      "\u001b[0;31m---------------------------------------------------------------------------\u001b[0m",
      "\u001b[0;31mNameError\u001b[0m                                 Traceback (most recent call last)",
      "\u001b[0;32m/var/folders/j4/8g8c69z10w15rblr6nyzkbrc0000gn/T/ipykernel_20536/380322967.py\u001b[0m in \u001b[0;36m<module>\u001b[0;34m\u001b[0m\n\u001b[1;32m      3\u001b[0m \u001b[0;32mimport\u001b[0m \u001b[0mgeopandas\u001b[0m \u001b[0;32mas\u001b[0m \u001b[0mgpd\u001b[0m\u001b[0;34m\u001b[0m\u001b[0;34m\u001b[0m\u001b[0m\n\u001b[1;32m      4\u001b[0m \u001b[0macs\u001b[0m \u001b[0;34m=\u001b[0m \u001b[0mcenpy\u001b[0m\u001b[0;34m.\u001b[0m\u001b[0mremote\u001b[0m\u001b[0;34m.\u001b[0m\u001b[0mAPIConnection\u001b[0m\u001b[0;34m(\u001b[0m\u001b[0;34m\"ACSDT5Y2015\"\u001b[0m\u001b[0;34m)\u001b[0m\u001b[0;34m\u001b[0m\u001b[0;34m\u001b[0m\u001b[0m\n\u001b[0;32m----> 5\u001b[0;31m \u001b[0malt\u001b[0m\u001b[0;34m.\u001b[0m\u001b[0mdata_transformers\u001b[0m\u001b[0;34m.\u001b[0m\u001b[0menable\u001b[0m\u001b[0;34m(\u001b[0m\u001b[0;34m'json'\u001b[0m\u001b[0;34m)\u001b[0m\u001b[0;34m\u001b[0m\u001b[0;34m\u001b[0m\u001b[0m\n\u001b[0m",
      "\u001b[0;31mNameError\u001b[0m: name 'alt' is not defined"
     ]
    }
   ],
   "source": [
    "import cenpy\n",
    "import pandas as pd\n",
    "import geopandas as gpd\n",
    "acs = cenpy.remote.APIConnection(\"ACSDT5Y2015\")\n",
    "alt.data_transformers.enable('json')"
   ]
  },
  {
   "cell_type": "code",
   "execution_count": 345,
   "id": "2d9b12c2",
   "metadata": {},
   "outputs": [],
   "source": [
    "censusRace = acs.query(\n",
    "    cols=[\"NAME\",\"B02001_001E\",\"B02001_002E\"],\n",
    "    geo_unit=\"block group:*\",\n",
    "    geo_filter={\n",
    "                \"state\" : \"42\", \n",
    "                \"county\" : \"101\"\n",
    "               },\n",
    ").rename(columns={\"B02001_001E\": \"totalPop\",\"B02001_002E\": \"whitePop\"}, errors=\"raise\")"
   ]
  },
  {
   "cell_type": "code",
   "execution_count": 356,
   "id": "42ef51cc",
   "metadata": {},
   "outputs": [
    {
     "name": "stderr",
     "output_type": "stream",
     "text": [
      "D:\\Miniconda_Python\\envs\\musa-550-fall-2021\\lib\\site-packages\\pyproj\\crs\\crs.py:68: FutureWarning: '+init=<authority>:<code>' syntax is deprecated. '<authority>:<code>' is the preferred initialization method. When making the change, be mindful of axis order changes: https://pyproj4.github.io/pyproj/stable/gotchas.html#axis-order-changes-in-proj-6\n",
      "  return _prepare_from_string(\" \".join(pjargs))\n"
     ]
    }
   ],
   "source": [
    "acs.set_mapservice(\"tigerWMS_ACS2015\")\n",
    "where_clause = \"STATE = 42 AND COUNTY = 101\"\n",
    "censusTract = acs.mapservice.layers[10].query(where=where_clause)\n",
    "censusTract = censusTract[[\"STATE\",\"COUNTY\",\"TRACT\",'BLKGRP',\"geometry\"]]\n",
    "censusTract = censusTract.to_crs(4326)"
   ]
  },
  {
   "cell_type": "code",
   "execution_count": 359,
   "id": "151d8083",
   "metadata": {},
   "outputs": [
    {
     "data": {
      "text/plain": [
       "(1336, 5)"
      ]
     },
     "execution_count": 359,
     "metadata": {},
     "output_type": "execute_result"
    }
   ],
   "source": [
    "censusTract.shape"
   ]
  },
  {
   "cell_type": "code",
   "execution_count": 360,
   "id": "e9662f96",
   "metadata": {},
   "outputs": [
    {
     "data": {
      "text/html": [
       "<div>\n",
       "<style scoped>\n",
       "    .dataframe tbody tr th:only-of-type {\n",
       "        vertical-align: middle;\n",
       "    }\n",
       "\n",
       "    .dataframe tbody tr th {\n",
       "        vertical-align: top;\n",
       "    }\n",
       "\n",
       "    .dataframe thead th {\n",
       "        text-align: right;\n",
       "    }\n",
       "</style>\n",
       "<table border=\"1\" class=\"dataframe\">\n",
       "  <thead>\n",
       "    <tr style=\"text-align: right;\">\n",
       "      <th></th>\n",
       "      <th>NAME</th>\n",
       "      <th>totalPop</th>\n",
       "      <th>whitePop</th>\n",
       "      <th>state</th>\n",
       "      <th>county</th>\n",
       "      <th>tract</th>\n",
       "      <th>block group</th>\n",
       "      <th>whitePercep</th>\n",
       "      <th>nonwhitePercep</th>\n",
       "    </tr>\n",
       "  </thead>\n",
       "  <tbody>\n",
       "    <tr>\n",
       "      <th>0</th>\n",
       "      <td>Block Group 1, Census Tract 81.02, Philadelphi...</td>\n",
       "      <td>858</td>\n",
       "      <td>0</td>\n",
       "      <td>42</td>\n",
       "      <td>101</td>\n",
       "      <td>008102</td>\n",
       "      <td>1</td>\n",
       "      <td>0.000000</td>\n",
       "      <td>1.000000</td>\n",
       "    </tr>\n",
       "    <tr>\n",
       "      <th>1</th>\n",
       "      <td>Block Group 5, Census Tract 81.02, Philadelphi...</td>\n",
       "      <td>894</td>\n",
       "      <td>11</td>\n",
       "      <td>42</td>\n",
       "      <td>101</td>\n",
       "      <td>008102</td>\n",
       "      <td>5</td>\n",
       "      <td>0.012304</td>\n",
       "      <td>0.987696</td>\n",
       "    </tr>\n",
       "    <tr>\n",
       "      <th>2</th>\n",
       "      <td>Block Group 3, Census Tract 81.02, Philadelphi...</td>\n",
       "      <td>543</td>\n",
       "      <td>0</td>\n",
       "      <td>42</td>\n",
       "      <td>101</td>\n",
       "      <td>008102</td>\n",
       "      <td>3</td>\n",
       "      <td>0.000000</td>\n",
       "      <td>1.000000</td>\n",
       "    </tr>\n",
       "    <tr>\n",
       "      <th>3</th>\n",
       "      <td>Block Group 2, Census Tract 248, Philadelphia ...</td>\n",
       "      <td>1109</td>\n",
       "      <td>26</td>\n",
       "      <td>42</td>\n",
       "      <td>101</td>\n",
       "      <td>024800</td>\n",
       "      <td>2</td>\n",
       "      <td>0.023445</td>\n",
       "      <td>0.976555</td>\n",
       "    </tr>\n",
       "    <tr>\n",
       "      <th>4</th>\n",
       "      <td>Block Group 1, Census Tract 2, Philadelphia Co...</td>\n",
       "      <td>2331</td>\n",
       "      <td>911</td>\n",
       "      <td>42</td>\n",
       "      <td>101</td>\n",
       "      <td>000200</td>\n",
       "      <td>1</td>\n",
       "      <td>0.390819</td>\n",
       "      <td>0.609181</td>\n",
       "    </tr>\n",
       "  </tbody>\n",
       "</table>\n",
       "</div>"
      ],
      "text/plain": [
       "                                                NAME  totalPop  whitePop  \\\n",
       "0  Block Group 1, Census Tract 81.02, Philadelphi...       858         0   \n",
       "1  Block Group 5, Census Tract 81.02, Philadelphi...       894        11   \n",
       "2  Block Group 3, Census Tract 81.02, Philadelphi...       543         0   \n",
       "3  Block Group 2, Census Tract 248, Philadelphia ...      1109        26   \n",
       "4  Block Group 1, Census Tract 2, Philadelphia Co...      2331       911   \n",
       "\n",
       "  state county   tract block group  whitePercep  nonwhitePercep  \n",
       "0    42    101  008102           1     0.000000        1.000000  \n",
       "1    42    101  008102           5     0.012304        0.987696  \n",
       "2    42    101  008102           3     0.000000        1.000000  \n",
       "3    42    101  024800           2     0.023445        0.976555  \n",
       "4    42    101  000200           1     0.390819        0.609181  "
      ]
     },
     "execution_count": 360,
     "metadata": {},
     "output_type": "execute_result"
    }
   ],
   "source": [
    "censusRace2 = censusRace\n",
    "censusRace2['whitePop'] = pd.to_numeric(censusRace2['whitePop'], errors='ignore')\n",
    "censusRace2['totalPop'] = pd.to_numeric(censusRace2['totalPop'], errors='ignore')\n",
    "censusRace2['whitePercep'] = censusRace2['whitePop'] / censusRace2['totalPop'] \n",
    "censusRace2['nonwhitePercep'] = 1- censusRace2['whitePercep']\n",
    "censusRace2.head()"
   ]
  },
  {
   "cell_type": "code",
   "execution_count": 361,
   "id": "f323c1a5",
   "metadata": {},
   "outputs": [
    {
     "data": {
      "text/plain": [
       "(1336, 9)"
      ]
     },
     "execution_count": 361,
     "metadata": {},
     "output_type": "execute_result"
    }
   ],
   "source": [
    "censusRace2.shape"
   ]
  },
  {
   "cell_type": "code",
   "execution_count": 367,
   "id": "833d7bb6",
   "metadata": {},
   "outputs": [],
   "source": [
    "censusRaceWithGeometry = censusTract.merge(\n",
    "    censusRace2,\n",
    "    left_on=[\"STATE\", \"COUNTY\", \"TRACT\",'BLKGRP'],\n",
    "    right_on=[\"state\", \"county\", \"tract\",'block group'])\n",
    "censusRaceWithGeometry = censusRaceWithGeometry.drop(columns=[\"STATE\",\"COUNTY\",\"TRACT\",\"BLKGRP\"])"
   ]
  },
  {
   "cell_type": "code",
   "execution_count": 368,
   "id": "bc6ac569",
   "metadata": {},
   "outputs": [
    {
     "data": {
      "text/html": [
       "<div>\n",
       "<style scoped>\n",
       "    .dataframe tbody tr th:only-of-type {\n",
       "        vertical-align: middle;\n",
       "    }\n",
       "\n",
       "    .dataframe tbody tr th {\n",
       "        vertical-align: top;\n",
       "    }\n",
       "\n",
       "    .dataframe thead th {\n",
       "        text-align: right;\n",
       "    }\n",
       "</style>\n",
       "<table border=\"1\" class=\"dataframe\">\n",
       "  <thead>\n",
       "    <tr style=\"text-align: right;\">\n",
       "      <th></th>\n",
       "      <th>geometry</th>\n",
       "      <th>NAME</th>\n",
       "      <th>totalPop</th>\n",
       "      <th>whitePop</th>\n",
       "      <th>state</th>\n",
       "      <th>county</th>\n",
       "      <th>tract</th>\n",
       "      <th>block group</th>\n",
       "      <th>whitePercep</th>\n",
       "      <th>nonwhitePercep</th>\n",
       "    </tr>\n",
       "  </thead>\n",
       "  <tbody>\n",
       "    <tr>\n",
       "      <th>0</th>\n",
       "      <td>POLYGON ((-75.20223 39.96164, -75.20142 39.961...</td>\n",
       "      <td>Block Group 3, Census Tract 91, Philadelphia C...</td>\n",
       "      <td>1529</td>\n",
       "      <td>223</td>\n",
       "      <td>42</td>\n",
       "      <td>101</td>\n",
       "      <td>009100</td>\n",
       "      <td>3</td>\n",
       "      <td>0.145847</td>\n",
       "      <td>0.854153</td>\n",
       "    </tr>\n",
       "    <tr>\n",
       "      <th>1</th>\n",
       "      <td>POLYGON ((-75.24043 39.96354, -75.24011 39.965...</td>\n",
       "      <td>Block Group 3, Census Tract 95, Philadelphia C...</td>\n",
       "      <td>561</td>\n",
       "      <td>0</td>\n",
       "      <td>42</td>\n",
       "      <td>101</td>\n",
       "      <td>009500</td>\n",
       "      <td>3</td>\n",
       "      <td>0.000000</td>\n",
       "      <td>1.000000</td>\n",
       "    </tr>\n",
       "    <tr>\n",
       "      <th>2</th>\n",
       "      <td>POLYGON ((-75.14683 40.02960, -75.14671 40.030...</td>\n",
       "      <td>Block Group 1, Census Tract 282, Philadelphia ...</td>\n",
       "      <td>1118</td>\n",
       "      <td>21</td>\n",
       "      <td>42</td>\n",
       "      <td>101</td>\n",
       "      <td>028200</td>\n",
       "      <td>1</td>\n",
       "      <td>0.018784</td>\n",
       "      <td>0.981216</td>\n",
       "    </tr>\n",
       "    <tr>\n",
       "      <th>3</th>\n",
       "      <td>POLYGON ((-75.06981 40.07086, -75.06923 40.071...</td>\n",
       "      <td>Block Group 2, Census Tract 337.02, Philadelph...</td>\n",
       "      <td>1598</td>\n",
       "      <td>1010</td>\n",
       "      <td>42</td>\n",
       "      <td>101</td>\n",
       "      <td>033702</td>\n",
       "      <td>2</td>\n",
       "      <td>0.632040</td>\n",
       "      <td>0.367960</td>\n",
       "    </tr>\n",
       "    <tr>\n",
       "      <th>4</th>\n",
       "      <td>POLYGON ((-75.16508 39.91337, -75.16486 39.914...</td>\n",
       "      <td>Block Group 2, Census Tract 372, Philadelphia ...</td>\n",
       "      <td>1454</td>\n",
       "      <td>1196</td>\n",
       "      <td>42</td>\n",
       "      <td>101</td>\n",
       "      <td>037200</td>\n",
       "      <td>2</td>\n",
       "      <td>0.822558</td>\n",
       "      <td>0.177442</td>\n",
       "    </tr>\n",
       "  </tbody>\n",
       "</table>\n",
       "</div>"
      ],
      "text/plain": [
       "                                            geometry  \\\n",
       "0  POLYGON ((-75.20223 39.96164, -75.20142 39.961...   \n",
       "1  POLYGON ((-75.24043 39.96354, -75.24011 39.965...   \n",
       "2  POLYGON ((-75.14683 40.02960, -75.14671 40.030...   \n",
       "3  POLYGON ((-75.06981 40.07086, -75.06923 40.071...   \n",
       "4  POLYGON ((-75.16508 39.91337, -75.16486 39.914...   \n",
       "\n",
       "                                                NAME  totalPop  whitePop  \\\n",
       "0  Block Group 3, Census Tract 91, Philadelphia C...      1529       223   \n",
       "1  Block Group 3, Census Tract 95, Philadelphia C...       561         0   \n",
       "2  Block Group 1, Census Tract 282, Philadelphia ...      1118        21   \n",
       "3  Block Group 2, Census Tract 337.02, Philadelph...      1598      1010   \n",
       "4  Block Group 2, Census Tract 372, Philadelphia ...      1454      1196   \n",
       "\n",
       "  state county   tract block group  whitePercep  nonwhitePercep  \n",
       "0    42    101  009100           3     0.145847        0.854153  \n",
       "1    42    101  009500           3     0.000000        1.000000  \n",
       "2    42    101  028200           1     0.018784        0.981216  \n",
       "3    42    101  033702           2     0.632040        0.367960  \n",
       "4    42    101  037200           2     0.822558        0.177442  "
      ]
     },
     "execution_count": 368,
     "metadata": {},
     "output_type": "execute_result"
    }
   ],
   "source": [
    "censusRaceWithGeometry.head()"
   ]
  },
  {
   "cell_type": "code",
   "execution_count": 369,
   "id": "f6a72db5",
   "metadata": {},
   "outputs": [],
   "source": [
    "censusRaceWithGeometry.to_file('censusRaceWithGeometry.geojson', driver=\"GeoJSON\") "
   ]
  },
  {
   "cell_type": "markdown",
   "id": "8287d567",
   "metadata": {},
   "source": [
    "# 311 Complaints"
   ]
  },
  {
   "cell_type": "code",
   "execution_count": 309,
   "id": "dd901fa9",
   "metadata": {},
   "outputs": [],
   "source": [
    "complaint311 = pd.read_csv (\"downloaded_public_cases_fc.csv\")"
   ]
  },
  {
   "cell_type": "code",
   "execution_count": 310,
   "id": "e6d82d5d",
   "metadata": {},
   "outputs": [],
   "source": [
    "ndService=['Abandoned Vehicle','Graffiti Removal','Vacant House or Commercial','Street Light Outage','Traffic Signal Emergency','Dead Animal in Street', 'Street Defect','Vacant Lot Clean-Up', 'Alley Light Outage', 'Street Trees', 'Abandoned Bike',\n",
    "       'Complaint (Streets)', 'Street Paving', 'Tree Dangerous']"
   ]
  },
  {
   "cell_type": "code",
   "execution_count": 316,
   "id": "1c892c1d",
   "metadata": {},
   "outputs": [
    {
     "data": {
      "text/plain": [
       "['Abandoned Vehicle',\n",
       " 'Graffiti Removal',\n",
       " 'Vacant House or Commercial',\n",
       " 'Street Light Outage',\n",
       " 'Traffic Signal Emergency',\n",
       " 'Dead Animal in Street',\n",
       " 'Street Defect',\n",
       " 'Vacant Lot Clean-Up',\n",
       " 'Alley Light Outage',\n",
       " 'Street Trees',\n",
       " 'Abandoned Bike',\n",
       " 'Complaint (Streets)',\n",
       " 'Street Paving',\n",
       " 'Tree Dangerous']"
      ]
     },
     "execution_count": 316,
     "metadata": {},
     "output_type": "execute_result"
    }
   ],
   "source": [
    "ndService"
   ]
  },
  {
   "cell_type": "code",
   "execution_count": 311,
   "id": "257ad746",
   "metadata": {},
   "outputs": [],
   "source": [
    "complaint311Filter = complaint311.query('service_name in @ndService')\n",
    "complaint311Filter = complaint311Filter[[\"service_request_id\",\"service_name\",\"agency_responsible\",\"lat\",\"lon\"]].dropna()"
   ]
  },
  {
   "cell_type": "code",
   "execution_count": 312,
   "id": "7c1ce4c0",
   "metadata": {},
   "outputs": [],
   "source": [
    "complaint311Filter['geometry'] = gpd.points_from_xy(complaint311Filter['lon'], complaint311Filter['lat'])\n",
    "complaint311Filter = gpd.GeoDataFrame(complaint311Filter, geometry='geometry', crs=\"EPSG:4326\")"
   ]
  },
  {
   "cell_type": "code",
   "execution_count": 315,
   "id": "7f1783f1",
   "metadata": {},
   "outputs": [
    {
     "data": {
      "text/html": [
       "<div>\n",
       "<style scoped>\n",
       "    .dataframe tbody tr th:only-of-type {\n",
       "        vertical-align: middle;\n",
       "    }\n",
       "\n",
       "    .dataframe tbody tr th {\n",
       "        vertical-align: top;\n",
       "    }\n",
       "\n",
       "    .dataframe thead th {\n",
       "        text-align: right;\n",
       "    }\n",
       "</style>\n",
       "<table border=\"1\" class=\"dataframe\">\n",
       "  <thead>\n",
       "    <tr style=\"text-align: right;\">\n",
       "      <th></th>\n",
       "      <th>service_request_id</th>\n",
       "      <th>service_name</th>\n",
       "      <th>agency_responsible</th>\n",
       "      <th>lat</th>\n",
       "      <th>lon</th>\n",
       "      <th>geometry</th>\n",
       "    </tr>\n",
       "  </thead>\n",
       "  <tbody>\n",
       "    <tr>\n",
       "      <th>0</th>\n",
       "      <td>8997243</td>\n",
       "      <td>Abandoned Vehicle</td>\n",
       "      <td>Police Department</td>\n",
       "      <td>39.911438</td>\n",
       "      <td>-75.176307</td>\n",
       "      <td>POINT (-75.17631 39.91144)</td>\n",
       "    </tr>\n",
       "    <tr>\n",
       "      <th>1</th>\n",
       "      <td>8967080</td>\n",
       "      <td>Graffiti Removal</td>\n",
       "      <td>Community Life Improvement Program</td>\n",
       "      <td>39.956295</td>\n",
       "      <td>-75.211248</td>\n",
       "      <td>POINT (-75.21125 39.95629)</td>\n",
       "    </tr>\n",
       "    <tr>\n",
       "      <th>2</th>\n",
       "      <td>8967081</td>\n",
       "      <td>Graffiti Removal</td>\n",
       "      <td>Community Life Improvement Program</td>\n",
       "      <td>39.954192</td>\n",
       "      <td>-75.211891</td>\n",
       "      <td>POINT (-75.21189 39.95419)</td>\n",
       "    </tr>\n",
       "    <tr>\n",
       "      <th>3</th>\n",
       "      <td>8997258</td>\n",
       "      <td>Vacant House or Commercial</td>\n",
       "      <td>License &amp; Inspections</td>\n",
       "      <td>40.067824</td>\n",
       "      <td>-75.149906</td>\n",
       "      <td>POINT (-75.14991 40.06782)</td>\n",
       "    </tr>\n",
       "    <tr>\n",
       "      <th>5</th>\n",
       "      <td>8997338</td>\n",
       "      <td>Vacant House or Commercial</td>\n",
       "      <td>License &amp; Inspections</td>\n",
       "      <td>39.941959</td>\n",
       "      <td>-75.167067</td>\n",
       "      <td>POINT (-75.16707 39.94196)</td>\n",
       "    </tr>\n",
       "    <tr>\n",
       "      <th>...</th>\n",
       "      <td>...</td>\n",
       "      <td>...</td>\n",
       "      <td>...</td>\n",
       "      <td>...</td>\n",
       "      <td>...</td>\n",
       "      <td>...</td>\n",
       "    </tr>\n",
       "    <tr>\n",
       "      <th>569884</th>\n",
       "      <td>9404728</td>\n",
       "      <td>Alley Light Outage</td>\n",
       "      <td>Streets Department</td>\n",
       "      <td>40.018727</td>\n",
       "      <td>-75.073542</td>\n",
       "      <td>POINT (-75.07354 40.01873)</td>\n",
       "    </tr>\n",
       "    <tr>\n",
       "      <th>569885</th>\n",
       "      <td>9079333</td>\n",
       "      <td>Alley Light Outage</td>\n",
       "      <td>Streets Department</td>\n",
       "      <td>40.018727</td>\n",
       "      <td>-75.073542</td>\n",
       "      <td>POINT (-75.07354 40.01873)</td>\n",
       "    </tr>\n",
       "    <tr>\n",
       "      <th>569886</th>\n",
       "      <td>9523735</td>\n",
       "      <td>Abandoned Vehicle</td>\n",
       "      <td>Police Department</td>\n",
       "      <td>40.032944</td>\n",
       "      <td>-75.181368</td>\n",
       "      <td>POINT (-75.18137 40.03294)</td>\n",
       "    </tr>\n",
       "    <tr>\n",
       "      <th>569888</th>\n",
       "      <td>9165792</td>\n",
       "      <td>Abandoned Vehicle</td>\n",
       "      <td>Police Department</td>\n",
       "      <td>40.007009</td>\n",
       "      <td>-75.173339</td>\n",
       "      <td>POINT (-75.17334 40.00701)</td>\n",
       "    </tr>\n",
       "    <tr>\n",
       "      <th>569889</th>\n",
       "      <td>9154204</td>\n",
       "      <td>Abandoned Vehicle</td>\n",
       "      <td>Police Department</td>\n",
       "      <td>40.007009</td>\n",
       "      <td>-75.173339</td>\n",
       "      <td>POINT (-75.17334 40.00701)</td>\n",
       "    </tr>\n",
       "  </tbody>\n",
       "</table>\n",
       "<p>64523 rows × 6 columns</p>\n",
       "</div>"
      ],
      "text/plain": [
       "        service_request_id                service_name  \\\n",
       "0                  8997243           Abandoned Vehicle   \n",
       "1                  8967080            Graffiti Removal   \n",
       "2                  8967081            Graffiti Removal   \n",
       "3                  8997258  Vacant House or Commercial   \n",
       "5                  8997338  Vacant House or Commercial   \n",
       "...                    ...                         ...   \n",
       "569884             9404728          Alley Light Outage   \n",
       "569885             9079333          Alley Light Outage   \n",
       "569886             9523735           Abandoned Vehicle   \n",
       "569888             9165792           Abandoned Vehicle   \n",
       "569889             9154204           Abandoned Vehicle   \n",
       "\n",
       "                        agency_responsible        lat        lon  \\\n",
       "0                        Police Department  39.911438 -75.176307   \n",
       "1       Community Life Improvement Program  39.956295 -75.211248   \n",
       "2       Community Life Improvement Program  39.954192 -75.211891   \n",
       "3                    License & Inspections  40.067824 -75.149906   \n",
       "5                    License & Inspections  39.941959 -75.167067   \n",
       "...                                    ...        ...        ...   \n",
       "569884                  Streets Department  40.018727 -75.073542   \n",
       "569885                  Streets Department  40.018727 -75.073542   \n",
       "569886                   Police Department  40.032944 -75.181368   \n",
       "569888                   Police Department  40.007009 -75.173339   \n",
       "569889                   Police Department  40.007009 -75.173339   \n",
       "\n",
       "                          geometry  \n",
       "0       POINT (-75.17631 39.91144)  \n",
       "1       POINT (-75.21125 39.95629)  \n",
       "2       POINT (-75.21189 39.95419)  \n",
       "3       POINT (-75.14991 40.06782)  \n",
       "5       POINT (-75.16707 39.94196)  \n",
       "...                            ...  \n",
       "569884  POINT (-75.07354 40.01873)  \n",
       "569885  POINT (-75.07354 40.01873)  \n",
       "569886  POINT (-75.18137 40.03294)  \n",
       "569888  POINT (-75.17334 40.00701)  \n",
       "569889  POINT (-75.17334 40.00701)  \n",
       "\n",
       "[64523 rows x 6 columns]"
      ]
     },
     "execution_count": 315,
     "metadata": {},
     "output_type": "execute_result"
    }
   ],
   "source": [
    "complaint311Filter"
   ]
  },
  {
   "cell_type": "markdown",
   "id": "44f6998a",
   "metadata": {},
   "source": [
    "# Crime"
   ]
  },
  {
   "cell_type": "code",
   "execution_count": 3,
   "id": "624386d7",
   "metadata": {},
   "outputs": [],
   "source": [
    "import carto2gpd\n",
    "import matplotlib\n",
    "import numpy as np\n",
    "from sklearn.neighbors import NearestNeighbors\n",
    "import altair as alt\n",
    "from vega_datasets import data\n",
    "from altair import datum"
   ]
  },
  {
   "cell_type": "code",
   "execution_count": 4,
   "id": "75c20a55",
   "metadata": {},
   "outputs": [],
   "source": [
    "url = \"https://phl.carto.com/api/v2/sql\"\n",
    "table_name = \"incidents_part1_part2\"\n",
    "where = \"dispatch_date >= '2015-01-01' AND dispatch_date < '2016-01-01'\"\n",
    "crime = carto2gpd.get(url, table_name, where=where)"
   ]
  },
  {
   "cell_type": "code",
   "execution_count": 5,
   "id": "a780e5a8",
   "metadata": {},
   "outputs": [],
   "source": [
    "crime = crime.drop(columns=[\"objectid\",\"dc_dist\",\"psa\",\"dc_key\",\"ucr_general\",\"point_x\",\"point_y\"])\n",
    "crime[\"count\"]=1\n",
    "crime = crime.rename(columns={\"text_general_code\": \"crimeType\"}, errors=\"raise\")"
   ]
  },
  {
   "cell_type": "code",
   "execution_count": 6,
   "id": "53dfadf3",
   "metadata": {},
   "outputs": [],
   "source": [
    "total = crime.groupby(\"crimeType\").sum(\"count\").sort_values(by=\"count\",ascending=False)\n",
    "total = total.reset_index()"
   ]
  },
  {
   "cell_type": "markdown",
   "id": "d97f9609",
   "metadata": {},
   "source": [
    "alt.Chart(total).mark_bar().encode(\n",
    "    alt.X('crimeType:N',axis=alt.Axis(labelAngle=90),sort='-y'),\n",
    "    alt.Y('count:Q'),\n",
    "    color = alt.value(\"#F79D46\"))"
   ]
  },
  {
   "cell_type": "code",
   "execution_count": 7,
   "id": "0ac6e864",
   "metadata": {},
   "outputs": [],
   "source": [
    "selectedCrimeType = total[0:20].crimeType\n",
    "selectedCrimeType\n",
    "selectCrime = crime[crime['crimeType'].isin(selectedCrimeType)]"
   ]
  },
  {
   "cell_type": "code",
   "execution_count": 8,
   "id": "ecdfe6a6",
   "metadata": {},
   "outputs": [],
   "source": [
    "def get_xy_from_geometry(df): \n",
    "    x = df.geometry.centroid.x\n",
    "    y = df.geometry.centroid.y\n",
    "    return np.column_stack((x, y))"
   ]
  },
  {
   "cell_type": "code",
   "execution_count": 9,
   "id": "41da49c2",
   "metadata": {},
   "outputs": [],
   "source": [
    "pointsWithSeg = gpd.read_file(\"pointsWithSeg.geojson\")\n",
    "\n",
    "pointsWithSegXY = get_xy_from_geometry(pointsWithSeg.to_crs(epsg=3857))\n",
    "crimeXY = get_xy_from_geometry(selectCrime.to_crs(epsg=3857))\n",
    "\n",
    "nbrs = NearestNeighbors(n_neighbors=1)\n",
    "nbrs.fit(pointsWithSegXY)\n",
    "\n",
    "Dists, Indices = nbrs.kneighbors(crimeXY)"
   ]
  },
  {
   "cell_type": "code",
   "execution_count": 10,
   "id": "0115cc57",
   "metadata": {},
   "outputs": [
    {
     "name": "stderr",
     "output_type": "stream",
     "text": [
      "/Users/zh3n/opt/miniconda3/envs/musa550/lib/python3.8/site-packages/geopandas/geodataframe.py:1322: SettingWithCopyWarning: \n",
      "A value is trying to be set on a copy of a slice from a DataFrame.\n",
      "Try using .loc[row_indexer,col_indexer] = value instead\n",
      "\n",
      "See the caveats in the documentation: https://pandas.pydata.org/pandas-docs/stable/user_guide/indexing.html#returning-a-view-versus-a-copy\n",
      "  super(GeoDataFrame, self).__setitem__(key, value)\n"
     ]
    }
   ],
   "source": [
    "selectCrime[\"nearestSVPoint\"] = Indices\n",
    "selectCrime2 = selectCrime[['geometry','cartodb_id','crimeType','count','nearestSVPoint']].merge(pointsWithSeg.drop(columns=[\"geometry\",\"fid\",\"SEG_ID\"]),how=\"left\",left_on=\"nearestSVPoint\",right_index=True)\n",
    "selectCrime2 = selectCrime2.drop(columns=\"nearestSVPoint\").rename(columns={\"pointId\": \"nearestSVPoint\"}, errors=\"raise\")"
   ]
  },
  {
   "cell_type": "code",
   "execution_count": 11,
   "id": "8d7c8e0c",
   "metadata": {
    "scrolled": true
   },
   "outputs": [],
   "source": [
    "selectCrime2 = round(selectCrime2,3)\n",
    "selectCrime2[\"crimeTypeValue\"] = selectCrime2.crimeType.rank(method=\"first\",pct=True)\n",
    "selectCrime2 = selectCrime2.rename(columns={\"crimeTypeValue\": \"All\"}, errors=\"raise\")"
   ]
  },
  {
   "cell_type": "code",
   "execution_count": 373,
   "id": "2c91bddf",
   "metadata": {},
   "outputs": [],
   "source": [
    "selectCrime2.to_csv('selectCrime2.csv') "
   ]
  },
  {
   "cell_type": "code",
   "execution_count": 12,
   "id": "e4f76a33",
   "metadata": {},
   "outputs": [
    {
     "data": {
      "text/html": [
       "\n",
       "<div id=\"altair-viz-776f02a0a1874468a52d78ef06a836e3\"></div>\n",
       "<script type=\"text/javascript\">\n",
       "  (function(spec, embedOpt){\n",
       "    let outputDiv = document.currentScript.previousElementSibling;\n",
       "    if (outputDiv.id !== \"altair-viz-776f02a0a1874468a52d78ef06a836e3\") {\n",
       "      outputDiv = document.getElementById(\"altair-viz-776f02a0a1874468a52d78ef06a836e3\");\n",
       "    }\n",
       "    const paths = {\n",
       "      \"vega\": \"https://cdn.jsdelivr.net/npm//vega@5?noext\",\n",
       "      \"vega-lib\": \"https://cdn.jsdelivr.net/npm//vega-lib?noext\",\n",
       "      \"vega-lite\": \"https://cdn.jsdelivr.net/npm//vega-lite@4.8.1?noext\",\n",
       "      \"vega-embed\": \"https://cdn.jsdelivr.net/npm//vega-embed@6?noext\",\n",
       "    };\n",
       "\n",
       "    function loadScript(lib) {\n",
       "      return new Promise(function(resolve, reject) {\n",
       "        var s = document.createElement('script');\n",
       "        s.src = paths[lib];\n",
       "        s.async = true;\n",
       "        s.onload = () => resolve(paths[lib]);\n",
       "        s.onerror = () => reject(`Error loading script: ${paths[lib]}`);\n",
       "        document.getElementsByTagName(\"head\")[0].appendChild(s);\n",
       "      });\n",
       "    }\n",
       "\n",
       "    function showError(err) {\n",
       "      outputDiv.innerHTML = `<div class=\"error\" style=\"color:red;\">${err}</div>`;\n",
       "      throw err;\n",
       "    }\n",
       "\n",
       "    function displayChart(vegaEmbed) {\n",
       "      vegaEmbed(outputDiv, spec, embedOpt)\n",
       "        .catch(err => showError(`Javascript Error: ${err.message}<br>This usually means there's a typo in your chart specification. See the javascript console for the full traceback.`));\n",
       "    }\n",
       "\n",
       "    if(typeof define === \"function\" && define.amd) {\n",
       "      requirejs.config({paths});\n",
       "      require([\"vega-embed\"], displayChart, err => showError(`Error loading script: ${err.message}`));\n",
       "    } else if (typeof vegaEmbed === \"function\") {\n",
       "      displayChart(vegaEmbed);\n",
       "    } else {\n",
       "      loadScript(\"vega\")\n",
       "        .then(() => loadScript(\"vega-lite\"))\n",
       "        .then(() => loadScript(\"vega-embed\"))\n",
       "        .catch(showError)\n",
       "        .then(() => displayChart(vegaEmbed));\n",
       "    }\n",
       "  })({\"config\": {\"view\": {\"continuousWidth\": 400, \"continuousHeight\": 300, \"strokeWidth\": 0}}, \"data\": {\"url\": \"altair-data-192cb6e3fb8b92ba9b25b1c52a9bb15b.json\", \"format\": {\"type\": \"json\"}}, \"mark\": {\"type\": \"line\", \"size\": 0.5}, \"encoding\": {\"color\": {\"condition\": {\"type\": \"nominal\", \"field\": \"crimeType\", \"scale\": {\"scheme\": \"category20b\"}, \"selection\": \"selector001\"}, \"value\": \"lightgray\"}, \"detail\": {\"type\": \"nominal\", \"field\": \"index\"}, \"opacity\": {\"condition\": {\"value\": 1, \"selection\": \"selector001\"}, \"value\": 0.07}, \"x\": {\"type\": \"nominal\", \"axis\": {\"domain\": false, \"labelAngle\": 0, \"ticks\": false}, \"field\": \"key\", \"title\": \"Street Component\"}, \"y\": {\"type\": \"quantitative\", \"axis\": {\"domain\": false, \"ticks\": false}, \"field\": \"minmax_value\", \"title\": \"Normalized porportion\"}}, \"height\": 500, \"selection\": {\"selector001\": {\"type\": \"multi\", \"fields\": [\"crimeType\"], \"bind\": \"legend\"}, \"selector002\": {\"type\": \"interval\", \"bind\": \"scales\", \"encodings\": [\"x\", \"y\"]}}, \"title\": \"Relationship between street component and crime type\", \"transform\": [{\"window\": [{\"op\": \"count\", \"as\": \"index\"}]}, {\"fold\": [\"All\", \"wall\", \"lives\", \"building\", \"infrastructure\", \"road\", \"sidewalk\", \"sky\", \"green\", \"transportation\"]}, {\"joinaggregate\": [{\"op\": \"min\", \"field\": \"value\", \"as\": \"min\"}, {\"op\": \"max\", \"field\": \"value\", \"as\": \"max\"}], \"groupby\": [\"key\"]}, {\"calculate\": \"((datum.value - datum.min) / (datum.max - datum.min))\", \"as\": \"minmax_value\"}], \"width\": 1000, \"$schema\": \"https://vega.github.io/schema/vega-lite/v4.8.1.json\"}, {\"mode\": \"vega-lite\"});\n",
       "</script>"
      ],
      "text/plain": [
       "alt.Chart(...)"
      ]
     },
     "execution_count": 12,
     "metadata": {},
     "output_type": "execute_result"
    }
   ],
   "source": [
    "sampleCrime = selectCrime2.groupby('crimeType', group_keys=False).apply(lambda x: x.sample(min(len(x), 200)))\n",
    "alt.data_transformers.enable('json')\n",
    "\n",
    "selection = alt.selection_multi(fields=['crimeType'], bind='legend')\n",
    "\n",
    "chart=alt.Chart(sampleCrime).transform_window(\n",
    "    index='count()'\n",
    ").transform_fold(\n",
    "    ['All','wall', 'lives','building','infrastructure','road','sidewalk','sky','green','transportation']\n",
    ").transform_joinaggregate(\n",
    "     min='min(value)',\n",
    "     max='max(value)',\n",
    "     groupby=['key']\n",
    ").transform_calculate(\n",
    "    minmax_value=(datum.value-datum.min)/(datum.max-datum.min)\n",
    ").mark_line(size=0.5).encode(\n",
    "    x=alt.X('key:N',axis=alt.Axis(ticks=False, domain=False,labelAngle=0)),\n",
    "    y=alt.Y('minmax_value:Q',axis=alt.Axis(ticks=False, domain=False)),\n",
    "    color=alt.condition(selection,\n",
    "                        alt.Color('crimeType:N', scale=alt.Scale(scheme='category20b')),\n",
    "                        alt.value('lightgray')),   \n",
    "    opacity=alt.condition(selection, alt.value(1), alt.value(0.07)),   \n",
    "    detail='index:N',\n",
    ").properties(\n",
    "    width=1000,\n",
    "    height=500,\n",
    "    title=\"Relationship between street component and crime type\"\n",
    ").configure_view(\n",
    "    strokeWidth=0\n",
    ").add_selection(selection).interactive()\n",
    "\n",
    "chart.encoding.x.title = 'Street Component'\n",
    "chart.encoding.y.title = 'Normalized porportion'\n",
    "chart"
   ]
  },
  {
   "cell_type": "code",
   "execution_count": 15,
   "id": "7e61542a",
   "metadata": {},
   "outputs": [
    {
     "name": "stdout",
     "output_type": "stream",
     "text": [
      "{\n",
      "  \"$schema\": \"https://vega.github.io/schema/vega-lite/v4.8.1.json\",\n",
      "  \"config\": {\n",
      "    \"view\": {\n",
      "      \"continuousHeight\": 300,\n",
      "      \"continuousWidth\": 400,\n",
      "      \"strokeWidth\": 0\n",
      "    }\n",
      "  },\n",
      "  \"data\": {\n",
      "    \"format\": {\n",
      "      \"type\": \"json\"\n",
      "    },\n",
      "    \"url\": \"altair-data-192cb6e3fb8b92ba9b25b1c52a9bb15b.json\"\n",
      "  },\n",
      "  \"encoding\": {\n",
      "    \"color\": {\n",
      "      \"condition\": {\n",
      "        \"field\": \"crimeType\",\n",
      "        \"scale\": {\n",
      "          \"scheme\": \"category20b\"\n",
      "        },\n",
      "        \"selection\": \"selector001\",\n",
      "        \"type\": \"nominal\"\n",
      "      },\n",
      "      \"value\": \"lightgray\"\n",
      "    },\n",
      "    \"detail\": {\n",
      "      \"field\": \"index\",\n",
      "      \"type\": \"nominal\"\n",
      "    },\n",
      "    \"opacity\": {\n",
      "      \"condition\": {\n",
      "        \"selection\": \"selector001\",\n",
      "        \"value\": 1\n",
      "      },\n",
      "      \"value\": 0.07\n",
      "    },\n",
      "    \"x\": {\n",
      "      \"axis\": {\n",
      "        \"domain\": false,\n",
      "        \"labelAngle\": 0,\n",
      "        \"ticks\": false\n",
      "      },\n",
      "      \"field\": \"key\",\n",
      "      \"title\": \"Street Component\",\n",
      "      \"type\": \"nominal\"\n",
      "    },\n",
      "    \"y\": {\n",
      "      \"axis\": {\n",
      "        \"domain\": false,\n",
      "        \"ticks\": false\n",
      "      },\n",
      "      \"field\": \"minmax_value\",\n",
      "      \"title\": \"Normalized porportion\",\n",
      "      \"type\": \"quantitative\"\n",
      "    }\n",
      "  },\n",
      "  \"height\": 500,\n",
      "  \"mark\": {\n",
      "    \"size\": 0.5,\n",
      "    \"type\": \"line\"\n",
      "  },\n",
      "  \"selection\": {\n",
      "    \"selector001\": {\n",
      "      \"bind\": \"legend\",\n",
      "      \"fields\": [\n",
      "        \"crimeType\"\n",
      "      ],\n",
      "      \"type\": \"multi\"\n",
      "    },\n",
      "    \"selector002\": {\n",
      "      \"bind\": \"scales\",\n",
      "      \"encodings\": [\n",
      "        \"x\",\n",
      "        \"y\"\n",
      "      ],\n",
      "      \"type\": \"interval\"\n",
      "    }\n",
      "  },\n",
      "  \"title\": \"Relationship between street component and crime type\",\n",
      "  \"transform\": [\n",
      "    {\n",
      "      \"window\": [\n",
      "        {\n",
      "          \"as\": \"index\",\n",
      "          \"op\": \"count\"\n",
      "        }\n",
      "      ]\n",
      "    },\n",
      "    {\n",
      "      \"fold\": [\n",
      "        \"All\",\n",
      "        \"wall\",\n",
      "        \"lives\",\n",
      "        \"building\",\n",
      "        \"infrastructure\",\n",
      "        \"road\",\n",
      "        \"sidewalk\",\n",
      "        \"sky\",\n",
      "        \"green\",\n",
      "        \"transportation\"\n",
      "      ]\n",
      "    },\n",
      "    {\n",
      "      \"groupby\": [\n",
      "        \"key\"\n",
      "      ],\n",
      "      \"joinaggregate\": [\n",
      "        {\n",
      "          \"as\": \"min\",\n",
      "          \"field\": \"value\",\n",
      "          \"op\": \"min\"\n",
      "        },\n",
      "        {\n",
      "          \"as\": \"max\",\n",
      "          \"field\": \"value\",\n",
      "          \"op\": \"max\"\n",
      "        }\n",
      "      ]\n",
      "    },\n",
      "    {\n",
      "      \"as\": \"minmax_value\",\n",
      "      \"calculate\": \"((datum.value - datum.min) / (datum.max - datum.min))\"\n",
      "    }\n",
      "  ],\n",
      "  \"width\": 1000\n",
      "}\n"
     ]
    }
   ],
   "source": [
    "print(\n",
    "chart.to_json()\n",
    ")"
   ]
  },
  {
   "cell_type": "markdown",
   "id": "b3055b85",
   "metadata": {},
   "source": [
    "# creating df for regression\n",
    "### creating 100m buffer around street view points"
   ]
  },
  {
   "cell_type": "code",
   "execution_count": 21,
   "id": "0dc98156",
   "metadata": {},
   "outputs": [],
   "source": [
    "pointsWithSeg = gpd.read_file(\"pointsWithSeg.geojson\")\n",
    "pointsWithSeg = pointsWithSeg.to_crs(3857)\n",
    "sv_buffer = pointsWithSeg.buffer(100)\n",
    "sv_buffer = gpd.GeoDataFrame(pointsWithSeg.pointId,geometry=sv_buffer)"
   ]
  },
  {
   "cell_type": "code",
   "execution_count": 19,
   "id": "8215bffa",
   "metadata": {},
   "outputs": [],
   "source": [
    "crime_geo = crime.geometry.to_crs(3857)"
   ]
  },
  {
   "cell_type": "code",
   "execution_count": 20,
   "id": "1573e7b6",
   "metadata": {},
   "outputs": [
    {
     "ename": "NameError",
     "evalue": "name 'sv_buffer' is not defined",
     "output_type": "error",
     "traceback": [
      "\u001b[0;31m---------------------------------------------------------------------------\u001b[0m",
      "\u001b[0;31mNameError\u001b[0m                                 Traceback (most recent call last)",
      "\u001b[0;32m/var/folders/j4/8g8c69z10w15rblr6nyzkbrc0000gn/T/ipykernel_20536/677614144.py\u001b[0m in \u001b[0;36m<module>\u001b[0;34m\u001b[0m\n\u001b[0;32m----> 1\u001b[0;31m \u001b[0msv_buffer\u001b[0m\u001b[0;34m.\u001b[0m\u001b[0miloc\u001b[0m\u001b[0;34m[\u001b[0m\u001b[0;36m7064\u001b[0m\u001b[0;34m:\u001b[0m\u001b[0;36m7065\u001b[0m\u001b[0;34m,\u001b[0m\u001b[0;34m]\u001b[0m\u001b[0;34m\u001b[0m\u001b[0;34m\u001b[0m\u001b[0m\n\u001b[0m",
      "\u001b[0;31mNameError\u001b[0m: name 'sv_buffer' is not defined"
     ]
    }
   ],
   "source": [
    "sv_buffer.iloc[7064:7065,]"
   ]
  },
  {
   "cell_type": "markdown",
   "id": "b3055b85",
   "metadata": {},
   "source": [
    "### calculating crime number (all crimes) within buffer"
   ]
  },
  {
   "cell_type": "code",
   "execution_count": 136,
   "id": "f65076ef",
   "metadata": {},
   "outputs": [],
   "source": [
    "crime_by_buffer = gpd.sjoin(sv_buffer,crime_geo.to_frame(),how=\"left\")"
   ]
  },
  {
   "cell_type": "code",
   "execution_count": null,
   "id": "a60e8b24",
   "metadata": {},
   "outputs": [],
   "source": [
    "# get counts\n",
    "counts = crime_by_buffer.groupby('pointId').agg('count')['index_right']\n",
    "counts.name = \"crime_counts\"\n",
    "\n",
    "# join back in to sv points\n",
    "pointsWithSeg = pointsWithSeg.join(counts,on=\"pointId\")"
   ]
  },
  {
   "cell_type": "code",
   "execution_count": 138,
   "id": "2d34ed55",
   "metadata": {},
   "outputs": [],
   "source": [
    "pointsWithSeg = pointsWithSeg.drop(columns=['fid','SEG_ID','geometry'])\n",
    "quantile_cols = pointsWithSeg.columns[pointsWithSeg.columns.str.endswith('_q')]\n",
    "pointsWithSeg = pointsWithSeg.drop(columns=quantile_cols)"
   ]
  },
  {
   "cell_type": "code",
   "execution_count": 150,
   "id": "3808eaa1",
   "metadata": {},
   "outputs": [],
   "source": [
    "pointsWithSeg.to_csv('./correlation_ready.csv')"
   ]
  },
  {
   "cell_type": "code",
   "execution_count": 22,
   "id": "19b054f6",
   "metadata": {},
   "outputs": [
    {
     "data": {
      "application/vnd.jupyter.widget-view+json": {
       "model_id": "f46d8eeb041048deaf59ece55960eb43",
       "version_major": 2,
       "version_minor": 0
      },
      "image/png": "[encoded data removed]",
      "text/html": [
       "\n",
       "            <div style=\"display: inline-block;\">\n",
       "                <div class=\"jupyter-widgets widget-label\" style=\"text-align: center;\">\n",
       "                    Figure\n",
       "                </div>\n",
       "                <img src='data:image/png;base64,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' width=1200.0/>\n",
       "            </div>\n",
       "        "
      ],
      "text/plain": [
       "Canvas(toolbar=Toolbar(toolitems=[('Home', 'Reset original view', 'home', 'home'), ('Back', 'Back to previous …"
      ]
     },
     "metadata": {},
     "output_type": "display_data"
    }
   ],
   "source": [
    "%matplotlib widget\n",
    "import matplotlib.pyplot as plt\n",
    "\n",
    "f,ax = plt.subplots(figsize=(12,12))\n",
    "\n",
    "crime_geo.plot(ax=ax,c=\"r\",alpha=0.2)\n",
    "sv_buffer.plot(ax=ax,alpha=0.5)\n",
    "plt.show()"
   ]
  },
  {
   "cell_type": "code",
   "execution_count": 26,
   "id": "ad22ee35",
   "metadata": {},
   "outputs": [
    {
     "name": "stdout",
     "output_type": "stream",
     "text": [
      "0 a\n",
      "1 b\n"
     ]
    }
   ],
   "source": [
    "for i,s in enumerate([\"a\",\"b\"]):\n",
    "    print(i,s)"
   ]
  },
  {
   "cell_type": "code",
   "execution_count": 33,
   "id": "a3ee3cfb",
   "metadata": {},
   "outputs": [
    {
     "data": {
      "application/vnd.jupyter.widget-view+json": {
       "model_id": "0387771ab5a84febb405574914a58e22",
       "version_major": 2,
       "version_minor": 0
      },
      "text/plain": [
       "ColorPicker(value='#333333', description='Pick a color')"
      ]
     },
     "metadata": {},
     "output_type": "display_data"
    }
   ],
   "source": [
    "import ipywidgets as widgets\n",
    "widgets.ColorPicker(\n",
    "    concise=False,\n",
    "    description='Pick a color',\n",
    "    value='#333333',\n",
    "    disabled=False\n",
    ")"
   ]
  }
 ],
 "metadata": {
  "kernelspec": {
   "display_name": "Python 3 (ipykernel)",
   "language": "python",
   "name": "python3"
  },
  "language_info": {
   "codemirror_mode": {
    "name": "ipython",
    "version": 3
   },
   "file_extension": ".py",
   "mimetype": "text/x-python",
   "name": "python",
   "nbconvert_exporter": "python",
   "pygments_lexer": "ipython3",
   "version": "3.8.10"
  }
 },
 "nbformat": 4,
 "nbformat_minor": 5
}
