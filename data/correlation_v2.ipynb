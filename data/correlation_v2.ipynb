{
 "cells": [
  {
   "cell_type": "code",
   "execution_count": 1,
   "id": "140994bc",
   "metadata": {},
   "outputs": [],
   "source": [
    "import pandas as pd\n",
    "import matplotlib.pyplot as plt\n",
    "import numpy as np\n",
    "import pandas as pd\n",
    "import statsmodels.api as sm"
   ]
  },
  {
   "cell_type": "code",
   "execution_count": 3,
   "id": "71b51ddd",
   "metadata": {},
   "outputs": [],
   "source": [
    "%matplotlib inline\n",
    "np.random.seed(9876789)"
   ]
  },
  {
   "cell_type": "code",
   "execution_count": 7,
   "id": "57231555",
   "metadata": {},
   "outputs": [
    {
     "data": {
      "text/html": [
       "<div>\n",
       "<style scoped>\n",
       "    .dataframe tbody tr th:only-of-type {\n",
       "        vertical-align: middle;\n",
       "    }\n",
       "\n",
       "    .dataframe tbody tr th {\n",
       "        vertical-align: top;\n",
       "    }\n",
       "\n",
       "    .dataframe thead th {\n",
       "        text-align: right;\n",
       "    }\n",
       "</style>\n",
       "<table border=\"1\" class=\"dataframe\">\n",
       "  <thead>\n",
       "    <tr style=\"text-align: right;\">\n",
       "      <th></th>\n",
       "      <th>pointId</th>\n",
       "      <th>wall</th>\n",
       "      <th>lives</th>\n",
       "      <th>building</th>\n",
       "      <th>infrastructure</th>\n",
       "      <th>road</th>\n",
       "      <th>sidewalk</th>\n",
       "      <th>sky</th>\n",
       "      <th>green</th>\n",
       "      <th>transportation</th>\n",
       "      <th>publicservice</th>\n",
       "      <th>crime_counts</th>\n",
       "    </tr>\n",
       "  </thead>\n",
       "  <tbody>\n",
       "    <tr>\n",
       "      <th>0</th>\n",
       "      <td>1</td>\n",
       "      <td>0.030779</td>\n",
       "      <td>0.003141</td>\n",
       "      <td>0.163661</td>\n",
       "      <td>0.020548</td>\n",
       "      <td>0.118350</td>\n",
       "      <td>0.033204</td>\n",
       "      <td>0.291897</td>\n",
       "      <td>0.201790</td>\n",
       "      <td>0.017978</td>\n",
       "      <td>0.000147</td>\n",
       "      <td>5</td>\n",
       "    </tr>\n",
       "    <tr>\n",
       "      <th>1</th>\n",
       "      <td>2</td>\n",
       "      <td>0.047397</td>\n",
       "      <td>0.008571</td>\n",
       "      <td>0.367944</td>\n",
       "      <td>0.009722</td>\n",
       "      <td>0.108147</td>\n",
       "      <td>0.035982</td>\n",
       "      <td>0.209341</td>\n",
       "      <td>0.089528</td>\n",
       "      <td>0.003407</td>\n",
       "      <td>0.000034</td>\n",
       "      <td>1</td>\n",
       "    </tr>\n",
       "    <tr>\n",
       "      <th>2</th>\n",
       "      <td>3</td>\n",
       "      <td>0.034286</td>\n",
       "      <td>0.003337</td>\n",
       "      <td>0.178823</td>\n",
       "      <td>0.008427</td>\n",
       "      <td>0.237291</td>\n",
       "      <td>0.061395</td>\n",
       "      <td>0.024113</td>\n",
       "      <td>0.378118</td>\n",
       "      <td>0.006196</td>\n",
       "      <td>0.000012</td>\n",
       "      <td>8</td>\n",
       "    </tr>\n",
       "    <tr>\n",
       "      <th>3</th>\n",
       "      <td>4</td>\n",
       "      <td>0.019361</td>\n",
       "      <td>0.001505</td>\n",
       "      <td>0.331703</td>\n",
       "      <td>0.004485</td>\n",
       "      <td>0.274849</td>\n",
       "      <td>0.073919</td>\n",
       "      <td>0.099125</td>\n",
       "      <td>0.107871</td>\n",
       "      <td>0.027312</td>\n",
       "      <td>0.000077</td>\n",
       "      <td>29</td>\n",
       "    </tr>\n",
       "    <tr>\n",
       "      <th>4</th>\n",
       "      <td>5</td>\n",
       "      <td>0.051927</td>\n",
       "      <td>0.002919</td>\n",
       "      <td>0.139440</td>\n",
       "      <td>0.039439</td>\n",
       "      <td>0.035637</td>\n",
       "      <td>0.003948</td>\n",
       "      <td>0.092139</td>\n",
       "      <td>0.446469</td>\n",
       "      <td>0.020049</td>\n",
       "      <td>0.000054</td>\n",
       "      <td>2</td>\n",
       "    </tr>\n",
       "  </tbody>\n",
       "</table>\n",
       "</div>"
      ],
      "text/plain": [
       "   pointId      wall     lives  building  infrastructure      road  sidewalk  \\\n",
       "0        1  0.030779  0.003141  0.163661        0.020548  0.118350  0.033204   \n",
       "1        2  0.047397  0.008571  0.367944        0.009722  0.108147  0.035982   \n",
       "2        3  0.034286  0.003337  0.178823        0.008427  0.237291  0.061395   \n",
       "3        4  0.019361  0.001505  0.331703        0.004485  0.274849  0.073919   \n",
       "4        5  0.051927  0.002919  0.139440        0.039439  0.035637  0.003948   \n",
       "\n",
       "        sky     green  transportation  publicservice  crime_counts  \n",
       "0  0.291897  0.201790        0.017978       0.000147             5  \n",
       "1  0.209341  0.089528        0.003407       0.000034             1  \n",
       "2  0.024113  0.378118        0.006196       0.000012             8  \n",
       "3  0.099125  0.107871        0.027312       0.000077            29  \n",
       "4  0.092139  0.446469        0.020049       0.000054             2  "
      ]
     },
     "execution_count": 7,
     "metadata": {},
     "output_type": "execute_result"
    }
   ],
   "source": [
    "crime = pd.read_csv(\"./correlation_ready.csv\",index_col=0)\n",
    "crime.head()"
   ]
  },
  {
   "cell_type": "markdown",
   "id": "4a260e00",
   "metadata": {},
   "source": [
    "## Engineering: standardize the predictors"
   ]
  },
  {
   "cell_type": "code",
   "execution_count": 17,
   "id": "f992166b",
   "metadata": {},
   "outputs": [
    {
     "data": {
      "text/plain": [
       "array([[<AxesSubplot:title={'center':'pointId'}>,\n",
       "        <AxesSubplot:title={'center':'wall'}>,\n",
       "        <AxesSubplot:title={'center':'lives'}>],\n",
       "       [<AxesSubplot:title={'center':'building'}>,\n",
       "        <AxesSubplot:title={'center':'infrastructure'}>,\n",
       "        <AxesSubplot:title={'center':'road'}>],\n",
       "       [<AxesSubplot:title={'center':'sidewalk'}>,\n",
       "        <AxesSubplot:title={'center':'sky'}>,\n",
       "        <AxesSubplot:title={'center':'green'}>],\n",
       "       [<AxesSubplot:title={'center':'transportation'}>,\n",
       "        <AxesSubplot:title={'center':'publicservice'}>,\n",
       "        <AxesSubplot:title={'center':'crime_counts'}>]], dtype=object)"
      ]
     },
     "execution_count": 17,
     "metadata": {},
     "output_type": "execute_result"
    },
    {
     "data": {
      "image/png": "[encoded data removed]",
      "text/plain": [
       "<Figure size 1080x720 with 12 Axes>"
      ]
     },
     "metadata": {
      "needs_background": "light"
     },
     "output_type": "display_data"
    }
   ],
   "source": [
    "predictors = ['wall', 'lives', 'building', 'infrastructure', 'road',\n",
    "              'sidewalk', 'sky', 'green', 'transportation', 'publicservice']\n",
    "crime.hist(bins=30,figsize=(15,10))"
   ]
  },
  {
   "cell_type": "code",
   "execution_count": 29,
   "id": "f3f84c4e",
   "metadata": {},
   "outputs": [
    {
     "data": {
      "text/plain": [
       "0"
      ]
     },
     "execution_count": 29,
     "metadata": {},
     "output_type": "execute_result"
    }
   ],
   "source": [
    "(crime.crime_counts <=0).sum()"
   ]
  }
 ],
 "metadata": {
  "kernelspec": {
   "display_name": "Python 3 (ipykernel)",
   "language": "python",
   "name": "python3"
  },
  "language_info": {
   "codemirror_mode": {
    "name": "ipython",
    "version": 3
   },
   "file_extension": ".py",
   "mimetype": "text/x-python",
   "name": "python",
   "nbconvert_exporter": "python",
   "pygments_lexer": "ipython3",
   "version": "3.8.10"
  }
 },
 "nbformat": 4,
 "nbformat_minor": 5
}
