{
 "cells": [
  {
   "cell_type": "code",
   "execution_count": 1,
   "id": "af28554f",
   "metadata": {},
   "outputs": [],
   "source": [
    "import pandas as pd"
   ]
  },
  {
   "cell_type": "code",
   "execution_count": 2,
   "id": "5c80d9aa",
   "metadata": {},
   "outputs": [],
   "source": [
    "segnet = pd.read_csv('segnetClassCount.csv')"
   ]
  },
  {
   "cell_type": "code",
   "execution_count": 3,
   "id": "2eb5a390",
   "metadata": {},
   "outputs": [
    {
     "data": {
      "text/plain": [
       "(12317, 35)"
      ]
     },
     "execution_count": 3,
     "metadata": {},
     "output_type": "execute_result"
    }
   ],
   "source": [
    "segnet.shape"
   ]
  },
  {
   "cell_type": "code",
   "execution_count": 4,
   "id": "3a0eca52",
   "metadata": {},
   "outputs": [
    {
     "data": {
      "text/plain": [
       "Index(['Animal', 'Archway', 'Bicyclist', 'Bridge', 'Building', 'Car',\n",
       "       'CartLuggagePram', 'Child', 'Column_Pole', 'Fence', 'LaneMkgsDriv',\n",
       "       'LaneMkgsNonDriv', 'Misc_Text', 'MotorcycleScooter', 'OtherMoving',\n",
       "       'ParkingBlock', 'Pedestrian', 'Road', 'RoadShoulder', 'Sidewalk',\n",
       "       'SignSymbol', 'Sky', 'SUVPickupTruck', 'TrafficCone', 'TrafficLight',\n",
       "       'Train', 'Tree', 'Truck_Bus', 'Tunnel', 'VegetationMisc', 'Void',\n",
       "       'Wall'],\n",
       "      dtype='object')"
      ]
     },
     "execution_count": 4,
     "metadata": {},
     "output_type": "execute_result"
    }
   ],
   "source": [
    "segnet.drop(columns=['Unnamed: 0', 'SEG_ID','pointId']).columns"
   ]
  },
  {
   "cell_type": "code",
   "execution_count": 5,
   "id": "1e246a2b",
   "metadata": {},
   "outputs": [],
   "source": [
    "totalPixels = segnet.drop(columns=['Unnamed: 0', 'SEG_ID','pointId']).sum(axis=1)\n",
    "totalPixels = totalPixels[0]"
   ]
  },
  {
   "cell_type": "code",
   "execution_count": 6,
   "id": "54134597",
   "metadata": {},
   "outputs": [],
   "source": [
    "segnetPercentage = segnet.applymap(lambda x:(x/totalPixels)*100)\n",
    "segnetPercentage = segnetPercentage.drop(columns=['Unnamed: 0', 'SEG_ID','pointId'])"
   ]
  },
  {
   "cell_type": "code",
   "execution_count": 7,
   "id": "b1bce737",
   "metadata": {},
   "outputs": [
    {
     "data": {
      "text/html": [
       "<div>\n",
       "<style scoped>\n",
       "    .dataframe tbody tr th:only-of-type {\n",
       "        vertical-align: middle;\n",
       "    }\n",
       "\n",
       "    .dataframe tbody tr th {\n",
       "        vertical-align: top;\n",
       "    }\n",
       "\n",
       "    .dataframe thead th {\n",
       "        text-align: right;\n",
       "    }\n",
       "</style>\n",
       "<table border=\"1\" class=\"dataframe\">\n",
       "  <thead>\n",
       "    <tr style=\"text-align: right;\">\n",
       "      <th></th>\n",
       "      <th>Unnamed: 0</th>\n",
       "      <th>SEG_ID</th>\n",
       "      <th>pointId</th>\n",
       "      <th>Animal</th>\n",
       "      <th>Archway</th>\n",
       "      <th>Bicyclist</th>\n",
       "      <th>Bridge</th>\n",
       "      <th>Building</th>\n",
       "      <th>Car</th>\n",
       "      <th>CartLuggagePram</th>\n",
       "      <th>...</th>\n",
       "      <th>SUVPickupTruck</th>\n",
       "      <th>TrafficCone</th>\n",
       "      <th>TrafficLight</th>\n",
       "      <th>Train</th>\n",
       "      <th>Tree</th>\n",
       "      <th>Truck_Bus</th>\n",
       "      <th>Tunnel</th>\n",
       "      <th>VegetationMisc</th>\n",
       "      <th>Void</th>\n",
       "      <th>Wall</th>\n",
       "    </tr>\n",
       "  </thead>\n",
       "  <tbody>\n",
       "    <tr>\n",
       "      <th>0</th>\n",
       "      <td>0</td>\n",
       "      <td>641548</td>\n",
       "      <td>10394</td>\n",
       "      <td>0.000381</td>\n",
       "      <td>0.005436</td>\n",
       "      <td>0.048923</td>\n",
       "      <td>0.377750</td>\n",
       "      <td>17.724895</td>\n",
       "      <td>0.626850</td>\n",
       "      <td>0.000000</td>\n",
       "      <td>...</td>\n",
       "      <td>0.263500</td>\n",
       "      <td>0.000954</td>\n",
       "      <td>0.002098</td>\n",
       "      <td>0.0</td>\n",
       "      <td>24.472713</td>\n",
       "      <td>0.145435</td>\n",
       "      <td>0.0</td>\n",
       "      <td>20.129108</td>\n",
       "      <td>9.121227</td>\n",
       "      <td>4.706573</td>\n",
       "    </tr>\n",
       "    <tr>\n",
       "      <th>1</th>\n",
       "      <td>0</td>\n",
       "      <td>640416</td>\n",
       "      <td>1313</td>\n",
       "      <td>0.000095</td>\n",
       "      <td>0.000000</td>\n",
       "      <td>0.223923</td>\n",
       "      <td>0.341702</td>\n",
       "      <td>32.403469</td>\n",
       "      <td>0.628567</td>\n",
       "      <td>0.000286</td>\n",
       "      <td>...</td>\n",
       "      <td>0.791836</td>\n",
       "      <td>0.000000</td>\n",
       "      <td>0.000668</td>\n",
       "      <td>0.0</td>\n",
       "      <td>18.238449</td>\n",
       "      <td>0.155544</td>\n",
       "      <td>0.0</td>\n",
       "      <td>5.156422</td>\n",
       "      <td>6.302071</td>\n",
       "      <td>5.052567</td>\n",
       "    </tr>\n",
       "    <tr>\n",
       "      <th>2</th>\n",
       "      <td>0</td>\n",
       "      <td>620130</td>\n",
       "      <td>7230</td>\n",
       "      <td>0.000095</td>\n",
       "      <td>0.003529</td>\n",
       "      <td>0.096512</td>\n",
       "      <td>0.013638</td>\n",
       "      <td>17.127800</td>\n",
       "      <td>0.865841</td>\n",
       "      <td>0.005341</td>\n",
       "      <td>...</td>\n",
       "      <td>0.211906</td>\n",
       "      <td>0.012016</td>\n",
       "      <td>0.038815</td>\n",
       "      <td>0.0</td>\n",
       "      <td>13.939381</td>\n",
       "      <td>0.209332</td>\n",
       "      <td>0.0</td>\n",
       "      <td>19.713688</td>\n",
       "      <td>13.001347</td>\n",
       "      <td>1.197243</td>\n",
       "    </tr>\n",
       "    <tr>\n",
       "      <th>3</th>\n",
       "      <td>0</td>\n",
       "      <td>401340</td>\n",
       "      <td>9336</td>\n",
       "      <td>0.000000</td>\n",
       "      <td>0.000000</td>\n",
       "      <td>0.138664</td>\n",
       "      <td>0.069904</td>\n",
       "      <td>19.492722</td>\n",
       "      <td>2.581406</td>\n",
       "      <td>0.024509</td>\n",
       "      <td>...</td>\n",
       "      <td>0.365257</td>\n",
       "      <td>0.000000</td>\n",
       "      <td>0.000095</td>\n",
       "      <td>0.0</td>\n",
       "      <td>6.031322</td>\n",
       "      <td>0.681686</td>\n",
       "      <td>0.0</td>\n",
       "      <td>6.194973</td>\n",
       "      <td>8.015728</td>\n",
       "      <td>3.364944</td>\n",
       "    </tr>\n",
       "    <tr>\n",
       "      <th>4</th>\n",
       "      <td>0</td>\n",
       "      <td>761434</td>\n",
       "      <td>6817</td>\n",
       "      <td>0.000763</td>\n",
       "      <td>0.000858</td>\n",
       "      <td>0.007153</td>\n",
       "      <td>0.083542</td>\n",
       "      <td>12.132835</td>\n",
       "      <td>4.878521</td>\n",
       "      <td>0.000000</td>\n",
       "      <td>...</td>\n",
       "      <td>0.479507</td>\n",
       "      <td>0.011539</td>\n",
       "      <td>0.002384</td>\n",
       "      <td>0.0</td>\n",
       "      <td>18.630600</td>\n",
       "      <td>0.391960</td>\n",
       "      <td>0.0</td>\n",
       "      <td>13.446712</td>\n",
       "      <td>11.851025</td>\n",
       "      <td>0.464630</td>\n",
       "    </tr>\n",
       "  </tbody>\n",
       "</table>\n",
       "<p>5 rows × 35 columns</p>\n",
       "</div>"
      ],
      "text/plain": [
       "   Unnamed: 0  SEG_ID  pointId    Animal   Archway  Bicyclist    Bridge  \\\n",
       "0           0  641548    10394  0.000381  0.005436   0.048923  0.377750   \n",
       "1           0  640416     1313  0.000095  0.000000   0.223923  0.341702   \n",
       "2           0  620130     7230  0.000095  0.003529   0.096512  0.013638   \n",
       "3           0  401340     9336  0.000000  0.000000   0.138664  0.069904   \n",
       "4           0  761434     6817  0.000763  0.000858   0.007153  0.083542   \n",
       "\n",
       "    Building       Car  CartLuggagePram  ...  SUVPickupTruck  TrafficCone  \\\n",
       "0  17.724895  0.626850         0.000000  ...        0.263500     0.000954   \n",
       "1  32.403469  0.628567         0.000286  ...        0.791836     0.000000   \n",
       "2  17.127800  0.865841         0.005341  ...        0.211906     0.012016   \n",
       "3  19.492722  2.581406         0.024509  ...        0.365257     0.000000   \n",
       "4  12.132835  4.878521         0.000000  ...        0.479507     0.011539   \n",
       "\n",
       "   TrafficLight  Train       Tree  Truck_Bus  Tunnel  VegetationMisc  \\\n",
       "0      0.002098    0.0  24.472713   0.145435     0.0       20.129108   \n",
       "1      0.000668    0.0  18.238449   0.155544     0.0        5.156422   \n",
       "2      0.038815    0.0  13.939381   0.209332     0.0       19.713688   \n",
       "3      0.000095    0.0   6.031322   0.681686     0.0        6.194973   \n",
       "4      0.002384    0.0  18.630600   0.391960     0.0       13.446712   \n",
       "\n",
       "        Void      Wall  \n",
       "0   9.121227  4.706573  \n",
       "1   6.302071  5.052567  \n",
       "2  13.001347  1.197243  \n",
       "3   8.015728  3.364944  \n",
       "4  11.851025  0.464630  \n",
       "\n",
       "[5 rows x 35 columns]"
      ]
     },
     "execution_count": 7,
     "metadata": {},
     "output_type": "execute_result"
    }
   ],
   "source": [
    "combined = pd.merge(segnet[segnet.columns[0:3]], segnetPercentage,left_index=True, right_index=True)\n",
    "combined.head()"
   ]
  },
  {
   "cell_type": "markdown",
   "id": "0247af9f",
   "metadata": {},
   "source": [
    "## combine variables\n",
    "Defence : Column_Pole + Fence + Wall + TrafficCone\n",
    "Lives : Animal + Bicyclist + Child + Pedestrain + MotorcycleScooter + otherMoving\n",
    "Building : Archway + Building\n",
    "Infrastructure : Bridge + ParkingBlock + Train + Tunnel\n",
    "Road : Road + RoadShoulder + 'LaneMkgsDriv'+ 'LaneMkgsNonDriv'\n",
    "Sidewalk\n",
    "Sky\n",
    "Green : Tree + VegetationMisc\n",
    "Transportation : Car + SUVPickupTruck + Truck_Bus\n",
    "PublicService: CartLuggagePram + SignSymbol + TrafficLight\n",
    "\n",
    "Delete:\n",
    "Void +  'Misc_Text',"
   ]
  }
 ],
 "metadata": {
  "kernelspec": {
   "display_name": "Python 3 (ipykernel)",
   "language": "python",
   "name": "python3"
  },
  "language_info": {
   "codemirror_mode": {
    "name": "ipython",
    "version": 3
   },
   "file_extension": ".py",
   "mimetype": "text/x-python",
   "name": "python",
   "nbconvert_exporter": "python",
   "pygments_lexer": "ipython3",
   "version": "3.8.12"
  }
 },
 "nbformat": 4,
 "nbformat_minor": 5
}
