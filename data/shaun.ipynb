{
 "cells": [
  {
   "cell_type": "markdown",
   "id": "fbb1bb35",
   "metadata": {},
   "source": [
    "# Census Data"
   ]
  },
  {
   "cell_type": "code",
   "execution_count": 2,
   "id": "e932fe7b",
   "metadata": {},
   "outputs": [],
   "source": [
    "import cenpy\n",
    "import pandas as pd\n",
    "import geopandas as gpd\n",
    "acs = cenpy.remote.APIConnection(\"ACSDT5Y2015\")"
   ]
  },
  {
   "cell_type": "code",
   "execution_count": 17,
   "id": "2d9b12c2",
   "metadata": {},
   "outputs": [],
   "source": [
    "censusRace = acs.query(\n",
    "    cols=[\"NAME\",\"B02001_001E\",\"B02001_002E\"],\n",
    "    geo_unit=\"block group:*\",\n",
    "    geo_filter={\n",
    "                \"state\" : \"42\", \n",
    "                \"county\" : \"101\"\n",
    "               },\n",
    ").rename(columns={\"B02001_001E\": \"totalPop\",\"B02001_002E\": \"whitePop\"}, errors=\"raise\")"
   ]
  },
  {
   "cell_type": "code",
   "execution_count": 28,
   "id": "e9662f96",
   "metadata": {},
   "outputs": [
    {
     "data": {
      "text/html": [
       "<div>\n",
       "<style scoped>\n",
       "    .dataframe tbody tr th:only-of-type {\n",
       "        vertical-align: middle;\n",
       "    }\n",
       "\n",
       "    .dataframe tbody tr th {\n",
       "        vertical-align: top;\n",
       "    }\n",
       "\n",
       "    .dataframe thead th {\n",
       "        text-align: right;\n",
       "    }\n",
       "</style>\n",
       "<table border=\"1\" class=\"dataframe\">\n",
       "  <thead>\n",
       "    <tr style=\"text-align: right;\">\n",
       "      <th></th>\n",
       "      <th>NAME</th>\n",
       "      <th>totalPop</th>\n",
       "      <th>whitePop</th>\n",
       "      <th>state</th>\n",
       "      <th>county</th>\n",
       "      <th>tract</th>\n",
       "      <th>block group</th>\n",
       "      <th>whitePercep</th>\n",
       "      <th>nonwhitePercep</th>\n",
       "    </tr>\n",
       "  </thead>\n",
       "  <tbody>\n",
       "    <tr>\n",
       "      <th>0</th>\n",
       "      <td>Block Group 1, Census Tract 81.02, Philadelphi...</td>\n",
       "      <td>858</td>\n",
       "      <td>0</td>\n",
       "      <td>42</td>\n",
       "      <td>101</td>\n",
       "      <td>008102</td>\n",
       "      <td>1</td>\n",
       "      <td>0.000000</td>\n",
       "      <td>1.000000</td>\n",
       "    </tr>\n",
       "    <tr>\n",
       "      <th>1</th>\n",
       "      <td>Block Group 5, Census Tract 81.02, Philadelphi...</td>\n",
       "      <td>894</td>\n",
       "      <td>11</td>\n",
       "      <td>42</td>\n",
       "      <td>101</td>\n",
       "      <td>008102</td>\n",
       "      <td>5</td>\n",
       "      <td>0.012304</td>\n",
       "      <td>0.987696</td>\n",
       "    </tr>\n",
       "    <tr>\n",
       "      <th>2</th>\n",
       "      <td>Block Group 3, Census Tract 81.02, Philadelphi...</td>\n",
       "      <td>543</td>\n",
       "      <td>0</td>\n",
       "      <td>42</td>\n",
       "      <td>101</td>\n",
       "      <td>008102</td>\n",
       "      <td>3</td>\n",
       "      <td>0.000000</td>\n",
       "      <td>1.000000</td>\n",
       "    </tr>\n",
       "    <tr>\n",
       "      <th>3</th>\n",
       "      <td>Block Group 2, Census Tract 248, Philadelphia ...</td>\n",
       "      <td>1109</td>\n",
       "      <td>26</td>\n",
       "      <td>42</td>\n",
       "      <td>101</td>\n",
       "      <td>024800</td>\n",
       "      <td>2</td>\n",
       "      <td>0.023445</td>\n",
       "      <td>0.976555</td>\n",
       "    </tr>\n",
       "    <tr>\n",
       "      <th>4</th>\n",
       "      <td>Block Group 1, Census Tract 2, Philadelphia Co...</td>\n",
       "      <td>2331</td>\n",
       "      <td>911</td>\n",
       "      <td>42</td>\n",
       "      <td>101</td>\n",
       "      <td>000200</td>\n",
       "      <td>1</td>\n",
       "      <td>0.390819</td>\n",
       "      <td>0.609181</td>\n",
       "    </tr>\n",
       "  </tbody>\n",
       "</table>\n",
       "</div>"
      ],
      "text/plain": [
       "                                                NAME  totalPop  whitePop  \\\n",
       "0  Block Group 1, Census Tract 81.02, Philadelphi...       858         0   \n",
       "1  Block Group 5, Census Tract 81.02, Philadelphi...       894        11   \n",
       "2  Block Group 3, Census Tract 81.02, Philadelphi...       543         0   \n",
       "3  Block Group 2, Census Tract 248, Philadelphia ...      1109        26   \n",
       "4  Block Group 1, Census Tract 2, Philadelphia Co...      2331       911   \n",
       "\n",
       "  state county   tract block group  whitePercep  nonwhitePercep  \n",
       "0    42    101  008102           1     0.000000        1.000000  \n",
       "1    42    101  008102           5     0.012304        0.987696  \n",
       "2    42    101  008102           3     0.000000        1.000000  \n",
       "3    42    101  024800           2     0.023445        0.976555  \n",
       "4    42    101  000200           1     0.390819        0.609181  "
      ]
     },
     "execution_count": 28,
     "metadata": {},
     "output_type": "execute_result"
    }
   ],
   "source": [
    "censusRace2 = censusRace\n",
    "censusRace2['whitePop'] = pd.to_numeric(censusRace2['whitePop'], errors='ignore')\n",
    "censusRace2['totalPop'] = pd.to_numeric(censusRace2['totalPop'], errors='ignore')\n",
    "censusRace2['whitePercep'] = censusRace2['whitePop'] / censusRace2['totalPop'] \n",
    "censusRace2['nonwhitePercep'] = 1- censusRace2['whitePercep']\n",
    "censusRace2.head()"
   ]
  },
  {
   "cell_type": "code",
   "execution_count": 30,
   "id": "f6a72db5",
   "metadata": {},
   "outputs": [],
   "source": [
    "censusRace2.to_csv('censusRaceData.csv', index=False) "
   ]
  },
  {
   "cell_type": "markdown",
   "id": "8287d567",
   "metadata": {},
   "source": [
    "# 311 Complaints"
   ]
  },
  {
   "cell_type": "code",
   "execution_count": 3,
   "id": "dd901fa9",
   "metadata": {},
   "outputs": [],
   "source": [
    "complaint311 = pd.read_csv (\"downloaded_public_cases_fc.csv\")"
   ]
  },
  {
   "cell_type": "code",
   "execution_count": 4,
   "id": "e6d82d5d",
   "metadata": {},
   "outputs": [],
   "source": [
    "ndService=['Abandoned Vehicle','Graffiti Removal','Vacant House or Commercial','Street Light Outage','Traffic Signal Emergency','Dead Animal in Street', 'Street Defect','Vacant Lot Clean-Up', 'Alley Light Outage', 'Street Trees', 'Abandoned Bike',\n",
    "       'Complaint (Streets)', 'Street Paving', 'Tree Dangerous']"
   ]
  },
  {
   "cell_type": "code",
   "execution_count": 17,
   "id": "257ad746",
   "metadata": {},
   "outputs": [],
   "source": [
    "complaint311Filter = complaint311.query('service_name in @ndService')\n",
    "complaint311Filter = complaint311Filter[[\"service_request_id\",\"service_name\",\"agency_responsible\",\"lat\",\"lon\"]].dropna()"
   ]
  },
  {
   "cell_type": "code",
   "execution_count": 18,
   "id": "7c1ce4c0",
   "metadata": {},
   "outputs": [],
   "source": [
    "complaint311Filter['geometry'] = gpd.points_from_xy(complaint311Filter['lon'], complaint311Filter['lat'])\n",
    "complaint311Filter = gpd.GeoDataFrame(complaint311Filter, geometry='geometry', crs=\"EPSG:4326\")"
   ]
  },
  {
   "cell_type": "code",
   "execution_count": 19,
   "id": "7f1783f1",
   "metadata": {},
   "outputs": [
    {
     "data": {
      "text/plain": [
       "service_request_id    64523\n",
       "service_name          64523\n",
       "agency_responsible    64523\n",
       "lat                   64523\n",
       "lon                   64523\n",
       "geometry              64523\n",
       "dtype: int64"
      ]
     },
     "execution_count": 19,
     "metadata": {},
     "output_type": "execute_result"
    }
   ],
   "source": [
    "complaint311Filter.count()"
   ]
  },
  {
   "cell_type": "markdown",
   "id": "878fdf83",
   "metadata": {},
   "source": [
    "# Crime"
   ]
  },
  {
   "cell_type": "code",
   "execution_count": 36,
   "id": "dbe2a429",
   "metadata": {},
   "outputs": [],
   "source": [
    "import carto2gpd\n",
    "import altair as alt\n",
    "import matplotlib"
   ]
  },
  {
   "cell_type": "code",
   "execution_count": 13,
   "id": "57a11f83",
   "metadata": {},
   "outputs": [],
   "source": [
    "url = \"https://phl.carto.com/api/v2/sql\"\n",
    "table_name = \"incidents_part1_part2\"\n",
    "where = \"dispatch_date >= '2015-01-01' AND dispatch_date < '2016-01-01'\"\n",
    "crime = carto2gpd.get(url, table_name, where=where)"
   ]
  },
  {
   "cell_type": "code",
   "execution_count": 15,
   "id": "cc8a1760",
   "metadata": {},
   "outputs": [],
   "source": [
    "crime = crime.drop(columns=[\"objectid\",\"dc_dist\",\"psa\",\"dc_key\",\"ucr_general\",\"point_x\",\"point_y\"])\n",
    "crime[\"count\"]=1"
   ]
  },
  {
   "cell_type": "code",
   "execution_count": 26,
   "id": "d200882a",
   "metadata": {},
   "outputs": [],
   "source": [
    "crime = crime.rename(columns={\"text_general_code\": \"crimeType\"}, errors=\"raise\")"
   ]
  },
  {
   "cell_type": "code",
   "execution_count": 64,
   "id": "779607c5",
   "metadata": {},
   "outputs": [],
   "source": [
    "total = crime.groupby(\"crimeType\").sum(\"count\").sort_values(by=\"count\",ascending=False)\n",
    "total = total.reset_index()"
   ]
  },
  {
   "cell_type": "code",
   "execution_count": 54,
   "id": "f8afdd8a",
   "metadata": {},
   "outputs": [
    {
     "data": {
      "text/html": [
       "\n",
       "<div id=\"altair-viz-c597c58c1554401aad59ca9e2b5cf98f\"></div>\n",
       "<script type=\"text/javascript\">\n",
       "  (function(spec, embedOpt){\n",
       "    let outputDiv = document.currentScript.previousElementSibling;\n",
       "    if (outputDiv.id !== \"altair-viz-c597c58c1554401aad59ca9e2b5cf98f\") {\n",
       "      outputDiv = document.getElementById(\"altair-viz-c597c58c1554401aad59ca9e2b5cf98f\");\n",
       "    }\n",
       "    const paths = {\n",
       "      \"vega\": \"https://cdn.jsdelivr.net/npm//vega@5?noext\",\n",
       "      \"vega-lib\": \"https://cdn.jsdelivr.net/npm//vega-lib?noext\",\n",
       "      \"vega-lite\": \"https://cdn.jsdelivr.net/npm//vega-lite@4.8.1?noext\",\n",
       "      \"vega-embed\": \"https://cdn.jsdelivr.net/npm//vega-embed@6?noext\",\n",
       "    };\n",
       "\n",
       "    function loadScript(lib) {\n",
       "      return new Promise(function(resolve, reject) {\n",
       "        var s = document.createElement('script');\n",
       "        s.src = paths[lib];\n",
       "        s.async = true;\n",
       "        s.onload = () => resolve(paths[lib]);\n",
       "        s.onerror = () => reject(`Error loading script: ${paths[lib]}`);\n",
       "        document.getElementsByTagName(\"head\")[0].appendChild(s);\n",
       "      });\n",
       "    }\n",
       "\n",
       "    function showError(err) {\n",
       "      outputDiv.innerHTML = `<div class=\"error\" style=\"color:red;\">${err}</div>`;\n",
       "      throw err;\n",
       "    }\n",
       "\n",
       "    function displayChart(vegaEmbed) {\n",
       "      vegaEmbed(outputDiv, spec, embedOpt)\n",
       "        .catch(err => showError(`Javascript Error: ${err.message}<br>This usually means there's a typo in your chart specification. See the javascript console for the full traceback.`));\n",
       "    }\n",
       "\n",
       "    if(typeof define === \"function\" && define.amd) {\n",
       "      requirejs.config({paths});\n",
       "      require([\"vega-embed\"], displayChart, err => showError(`Error loading script: ${err.message}`));\n",
       "    } else if (typeof vegaEmbed === \"function\") {\n",
       "      displayChart(vegaEmbed);\n",
       "    } else {\n",
       "      loadScript(\"vega\")\n",
       "        .then(() => loadScript(\"vega-lite\"))\n",
       "        .then(() => loadScript(\"vega-embed\"))\n",
       "        .catch(showError)\n",
       "        .then(() => displayChart(vegaEmbed));\n",
       "    }\n",
       "  })({\"config\": {\"view\": {\"continuousWidth\": 400, \"continuousHeight\": 300}}, \"data\": {\"name\": \"data-90126e9ca566ce542df6c3a139aad31b\"}, \"mark\": \"bar\", \"encoding\": {\"color\": {\"value\": \"#F79D46\"}, \"tooltip\": [{\"type\": \"nominal\", \"field\": \"crimeType\"}, {\"type\": \"quantitative\", \"field\": \"count\"}], \"x\": {\"type\": \"nominal\", \"axis\": {\"labelAngle\": 90}, \"field\": \"crimeType\", \"sort\": \"-y\"}, \"y\": {\"type\": \"quantitative\", \"field\": \"count\"}}, \"selection\": {\"selector011\": {\"type\": \"interval\", \"bind\": \"scales\", \"encodings\": [\"x\", \"y\"]}}, \"$schema\": \"https://vega.github.io/schema/vega-lite/v4.8.1.json\", \"datasets\": {\"data-90126e9ca566ce542df6c3a139aad31b\": [{\"crimeType\": \"All Other Offenses\", \"cartodb_id\": 64975490167, \"hour_\": 565431, \"count\": 41180}, {\"crimeType\": \"Other Assaults\", \"cartodb_id\": 42139417925, \"hour_\": 321287, \"count\": 23652}, {\"crimeType\": \"Thefts\", \"cartodb_id\": 8502737266, \"hour_\": 323961, \"count\": 22913}, {\"crimeType\": \"Vandalism/Criminal Mischief\", \"cartodb_id\": 30411951425, \"hour_\": 194512, \"count\": 15291}, {\"crimeType\": \"Theft from Vehicle\", \"cartodb_id\": 7454332921, \"hour_\": 156793, \"count\": 12761}, {\"crimeType\": \"Fraud\", \"cartodb_id\": 21574922216, \"hour_\": 177427, \"count\": 12460}, {\"crimeType\": \"Narcotic / Drug Law Violations\", \"cartodb_id\": 11563505272, \"hour_\": 120207, \"count\": 7567}, {\"crimeType\": \"Burglary Residential\", \"cartodb_id\": 3505761306, \"hour_\": 89035, \"count\": 6628}, {\"crimeType\": \"Aggravated Assault No Firearm\", \"cartodb_id\": 2426731044, \"hour_\": 69504, \"count\": 5392}, {\"crimeType\": \"DRIVING UNDER THE INFLUENCE\", \"cartodb_id\": 6009907556, \"hour_\": 39462, \"count\": 3863}, {\"crimeType\": \"Robbery No Firearm\", \"cartodb_id\": 1542238358, \"hour_\": 49212, \"count\": 3780}, {\"crimeType\": \"Disorderly Conduct\", \"cartodb_id\": 4354939302, \"hour_\": 41909, \"count\": 2954}, {\"crimeType\": \"Robbery Firearm\", \"cartodb_id\": 1245802846, \"hour_\": 37204, \"count\": 2854}, {\"crimeType\": \"Aggravated Assault Firearm\", \"cartodb_id\": 1074718617, \"hour_\": 30470, \"count\": 2260}, {\"crimeType\": \"Motor Vehicle Theft\", \"cartodb_id\": 4300169961, \"hour_\": 21053, \"count\": 1669}, {\"crimeType\": \"Burglary Non-Residential\", \"cartodb_id\": 587652619, \"hour_\": 14808, \"count\": 1451}, {\"crimeType\": \"Rape\", \"cartodb_id\": 575945053, \"hour_\": 17305, \"count\": 1324}, {\"crimeType\": \"Weapon Violations\", \"cartodb_id\": 2052590509, \"hour_\": 17768, \"count\": 1324}, {\"crimeType\": \"Other Sex Offenses (Not Commercialized)\", \"cartodb_id\": 1801257868, \"hour_\": 15178, \"count\": 1078}, {\"crimeType\": \"Prostitution and Commercialized Vice\", \"cartodb_id\": 1480182324, \"hour_\": 16254, \"count\": 1049}, {\"crimeType\": \"Vagrancy/Loitering\", \"cartodb_id\": 1282551523, \"hour_\": 14635, \"count\": 1040}, {\"crimeType\": \"Public Drunkenness\", \"cartodb_id\": 752964149, \"hour_\": 7477, \"count\": 519}, {\"crimeType\": \"Embezzlement\", \"cartodb_id\": 574098271, \"hour_\": 5370, \"count\": 391}, {\"crimeType\": \"Arson\", \"cartodb_id\": 602193360, \"hour_\": 3414, \"count\": 325}, {\"crimeType\": \"Liquor Law Violations\", \"cartodb_id\": 408558164, \"hour_\": 4213, \"count\": 274}, {\"crimeType\": \"Homicide - Criminal\", \"cartodb_id\": 579605332, \"hour_\": 3237, \"count\": 228}, {\"crimeType\": \"Forgery and Counterfeiting\", \"cartodb_id\": 336391841, \"hour_\": 3004, \"count\": 210}, {\"crimeType\": \"Offenses Against Family and Children\", \"cartodb_id\": 278339416, \"hour_\": 1817, \"count\": 156}, {\"crimeType\": \"Homicide - Criminal \", \"cartodb_id\": 121936270, \"hour_\": 557, \"count\": 48}, {\"crimeType\": \"Gambling Violations\", \"cartodb_id\": 77657231, \"hour_\": 618, \"count\": 44}, {\"crimeType\": \"Receiving Stolen Property\", \"cartodb_id\": 51613274, \"hour_\": 462, \"count\": 34}, {\"crimeType\": \"Homicide - Justifiable \", \"cartodb_id\": 10191971, \"hour_\": 22, \"count\": 4}]}}, {\"mode\": \"vega-lite\"});\n",
       "</script>"
      ],
      "text/plain": [
       "alt.Chart(...)"
      ]
     },
     "execution_count": 54,
     "metadata": {},
     "output_type": "execute_result"
    }
   ],
   "source": [
    "chart = alt.Chart(total).mark_bar().encode(\n",
    "    alt.X('crimeType:N',axis=alt.Axis(labelAngle=90),sort='-y'),\n",
    "    alt.Y('count:Q'),\n",
    "    tooltip=[\"crimeType:N\",\"count:Q\"],\n",
    "    color = alt.value(\"#F79D46\")).interactive()\n",
    "\n",
    "chart"
   ]
  },
  {
   "cell_type": "code",
   "execution_count": 69,
   "id": "aefc4c7d",
   "metadata": {},
   "outputs": [],
   "source": [
    "selectedCrimeType = total[0:20].crimeType"
   ]
  },
  {
   "cell_type": "code",
   "execution_count": 68,
   "id": "f8be53a9",
   "metadata": {},
   "outputs": [
    {
     "data": {
      "text/html": [
       "<div>\n",
       "<style scoped>\n",
       "    .dataframe tbody tr th:only-of-type {\n",
       "        vertical-align: middle;\n",
       "    }\n",
       "\n",
       "    .dataframe tbody tr th {\n",
       "        vertical-align: top;\n",
       "    }\n",
       "\n",
       "    .dataframe thead th {\n",
       "        text-align: right;\n",
       "    }\n",
       "</style>\n",
       "<table border=\"1\" class=\"dataframe\">\n",
       "  <thead>\n",
       "    <tr style=\"text-align: right;\">\n",
       "      <th></th>\n",
       "      <th>geometry</th>\n",
       "      <th>cartodb_id</th>\n",
       "      <th>dispatch_date_time</th>\n",
       "      <th>dispatch_date</th>\n",
       "      <th>dispatch_time</th>\n",
       "      <th>hour_</th>\n",
       "      <th>location_block</th>\n",
       "      <th>crimeType</th>\n",
       "      <th>count</th>\n",
       "    </tr>\n",
       "  </thead>\n",
       "  <tbody>\n",
       "    <tr>\n",
       "      <th>0</th>\n",
       "      <td>POINT (-75.22059 39.91443)</td>\n",
       "      <td>14</td>\n",
       "      <td>2015-01-15T08:58:00Z</td>\n",
       "      <td>2015-01-15</td>\n",
       "      <td>08:58:00</td>\n",
       "      <td>8</td>\n",
       "      <td>6600 BLOCK ESSINGTON AVE</td>\n",
       "      <td>Burglary Non-Residential</td>\n",
       "      <td>1</td>\n",
       "    </tr>\n",
       "    <tr>\n",
       "      <th>1</th>\n",
       "      <td>POINT (-75.22059 39.91443)</td>\n",
       "      <td>15</td>\n",
       "      <td>2015-05-27T20:09:00Z</td>\n",
       "      <td>2015-05-27</td>\n",
       "      <td>20:09:00</td>\n",
       "      <td>20</td>\n",
       "      <td>6600 BLOCK ESSINGTON AVE</td>\n",
       "      <td>Aggravated Assault No Firearm</td>\n",
       "      <td>1</td>\n",
       "    </tr>\n",
       "    <tr>\n",
       "      <th>2</th>\n",
       "      <td>POINT (-75.22059 39.91443)</td>\n",
       "      <td>23</td>\n",
       "      <td>2015-01-11T14:38:00Z</td>\n",
       "      <td>2015-01-11</td>\n",
       "      <td>14:38:00</td>\n",
       "      <td>14</td>\n",
       "      <td>6600 BLOCK ESSINGTON AVE</td>\n",
       "      <td>Robbery Firearm</td>\n",
       "      <td>1</td>\n",
       "    </tr>\n",
       "    <tr>\n",
       "      <th>3</th>\n",
       "      <td>POINT (-75.06663 40.04926)</td>\n",
       "      <td>29</td>\n",
       "      <td>2015-04-15T11:14:00Z</td>\n",
       "      <td>2015-04-15</td>\n",
       "      <td>11:14:00</td>\n",
       "      <td>11</td>\n",
       "      <td>100 BLOCK S BROAD ST</td>\n",
       "      <td>Thefts</td>\n",
       "      <td>1</td>\n",
       "    </tr>\n",
       "    <tr>\n",
       "      <th>4</th>\n",
       "      <td>POINT (-75.16145 39.96233)</td>\n",
       "      <td>53</td>\n",
       "      <td>2015-01-31T12:45:00Z</td>\n",
       "      <td>2015-01-31</td>\n",
       "      <td>12:45:00</td>\n",
       "      <td>12</td>\n",
       "      <td>1400 BLOCK SPRING GARDEN ST 210</td>\n",
       "      <td>Thefts</td>\n",
       "      <td>1</td>\n",
       "    </tr>\n",
       "  </tbody>\n",
       "</table>\n",
       "</div>"
      ],
      "text/plain": [
       "                     geometry  cartodb_id    dispatch_date_time dispatch_date  \\\n",
       "0  POINT (-75.22059 39.91443)          14  2015-01-15T08:58:00Z    2015-01-15   \n",
       "1  POINT (-75.22059 39.91443)          15  2015-05-27T20:09:00Z    2015-05-27   \n",
       "2  POINT (-75.22059 39.91443)          23  2015-01-11T14:38:00Z    2015-01-11   \n",
       "3  POINT (-75.06663 40.04926)          29  2015-04-15T11:14:00Z    2015-04-15   \n",
       "4  POINT (-75.16145 39.96233)          53  2015-01-31T12:45:00Z    2015-01-31   \n",
       "\n",
       "  dispatch_time  hour_                   location_block  \\\n",
       "0      08:58:00      8         6600 BLOCK ESSINGTON AVE   \n",
       "1      20:09:00     20         6600 BLOCK ESSINGTON AVE   \n",
       "2      14:38:00     14         6600 BLOCK ESSINGTON AVE   \n",
       "3      11:14:00     11             100 BLOCK S BROAD ST   \n",
       "4      12:45:00     12  1400 BLOCK SPRING GARDEN ST 210   \n",
       "\n",
       "                       crimeType  count  \n",
       "0       Burglary Non-Residential      1  \n",
       "1  Aggravated Assault No Firearm      1  \n",
       "2                Robbery Firearm      1  \n",
       "3                         Thefts      1  \n",
       "4                         Thefts      1  "
      ]
     },
     "execution_count": 68,
     "metadata": {},
     "output_type": "execute_result"
    }
   ],
   "source": [
    "selectCrime = crime[crime['crimeType'].isin(selectedCrimeType)]\n",
    "selectCrime.head()"
   ]
  }
 ],
 "metadata": {
  "kernelspec": {
   "display_name": "Python 3 (ipykernel)",
   "language": "python",
   "name": "python3"
  },
  "language_info": {
   "codemirror_mode": {
    "name": "ipython",
    "version": 3
   },
   "file_extension": ".py",
   "mimetype": "text/x-python",
   "name": "python",
   "nbconvert_exporter": "python",
   "pygments_lexer": "ipython3",
   "version": "3.8.12"
  }
 },
 "nbformat": 4,
 "nbformat_minor": 5
}
