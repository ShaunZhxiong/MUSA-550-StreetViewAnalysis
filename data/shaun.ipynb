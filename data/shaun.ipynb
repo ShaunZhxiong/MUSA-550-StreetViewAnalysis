{
 "cells": [
  {
   "cell_type": "markdown",
   "id": "fbb1bb35",
   "metadata": {},
   "source": [
    "# Census Data"
   ]
  },
  {
   "cell_type": "code",
   "execution_count": 2,
   "id": "e932fe7b",
   "metadata": {},
   "outputs": [],
   "source": [
    "import cenpy\n",
    "import pandas as pd\n",
    "import geopandas as gpd\n",
    "acs = cenpy.remote.APIConnection(\"ACSDT5Y2015\")"
   ]
  },
  {
   "cell_type": "code",
   "execution_count": 17,
   "id": "2d9b12c2",
   "metadata": {},
   "outputs": [],
   "source": [
    "censusRace = acs.query(\n",
    "    cols=[\"NAME\",\"B02001_001E\",\"B02001_002E\"],\n",
    "    geo_unit=\"block group:*\",\n",
    "    geo_filter={\n",
    "                \"state\" : \"42\", \n",
    "                \"county\" : \"101\"\n",
    "               },\n",
    ").rename(columns={\"B02001_001E\": \"totalPop\",\"B02001_002E\": \"whitePop\"}, errors=\"raise\")"
   ]
  },
  {
   "cell_type": "code",
   "execution_count": 28,
   "id": "e9662f96",
   "metadata": {},
   "outputs": [
    {
     "data": {
      "text/html": [
       "<div>\n",
       "<style scoped>\n",
       "    .dataframe tbody tr th:only-of-type {\n",
       "        vertical-align: middle;\n",
       "    }\n",
       "\n",
       "    .dataframe tbody tr th {\n",
       "        vertical-align: top;\n",
       "    }\n",
       "\n",
       "    .dataframe thead th {\n",
       "        text-align: right;\n",
       "    }\n",
       "</style>\n",
       "<table border=\"1\" class=\"dataframe\">\n",
       "  <thead>\n",
       "    <tr style=\"text-align: right;\">\n",
       "      <th></th>\n",
       "      <th>NAME</th>\n",
       "      <th>totalPop</th>\n",
       "      <th>whitePop</th>\n",
       "      <th>state</th>\n",
       "      <th>county</th>\n",
       "      <th>tract</th>\n",
       "      <th>block group</th>\n",
       "      <th>whitePercep</th>\n",
       "      <th>nonwhitePercep</th>\n",
       "    </tr>\n",
       "  </thead>\n",
       "  <tbody>\n",
       "    <tr>\n",
       "      <th>0</th>\n",
       "      <td>Block Group 1, Census Tract 81.02, Philadelphi...</td>\n",
       "      <td>858</td>\n",
       "      <td>0</td>\n",
       "      <td>42</td>\n",
       "      <td>101</td>\n",
       "      <td>008102</td>\n",
       "      <td>1</td>\n",
       "      <td>0.000000</td>\n",
       "      <td>1.000000</td>\n",
       "    </tr>\n",
       "    <tr>\n",
       "      <th>1</th>\n",
       "      <td>Block Group 5, Census Tract 81.02, Philadelphi...</td>\n",
       "      <td>894</td>\n",
       "      <td>11</td>\n",
       "      <td>42</td>\n",
       "      <td>101</td>\n",
       "      <td>008102</td>\n",
       "      <td>5</td>\n",
       "      <td>0.012304</td>\n",
       "      <td>0.987696</td>\n",
       "    </tr>\n",
       "    <tr>\n",
       "      <th>2</th>\n",
       "      <td>Block Group 3, Census Tract 81.02, Philadelphi...</td>\n",
       "      <td>543</td>\n",
       "      <td>0</td>\n",
       "      <td>42</td>\n",
       "      <td>101</td>\n",
       "      <td>008102</td>\n",
       "      <td>3</td>\n",
       "      <td>0.000000</td>\n",
       "      <td>1.000000</td>\n",
       "    </tr>\n",
       "    <tr>\n",
       "      <th>3</th>\n",
       "      <td>Block Group 2, Census Tract 248, Philadelphia ...</td>\n",
       "      <td>1109</td>\n",
       "      <td>26</td>\n",
       "      <td>42</td>\n",
       "      <td>101</td>\n",
       "      <td>024800</td>\n",
       "      <td>2</td>\n",
       "      <td>0.023445</td>\n",
       "      <td>0.976555</td>\n",
       "    </tr>\n",
       "    <tr>\n",
       "      <th>4</th>\n",
       "      <td>Block Group 1, Census Tract 2, Philadelphia Co...</td>\n",
       "      <td>2331</td>\n",
       "      <td>911</td>\n",
       "      <td>42</td>\n",
       "      <td>101</td>\n",
       "      <td>000200</td>\n",
       "      <td>1</td>\n",
       "      <td>0.390819</td>\n",
       "      <td>0.609181</td>\n",
       "    </tr>\n",
       "  </tbody>\n",
       "</table>\n",
       "</div>"
      ],
      "text/plain": [
       "                                                NAME  totalPop  whitePop  \\\n",
       "0  Block Group 1, Census Tract 81.02, Philadelphi...       858         0   \n",
       "1  Block Group 5, Census Tract 81.02, Philadelphi...       894        11   \n",
       "2  Block Group 3, Census Tract 81.02, Philadelphi...       543         0   \n",
       "3  Block Group 2, Census Tract 248, Philadelphia ...      1109        26   \n",
       "4  Block Group 1, Census Tract 2, Philadelphia Co...      2331       911   \n",
       "\n",
       "  state county   tract block group  whitePercep  nonwhitePercep  \n",
       "0    42    101  008102           1     0.000000        1.000000  \n",
       "1    42    101  008102           5     0.012304        0.987696  \n",
       "2    42    101  008102           3     0.000000        1.000000  \n",
       "3    42    101  024800           2     0.023445        0.976555  \n",
       "4    42    101  000200           1     0.390819        0.609181  "
      ]
     },
     "execution_count": 28,
     "metadata": {},
     "output_type": "execute_result"
    }
   ],
   "source": [
    "censusRace2 = censusRace\n",
    "censusRace2['whitePop'] = pd.to_numeric(censusRace2['whitePop'], errors='ignore')\n",
    "censusRace2['totalPop'] = pd.to_numeric(censusRace2['totalPop'], errors='ignore')\n",
    "censusRace2['whitePercep'] = censusRace2['whitePop'] / censusRace2['totalPop'] \n",
    "censusRace2['nonwhitePercep'] = 1- censusRace2['whitePercep']\n",
    "censusRace2.head()"
   ]
  },
  {
   "cell_type": "code",
   "execution_count": 30,
   "id": "f6a72db5",
   "metadata": {},
   "outputs": [],
   "source": [
    "censusRace2.to_csv('censusRaceData.csv', index=False) "
   ]
  },
  {
   "cell_type": "markdown",
   "id": "8287d567",
   "metadata": {},
   "source": [
    "# 311 Complaints"
   ]
  },
  {
   "cell_type": "code",
   "execution_count": 3,
   "id": "dd901fa9",
   "metadata": {},
   "outputs": [],
   "source": [
    "complaint311 = pd.read_csv (\"downloaded_public_cases_fc.csv\")"
   ]
  },
  {
   "cell_type": "code",
   "execution_count": 4,
   "id": "e6d82d5d",
   "metadata": {},
   "outputs": [],
   "source": [
    "ndService=['Abandoned Vehicle','Graffiti Removal','Vacant House or Commercial','Street Light Outage','Traffic Signal Emergency','Dead Animal in Street', 'Street Defect','Vacant Lot Clean-Up', 'Alley Light Outage', 'Street Trees', 'Abandoned Bike',\n",
    "       'Complaint (Streets)', 'Street Paving', 'Tree Dangerous']"
   ]
  },
  {
   "cell_type": "code",
   "execution_count": 17,
   "id": "257ad746",
   "metadata": {},
   "outputs": [],
   "source": [
    "complaint311Filter = complaint311.query('service_name in @ndService')\n",
    "complaint311Filter = complaint311Filter[[\"service_request_id\",\"service_name\",\"agency_responsible\",\"lat\",\"lon\"]].dropna()"
   ]
  },
  {
   "cell_type": "code",
   "execution_count": 18,
   "id": "7c1ce4c0",
   "metadata": {},
   "outputs": [],
   "source": [
    "complaint311Filter['geometry'] = gpd.points_from_xy(complaint311Filter['lon'], complaint311Filter['lat'])\n",
    "complaint311Filter = gpd.GeoDataFrame(complaint311Filter, geometry='geometry', crs=\"EPSG:4326\")"
   ]
  },
  {
   "cell_type": "code",
   "execution_count": 19,
   "id": "7f1783f1",
   "metadata": {},
   "outputs": [
    {
     "data": {
      "text/plain": [
       "service_request_id    64523\n",
       "service_name          64523\n",
       "agency_responsible    64523\n",
       "lat                   64523\n",
       "lon                   64523\n",
       "geometry              64523\n",
       "dtype: int64"
      ]
     },
     "execution_count": 19,
     "metadata": {},
     "output_type": "execute_result"
    }
   ],
   "source": [
    "complaint311Filter.count()"
   ]
  },
  {
   "cell_type": "markdown",
   "id": "b2207aae",
   "metadata": {},
   "source": [
    "# Crime"
   ]
  },
  {
   "cell_type": "code",
   "execution_count": 1,
   "id": "e7c2d16a",
   "metadata": {},
   "outputs": [],
   "source": [
    "import carto2gpd"
   ]
  },
  {
   "cell_type": "code",
   "execution_count": 13,
   "id": "d14b61c0",
   "metadata": {},
   "outputs": [],
   "source": [
    "url = \"https://phl.carto.com/api/v2/sql\"\n",
    "table_name = \"incidents_part1_part2\"\n",
    "where = \"dispatch_date >= '2015-01-01' AND dispatch_date < '2016-01-01'\"\n",
    "crime = carto2gpd.get(url, table_name, where=where)"
   ]
  },
  {
   "cell_type": "code",
   "execution_count": 15,
   "id": "c2e80798",
   "metadata": {},
   "outputs": [],
   "source": [
    "crime = crime.drop(columns=[\"objectid\",\"dc_dist\",\"psa\",\"dc_key\",\"ucr_general\",\"point_x\",\"point_y\"])\n",
    "crime[\"count\"]=1\n",
    "#crime['geometry'] = gpd.points_from_xy(crime['point_x'], crime['point_y'])\n",
    "#crime = gpd.GeoDataFrame(crime, geometry='geometry', crs=\"EPSG:4326\")"
   ]
  },
  {
   "cell_type": "code",
   "execution_count": null,
   "id": "c02b7a51",
   "metadata": {},
   "outputs": [],
   "source": [
    "crime.rename(columns={\"crime\": \"text_general_code\"}, errors=\"raise\")"
   ]
  },
  {
   "cell_type": "code",
   "execution_count": 23,
   "id": "172439a8",
   "metadata": {},
   "outputs": [
    {
     "data": {
      "text/html": [
       "<div>\n",
       "<style scoped>\n",
       "    .dataframe tbody tr th:only-of-type {\n",
       "        vertical-align: middle;\n",
       "    }\n",
       "\n",
       "    .dataframe tbody tr th {\n",
       "        vertical-align: top;\n",
       "    }\n",
       "\n",
       "    .dataframe thead th {\n",
       "        text-align: right;\n",
       "    }\n",
       "</style>\n",
       "<table border=\"1\" class=\"dataframe\">\n",
       "  <thead>\n",
       "    <tr style=\"text-align: right;\">\n",
       "      <th></th>\n",
       "      <th>geometry</th>\n",
       "      <th>cartodb_id</th>\n",
       "      <th>dispatch_date_time</th>\n",
       "      <th>dispatch_date</th>\n",
       "      <th>dispatch_time</th>\n",
       "      <th>hour_</th>\n",
       "      <th>location_block</th>\n",
       "      <th>text_general_code</th>\n",
       "      <th>count</th>\n",
       "    </tr>\n",
       "  </thead>\n",
       "  <tbody>\n",
       "    <tr>\n",
       "      <th>0</th>\n",
       "      <td>POINT (-75.22059 39.91443)</td>\n",
       "      <td>14</td>\n",
       "      <td>2015-01-15T08:58:00Z</td>\n",
       "      <td>2015-01-15</td>\n",
       "      <td>08:58:00</td>\n",
       "      <td>8</td>\n",
       "      <td>6600 BLOCK ESSINGTON AVE</td>\n",
       "      <td>Burglary Non-Residential</td>\n",
       "      <td>1</td>\n",
       "    </tr>\n",
       "    <tr>\n",
       "      <th>1</th>\n",
       "      <td>POINT (-75.22059 39.91443)</td>\n",
       "      <td>15</td>\n",
       "      <td>2015-05-27T20:09:00Z</td>\n",
       "      <td>2015-05-27</td>\n",
       "      <td>20:09:00</td>\n",
       "      <td>20</td>\n",
       "      <td>6600 BLOCK ESSINGTON AVE</td>\n",
       "      <td>Aggravated Assault No Firearm</td>\n",
       "      <td>1</td>\n",
       "    </tr>\n",
       "    <tr>\n",
       "      <th>2</th>\n",
       "      <td>POINT (-75.22059 39.91443)</td>\n",
       "      <td>23</td>\n",
       "      <td>2015-01-11T14:38:00Z</td>\n",
       "      <td>2015-01-11</td>\n",
       "      <td>14:38:00</td>\n",
       "      <td>14</td>\n",
       "      <td>6600 BLOCK ESSINGTON AVE</td>\n",
       "      <td>Robbery Firearm</td>\n",
       "      <td>1</td>\n",
       "    </tr>\n",
       "    <tr>\n",
       "      <th>3</th>\n",
       "      <td>POINT (-75.06663 40.04926)</td>\n",
       "      <td>29</td>\n",
       "      <td>2015-04-15T11:14:00Z</td>\n",
       "      <td>2015-04-15</td>\n",
       "      <td>11:14:00</td>\n",
       "      <td>11</td>\n",
       "      <td>100 BLOCK S BROAD ST</td>\n",
       "      <td>Thefts</td>\n",
       "      <td>1</td>\n",
       "    </tr>\n",
       "    <tr>\n",
       "      <th>4</th>\n",
       "      <td>POINT (-75.16145 39.96233)</td>\n",
       "      <td>53</td>\n",
       "      <td>2015-01-31T12:45:00Z</td>\n",
       "      <td>2015-01-31</td>\n",
       "      <td>12:45:00</td>\n",
       "      <td>12</td>\n",
       "      <td>1400 BLOCK SPRING GARDEN ST 210</td>\n",
       "      <td>Thefts</td>\n",
       "      <td>1</td>\n",
       "    </tr>\n",
       "  </tbody>\n",
       "</table>\n",
       "</div>"
      ],
      "text/plain": [
       "                     geometry  cartodb_id    dispatch_date_time dispatch_date  \\\n",
       "0  POINT (-75.22059 39.91443)          14  2015-01-15T08:58:00Z    2015-01-15   \n",
       "1  POINT (-75.22059 39.91443)          15  2015-05-27T20:09:00Z    2015-05-27   \n",
       "2  POINT (-75.22059 39.91443)          23  2015-01-11T14:38:00Z    2015-01-11   \n",
       "3  POINT (-75.06663 40.04926)          29  2015-04-15T11:14:00Z    2015-04-15   \n",
       "4  POINT (-75.16145 39.96233)          53  2015-01-31T12:45:00Z    2015-01-31   \n",
       "\n",
       "  dispatch_time  hour_                   location_block  \\\n",
       "0      08:58:00      8         6600 BLOCK ESSINGTON AVE   \n",
       "1      20:09:00     20         6600 BLOCK ESSINGTON AVE   \n",
       "2      14:38:00     14         6600 BLOCK ESSINGTON AVE   \n",
       "3      11:14:00     11             100 BLOCK S BROAD ST   \n",
       "4      12:45:00     12  1400 BLOCK SPRING GARDEN ST 210   \n",
       "\n",
       "               text_general_code  count  \n",
       "0       Burglary Non-Residential      1  \n",
       "1  Aggravated Assault No Firearm      1  \n",
       "2                Robbery Firearm      1  \n",
       "3                         Thefts      1  \n",
       "4                         Thefts      1  "
      ]
     },
     "execution_count": 23,
     "metadata": {},
     "output_type": "execute_result"
    }
   ],
   "source": [
    "crime.head()"
   ]
  },
  {
   "cell_type": "code",
   "execution_count": 22,
   "id": "7c894e41",
   "metadata": {},
   "outputs": [],
   "source": [
    "crime.groupby(\"qct\").median(\"percentError%\")"
   ]
  }
 ],
 "metadata": {
  "kernelspec": {
   "display_name": "Python 3 (ipykernel)",
   "language": "python",
   "name": "python3"
  },
  "language_info": {
   "codemirror_mode": {
    "name": "ipython",
    "version": 3
   },
   "file_extension": ".py",
   "mimetype": "text/x-python",
   "name": "python",
   "nbconvert_exporter": "python",
   "pygments_lexer": "ipython3",
   "version": "3.8.12"
  }
 },
 "nbformat": 4,
 "nbformat_minor": 5
}
